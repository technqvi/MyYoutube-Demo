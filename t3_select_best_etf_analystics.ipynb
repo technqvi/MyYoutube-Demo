{
 "cells": [
  {
   "cell_type": "code",
   "execution_count": 3,
   "id": "02e5528e-b308-4da6-8bb9-583eed2e406b",
   "metadata": {},
   "outputs": [],
   "source": [
    "import numpy as np\n",
    "import pandas as pd\n",
    "import os\n",
    "from datetime import datetime,timedelta\n",
    "import math\n",
    "import matplotlib.pyplot as plt\n",
    "import seaborn  \n",
    "\n"
   ]
  },
  {
   "cell_type": "code",
   "execution_count": 4,
   "id": "313ee2b7-4696-4b41-8fa5-60bdd279fd77",
   "metadata": {},
   "outputs": [],
   "source": [
    "from_str='2022-01-01'\n",
    "to_str='2022-12-31'\n",
    "feq ='Q'  "
   ]
  },
  {
   "cell_type": "code",
   "execution_count": 5,
   "id": "77263cd3-d271-48da-9656-22a485be9bc1",
   "metadata": {},
   "outputs": [],
   "source": [
    "data_file='data/3CoreETFWorld.csv'\n",
    "report_path='report'\n",
    "title='3CoreETFWorld'\n",
    "\n"
   ]
  },
  {
   "cell_type": "code",
   "execution_count": 6,
   "id": "67befeee-c7a9-4893-91e0-49838927aaba",
   "metadata": {},
   "outputs": [
    {
     "name": "stdout",
     "output_type": "stream",
     "text": [
      "DatetimeIndex(['2022-03-31', '2022-06-30', '2022-09-30', '2022-12-31'], dtype='datetime64[ns]', freq='Q-DEC')\n"
     ]
    }
   ],
   "source": [
    "# build period datafrme\n",
    "period_index=pd.date_range(start=from_str,end=to_str, freq=feq)\n",
    "print(period_index)"
   ]
  },
  {
   "cell_type": "code",
   "execution_count": 9,
   "id": "82a6a7f5-4085-4c95-8393-b9ed7d745000",
   "metadata": {},
   "outputs": [
    {
     "data": {
      "text/html": [
       "<div>\n",
       "<style scoped>\n",
       "    .dataframe tbody tr th:only-of-type {\n",
       "        vertical-align: middle;\n",
       "    }\n",
       "\n",
       "    .dataframe tbody tr th {\n",
       "        vertical-align: top;\n",
       "    }\n",
       "\n",
       "    .dataframe thead th {\n",
       "        text-align: right;\n",
       "    }\n",
       "</style>\n",
       "<table border=\"1\" class=\"dataframe\">\n",
       "  <thead>\n",
       "    <tr style=\"text-align: right;\">\n",
       "      <th></th>\n",
       "      <th>Start_Date</th>\n",
       "      <th>End_Date</th>\n",
       "    </tr>\n",
       "  </thead>\n",
       "  <tbody>\n",
       "    <tr>\n",
       "      <th>0</th>\n",
       "      <td>NaN</td>\n",
       "      <td>2022-03-31</td>\n",
       "    </tr>\n",
       "    <tr>\n",
       "      <th>1</th>\n",
       "      <td>NaN</td>\n",
       "      <td>2022-06-30</td>\n",
       "    </tr>\n",
       "    <tr>\n",
       "      <th>2</th>\n",
       "      <td>NaN</td>\n",
       "      <td>2022-09-30</td>\n",
       "    </tr>\n",
       "    <tr>\n",
       "      <th>3</th>\n",
       "      <td>NaN</td>\n",
       "      <td>2022-12-31</td>\n",
       "    </tr>\n",
       "  </tbody>\n",
       "</table>\n",
       "</div>"
      ],
      "text/plain": [
       "   Start_Date   End_Date\n",
       "0         NaN 2022-03-31\n",
       "1         NaN 2022-06-30\n",
       "2         NaN 2022-09-30\n",
       "3         NaN 2022-12-31"
      ]
     },
     "execution_count": 9,
     "metadata": {},
     "output_type": "execute_result"
    }
   ],
   "source": [
    "fundPerfByPeriod_df=pd.DataFrame(data=list(period_index),columns=['End_Date'])\n",
    "fundPerfByPeriod_df['Start_Date']=np.nan\n",
    "fundPerfByPeriod_df=fundPerfByPeriod_df[['Start_Date','End_Date']]\n",
    "fundPerfByPeriod_df"
   ]
  },
  {
   "cell_type": "code",
   "execution_count": 11,
   "id": "479af760-5368-4ed0-8936-fd7aad579173",
   "metadata": {},
   "outputs": [
    {
     "name": "stdout",
     "output_type": "stream",
     "text": [
      "Create the first date of each Q by iteration\n",
      "<class 'pandas.core.frame.DataFrame'>\n",
      "RangeIndex: 4 entries, 0 to 3\n",
      "Data columns (total 2 columns):\n",
      " #   Column      Non-Null Count  Dtype         \n",
      "---  ------      --------------  -----         \n",
      " 0   Start_Date  4 non-null      object        \n",
      " 1   End_Date    4 non-null      datetime64[ns]\n",
      "dtypes: datetime64[ns](1), object(1)\n",
      "memory usage: 192.0+ bytes\n",
      "None\n"
     ]
    },
    {
     "data": {
      "text/html": [
       "<div>\n",
       "<style scoped>\n",
       "    .dataframe tbody tr th:only-of-type {\n",
       "        vertical-align: middle;\n",
       "    }\n",
       "\n",
       "    .dataframe tbody tr th {\n",
       "        vertical-align: top;\n",
       "    }\n",
       "\n",
       "    .dataframe thead th {\n",
       "        text-align: right;\n",
       "    }\n",
       "</style>\n",
       "<table border=\"1\" class=\"dataframe\">\n",
       "  <thead>\n",
       "    <tr style=\"text-align: right;\">\n",
       "      <th></th>\n",
       "      <th>Start_Date</th>\n",
       "      <th>End_Date</th>\n",
       "    </tr>\n",
       "  </thead>\n",
       "  <tbody>\n",
       "    <tr>\n",
       "      <th>0</th>\n",
       "      <td>2022-01-01 00:00:00</td>\n",
       "      <td>2022-03-31</td>\n",
       "    </tr>\n",
       "    <tr>\n",
       "      <th>1</th>\n",
       "      <td>2022-04-01 00:00:00</td>\n",
       "      <td>2022-06-30</td>\n",
       "    </tr>\n",
       "    <tr>\n",
       "      <th>2</th>\n",
       "      <td>2022-07-01 00:00:00</td>\n",
       "      <td>2022-09-30</td>\n",
       "    </tr>\n",
       "    <tr>\n",
       "      <th>3</th>\n",
       "      <td>2022-10-01 00:00:00</td>\n",
       "      <td>2022-12-31</td>\n",
       "    </tr>\n",
       "  </tbody>\n",
       "</table>\n",
       "</div>"
      ],
      "text/plain": [
       "            Start_Date   End_Date\n",
       "0  2022-01-01 00:00:00 2022-03-31\n",
       "1  2022-04-01 00:00:00 2022-06-30\n",
       "2  2022-07-01 00:00:00 2022-09-30\n",
       "3  2022-10-01 00:00:00 2022-12-31"
      ]
     },
     "execution_count": 11,
     "metadata": {},
     "output_type": "execute_result"
    }
   ],
   "source": [
    "print(f\"Create the first date of each {feq} by iteration\")\n",
    "for index,row in fundPerfByPeriod_df.iterrows():\n",
    "    if index==0:\n",
    "       fundPerfByPeriod_df.iloc[0,0]=datetime.strptime(from_str,'%Y-%m-%d')\n",
    "    else:\n",
    "        # get End_Date(last day of Year, Quater,Month) of previouse row \n",
    "        prev_end_date= fundPerfByPeriod_df.iloc[index-1,1] \n",
    "        start_date=prev_end_date + timedelta(days = 1) # \n",
    "        fundPerfByPeriod_df.iloc[index,0]=start_date \n",
    "    # print(fundPerfByPeriod_df) \n",
    "    # print(f\"=================index={index}=================\")\n",
    "print(fundPerfByPeriod_df.info())\n",
    "fundPerfByPeriod_df"
   ]
  },
  {
   "cell_type": "code",
   "execution_count": 13,
   "id": "ef515326-6c91-438c-be79-13ac6bf71c04",
   "metadata": {},
   "outputs": [
    {
     "name": "stdout",
     "output_type": "stream",
     "text": [
      "<class 'pandas.core.frame.DataFrame'>\n",
      "RangeIndex: 4 entries, 0 to 3\n",
      "Data columns (total 3 columns):\n",
      " #   Column      Non-Null Count  Dtype         \n",
      "---  ------      --------------  -----         \n",
      " 0   Start_Date  4 non-null      datetime64[ns]\n",
      " 1   End_Date    4 non-null      datetime64[ns]\n",
      " 2   Period      4 non-null      object        \n",
      "dtypes: datetime64[ns](2), object(1)\n",
      "memory usage: 224.0+ bytes\n"
     ]
    },
    {
     "data": {
      "text/html": [
       "<div>\n",
       "<style scoped>\n",
       "    .dataframe tbody tr th:only-of-type {\n",
       "        vertical-align: middle;\n",
       "    }\n",
       "\n",
       "    .dataframe tbody tr th {\n",
       "        vertical-align: top;\n",
       "    }\n",
       "\n",
       "    .dataframe thead th {\n",
       "        text-align: right;\n",
       "    }\n",
       "</style>\n",
       "<table border=\"1\" class=\"dataframe\">\n",
       "  <thead>\n",
       "    <tr style=\"text-align: right;\">\n",
       "      <th></th>\n",
       "      <th>Start_Date</th>\n",
       "      <th>End_Date</th>\n",
       "      <th>Period</th>\n",
       "    </tr>\n",
       "  </thead>\n",
       "  <tbody>\n",
       "    <tr>\n",
       "      <th>0</th>\n",
       "      <td>2022-01-01</td>\n",
       "      <td>2022-03-31</td>\n",
       "      <td>01Jan22-31Mar22</td>\n",
       "    </tr>\n",
       "    <tr>\n",
       "      <th>1</th>\n",
       "      <td>2022-04-01</td>\n",
       "      <td>2022-06-30</td>\n",
       "      <td>01Apr22-30Jun22</td>\n",
       "    </tr>\n",
       "    <tr>\n",
       "      <th>2</th>\n",
       "      <td>2022-07-01</td>\n",
       "      <td>2022-09-30</td>\n",
       "      <td>01Jul22-30Sep22</td>\n",
       "    </tr>\n",
       "    <tr>\n",
       "      <th>3</th>\n",
       "      <td>2022-10-01</td>\n",
       "      <td>2022-12-31</td>\n",
       "      <td>01Oct22-31Dec22</td>\n",
       "    </tr>\n",
       "  </tbody>\n",
       "</table>\n",
       "</div>"
      ],
      "text/plain": [
       "  Start_Date   End_Date           Period\n",
       "0 2022-01-01 2022-03-31  01Jan22-31Mar22\n",
       "1 2022-04-01 2022-06-30  01Apr22-30Jun22\n",
       "2 2022-07-01 2022-09-30  01Jul22-30Sep22\n",
       "3 2022-10-01 2022-12-31  01Oct22-31Dec22"
      ]
     },
     "execution_count": 13,
     "metadata": {},
     "output_type": "execute_result"
    }
   ],
   "source": [
    "fundPerfByPeriod_df['Start_Date']=pd.to_datetime(fundPerfByPeriod_df['Start_Date'],format='%Y-%m-%d %H:%M:%S')  \n",
    "\n",
    "fundPerfByPeriod_df['Period']= fundPerfByPeriod_df.apply( lambda item:f\"{item['Start_Date'].strftime('%d')}{item['Start_Date'].strftime('%b')}{item['Start_Date'].strftime('%y')}-{item['End_Date'].strftime('%d')}{item['End_Date'].strftime('%b')}{item['End_Date'].strftime('%y')}\"  ,axis=1  )\n",
    "fundPerfByPeriod_df.info()\n",
    "fundPerfByPeriod_df"
   ]
  },
  {
   "cell_type": "code",
   "execution_count": 14,
   "id": "5231d4b4-56ce-49f6-9120-09a8a9cd04dc",
   "metadata": {},
   "outputs": [
    {
     "name": "stdout",
     "output_type": "stream",
     "text": [
      "<class 'pandas.core.frame.DataFrame'>\n",
      "DatetimeIndex: 1602 entries, 2021-01-04 to 2023-02-15\n",
      "Data columns (total 2 columns):\n",
      " #   Column  Non-Null Count  Dtype  \n",
      "---  ------  --------------  -----  \n",
      " 0   symbol  1602 non-null   object \n",
      " 1   price   1602 non-null   float64\n",
      "dtypes: float64(1), object(1)\n",
      "memory usage: 37.5+ KB\n",
      "           symbol   price\n",
      "date                     \n",
      "2023-02-09    QQQ  301.68\n",
      "2023-02-10    QQQ  299.70\n",
      "2023-02-13    QQQ  304.50\n",
      "2023-02-14    QQQ  306.75\n",
      "2023-02-15    QQQ  309.10\n"
     ]
    }
   ],
   "source": [
    "df = pd.read_csv(data_file,index_col='Date/Time',parse_dates=['Date/Time'],dayfirst=True)\n",
    "df.index.set_names('date',inplace=True)\n",
    "df.rename(columns={'Ticker':'symbol','close':'price'},inplace=True)\n",
    "df=df[['symbol','price']]\n",
    "df.info()\n",
    "print(df.tail(5))"
   ]
  },
  {
   "cell_type": "code",
   "execution_count": 15,
   "id": "d34ec6ed-d3ce-42b6-9cf1-ee46d422be7e",
   "metadata": {},
   "outputs": [
    {
     "name": "stdout",
     "output_type": "stream",
     "text": [
      "['ACWI', 'SPY', 'QQQ']\n"
     ]
    }
   ],
   "source": [
    "list_fund_name=df['symbol'].unique().tolist()  \n",
    "print(list_fund_name)"
   ]
  },
  {
   "cell_type": "code",
   "execution_count": 16,
   "id": "1ea57804-955c-435c-a249-05175d5be205",
   "metadata": {},
   "outputs": [
    {
     "name": "stdout",
     "output_type": "stream",
     "text": [
      "=======ACWI : 251==========\n",
      "            price\n",
      "date             \n",
      "2022-12-28  83.93\n",
      "2022-12-29  85.39\n",
      "2022-12-30  84.88\n",
      "=======SPY : 251==========\n",
      "             price\n",
      "date              \n",
      "2022-12-28  376.66\n",
      "2022-12-29  383.44\n",
      "2022-12-30  382.43\n",
      "=======QQQ : 251==========\n",
      "             price\n",
      "date              \n",
      "2022-12-28  260.10\n",
      "2022-12-29  266.44\n",
      "2022-12-30  266.28\n"
     ]
    }
   ],
   "source": [
    "dictPriceOfFund={}\n",
    "for name in list_fund_name:\n",
    "  fund_df=df.query('symbol==@name')\n",
    "  fund_df=fund_df.loc[from_str:to_str,['price']]\n",
    "  fund_df.sort_index(inplace=True)\n",
    "  if len(fund_df)  >0:\n",
    "      dictPriceOfFund[name]=fund_df  \n",
    "      print(f\"======={name} : {len(fund_df)}==========\")  \n",
    "      print(fund_df.tail(3))    \n",
    "        "
   ]
  },
  {
   "cell_type": "code",
   "execution_count": null,
   "id": "5929ab74-2cc8-4dc4-9acc-f4adc203c7d1",
   "metadata": {},
   "outputs": [],
   "source": []
  }
 ],
 "metadata": {
  "kernelspec": {
   "display_name": "Python 3 (ipykernel)",
   "language": "python",
   "name": "python3"
  },
  "language_info": {
   "codemirror_mode": {
    "name": "ipython",
    "version": 3
   },
   "file_extension": ".py",
   "mimetype": "text/x-python",
   "name": "python",
   "nbconvert_exporter": "python",
   "pygments_lexer": "ipython3",
   "version": "3.9.12"
  }
 },
 "nbformat": 4,
 "nbformat_minor": 5
}
