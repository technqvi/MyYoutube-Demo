{
 "cells": [
  {
   "cell_type": "code",
   "execution_count": 1,
   "id": "efd54814-e227-4302-9a81-3d6ddcf0e9a5",
   "metadata": {},
   "outputs": [
    {
     "name": "stdout",
     "output_type": "stream",
     "text": [
      "2.11.0\n"
     ]
    }
   ],
   "source": [
    "# import necessary libraries\n",
    "\n",
    "#https://github.com/GoogleCloudPlatform/training-data-analyst/blob/master/courses/machine_learning/deepdive2/introduction_to_tensorflow/solutions/preprocessing_layers.ipynb\n",
    "#https://github.com/GoogleCloudPlatform/vertex-ai-samples/blob/main/notebooks/official/custom/custom-tabular-bq-managed-dataset.ipynb\n",
    "#https://keras.io/guides/preprocessing_layers/\n",
    "#https://www.tensorflow.org/guide/keras/preprocessing_layers\n",
    "\n",
    "import numpy as np\n",
    "import pandas as pd\n",
    "from datetime import date, timedelta, datetime # Date Functions\n",
    "import time\n",
    "import math\n",
    "\n",
    "\n",
    "import matplotlib.pyplot as plt\n",
    "import seaborn as sns\n",
    "\n",
    "import tensorflow as tf\n",
    "from tensorflow.keras import Sequential\n",
    "from tensorflow.keras.layers import Dense,DenseFeatures\n",
    "from tensorflow.keras import layers\n",
    "from tensorflow.keras.layers.experimental import preprocessing\n",
    "from tensorflow.python.keras.utils import data_utils\n",
    "\n",
    "\n",
    "from google.cloud import bigquery\n",
    "\n",
    "print(tf.__version__)"
   ]
  },
  {
   "cell_type": "code",
   "execution_count": 2,
   "id": "d28a9538-ca23-45f0-817b-e4b067cf9ab3",
   "metadata": {},
   "outputs": [],
   "source": [
    "cateCols=['sla','product_type','brand','service_type','incident_type']\n",
    "\n",
    "numbericCols=['open_to_close_hour','response_to_resolved_hour']\n",
    "\n",
    "unusedCols=['severity_id','severity_name','label_binary_severity']\n",
    "\n",
    "\n",
    "labelCol='label_multi_severity'\n",
    "\n",
    "model_dir='model' # demo\n",
    "\n",
    "\n",
    "main_metric='accuracy'\n",
    "main_objective=f'val_{main_metric}'\n",
    "\n",
    "nEarlyPatience=10\n",
    "\n",
    "# Load data from BigQuery\n",
    "projectId='pongthorn'\n",
    "dataset_id='DemoSMartDW'\n",
    " "
   ]
  },
  {
   "cell_type": "markdown",
   "id": "3c0aa901-563f-4d2c-9203-67175431c32f",
   "metadata": {},
   "source": [
    "# Load Data"
   ]
  },
  {
   "cell_type": "code",
   "execution_count": 3,
   "id": "c09b03b7-3e9d-4f25-b8c8-5d8cd615afce",
   "metadata": {},
   "outputs": [],
   "source": [
    "def load_ml_data(data_path):\n",
    " df=pd.read_csv(data_path)\n",
    " df =df.drop(columns=unusedCols)\n",
    " return df\n",
    "\n",
    "def load_data_bq(sql:str):\n",
    " client_bq = bigquery.Client()\n",
    " query_result=client_bq.query(sql)\n",
    " df=query_result.to_dataframe()\n",
    " df =df.drop(columns=unusedCols)\n",
    " return df"
   ]
  },
  {
   "cell_type": "code",
   "execution_count": 4,
   "id": "ecca0ccf-76eb-4570-a39e-e3179851171f",
   "metadata": {},
   "outputs": [],
   "source": [
    "train_name='train_incident'\n",
    "validation_name='validation_incident'\n",
    "test_name='test_incident'"
   ]
  },
  {
   "cell_type": "code",
   "execution_count": 5,
   "id": "5ddea3e1-b732-48c4-95fc-637108802a2c",
   "metadata": {},
   "outputs": [
    {
     "name": "stdout",
     "output_type": "stream",
     "text": [
      "pongthorn.DemoSMartDW.train_incident - pongthorn.DemoSMartDW.validation_incident - pongthorn.DemoSMartDW.test_incident\n",
      "(1814, 8)\n",
      "(227, 8)\n",
      "(227, 8)\n"
     ]
    }
   ],
   "source": [
    "\n",
    "\n",
    "train_table_id=f\"{projectId}.{dataset_id}.{train_name}\"\n",
    "val_tabel_id=f\"{projectId}.{dataset_id}.{validation_name}\"\n",
    "test_tabel_id=f\"{projectId}.{dataset_id}.{test_name}\"\n",
    "print(f\"{train_table_id} - {val_tabel_id} - {test_tabel_id}\")\n",
    "\n",
    "client = bigquery.Client(project=projectId)\n",
    "\n",
    "train=load_data_bq(f\"SELECT * FROM {train_table_id}\")\n",
    "val=load_data_bq(f\"SELECT * FROM {val_tabel_id}\")\n",
    "test=load_data_bq(f\"SELECT * FROM {test_tabel_id}\")\n",
    "\n",
    "# Load data from CSV File\n",
    "# root_path='../../data'    \n",
    "# train = load_ml_data(f\"{root_path}/{train_name}.csv\")\n",
    "# val=load_ml_data(f\"{root_path}/{validation_name}.csv\")\n",
    "# test =load_ml_data(f\"{root_path}/{test_name}.csv\")\n",
    "\n",
    "print(train.shape)\n",
    "print(val.shape)\n",
    "print(test.shape)\n"
   ]
  },
  {
   "cell_type": "code",
   "execution_count": 6,
   "id": "1bcdca62-5198-4d5d-8704-b42fa468a47b",
   "metadata": {},
   "outputs": [
    {
     "name": "stdout",
     "output_type": "stream",
     "text": [
      "List All Label: [0, 1, 2, 3]\n",
      "No target label : 4\n",
      "<class 'pandas.core.frame.DataFrame'>\n",
      "RangeIndex: 1814 entries, 0 to 1813\n",
      "Data columns (total 8 columns):\n",
      " #   Column                     Non-Null Count  Dtype  \n",
      "---  ------                     --------------  -----  \n",
      " 0   sla                        1814 non-null   object \n",
      " 1   product_type               1814 non-null   object \n",
      " 2   brand                      1814 non-null   object \n",
      " 3   service_type               1814 non-null   object \n",
      " 4   incident_type              1814 non-null   object \n",
      " 5   open_to_close_hour         1814 non-null   float64\n",
      " 6   response_to_resolved_hour  1814 non-null   float64\n",
      " 7   label_multi_severity       1814 non-null   Int64  \n",
      "dtypes: Int64(1), float64(2), object(5)\n",
      "memory usage: 115.3+ KB\n",
      "None\n"
     ]
    },
    {
     "data": {
      "text/html": [
       "<div>\n",
       "<style scoped>\n",
       "    .dataframe tbody tr th:only-of-type {\n",
       "        vertical-align: middle;\n",
       "    }\n",
       "\n",
       "    .dataframe tbody tr th {\n",
       "        vertical-align: top;\n",
       "    }\n",
       "\n",
       "    .dataframe thead th {\n",
       "        text-align: right;\n",
       "    }\n",
       "</style>\n",
       "<table border=\"1\" class=\"dataframe\">\n",
       "  <thead>\n",
       "    <tr style=\"text-align: right;\">\n",
       "      <th></th>\n",
       "      <th>sla</th>\n",
       "      <th>product_type</th>\n",
       "      <th>brand</th>\n",
       "      <th>service_type</th>\n",
       "      <th>incident_type</th>\n",
       "      <th>open_to_close_hour</th>\n",
       "      <th>response_to_resolved_hour</th>\n",
       "      <th>label_multi_severity</th>\n",
       "    </tr>\n",
       "  </thead>\n",
       "  <tbody>\n",
       "    <tr>\n",
       "      <th>793</th>\n",
       "      <td>24x7 4Hrs Resolution Time</td>\n",
       "      <td>Access Point</td>\n",
       "      <td>Cisco</td>\n",
       "      <td>Incident</td>\n",
       "      <td>Configuration Change</td>\n",
       "      <td>0.500000</td>\n",
       "      <td>0.500000</td>\n",
       "      <td>0</td>\n",
       "    </tr>\n",
       "    <tr>\n",
       "      <th>1068</th>\n",
       "      <td>24x7 4Hrs Response Time</td>\n",
       "      <td>Storage</td>\n",
       "      <td>NetApp</td>\n",
       "      <td>Request</td>\n",
       "      <td>General Incident</td>\n",
       "      <td>663.933333</td>\n",
       "      <td>26.716667</td>\n",
       "      <td>1</td>\n",
       "    </tr>\n",
       "    <tr>\n",
       "      <th>998</th>\n",
       "      <td>24x7 4Hrs Response Time</td>\n",
       "      <td>Storage</td>\n",
       "      <td>NetApp</td>\n",
       "      <td>Request</td>\n",
       "      <td>General Incident</td>\n",
       "      <td>2022.583333</td>\n",
       "      <td>1941.966667</td>\n",
       "      <td>1</td>\n",
       "    </tr>\n",
       "    <tr>\n",
       "      <th>770</th>\n",
       "      <td>24x7 4Hrs Resolution Time</td>\n",
       "      <td>Switch</td>\n",
       "      <td>Cisco</td>\n",
       "      <td>Request</td>\n",
       "      <td>General Incident</td>\n",
       "      <td>45.316667</td>\n",
       "      <td>42.333333</td>\n",
       "      <td>1</td>\n",
       "    </tr>\n",
       "    <tr>\n",
       "      <th>52</th>\n",
       "      <td>24x7 4Hrs Resolution Time</td>\n",
       "      <td>Storage</td>\n",
       "      <td>HPE</td>\n",
       "      <td>Incident</td>\n",
       "      <td>Hard Disk Drive Failure</td>\n",
       "      <td>5.116667</td>\n",
       "      <td>5.016667</td>\n",
       "      <td>3</td>\n",
       "    </tr>\n",
       "    <tr>\n",
       "      <th>1782</th>\n",
       "      <td>24x7 4Hrs Resolution Time</td>\n",
       "      <td>Firewall</td>\n",
       "      <td>Palo Alto</td>\n",
       "      <td>Incident</td>\n",
       "      <td>General Incident</td>\n",
       "      <td>0.833333</td>\n",
       "      <td>0.750000</td>\n",
       "      <td>2</td>\n",
       "    </tr>\n",
       "    <tr>\n",
       "      <th>733</th>\n",
       "      <td>24x7 6Hrs Resolution Time</td>\n",
       "      <td>Server</td>\n",
       "      <td>DELL</td>\n",
       "      <td>Request</td>\n",
       "      <td>General Incident</td>\n",
       "      <td>137.883333</td>\n",
       "      <td>3.000000</td>\n",
       "      <td>0</td>\n",
       "    </tr>\n",
       "    <tr>\n",
       "      <th>1337</th>\n",
       "      <td>24x7 4Hrs Resolution Time</td>\n",
       "      <td>Software</td>\n",
       "      <td>VMWare</td>\n",
       "      <td>Incident</td>\n",
       "      <td>Software</td>\n",
       "      <td>26.800000</td>\n",
       "      <td>26.583333</td>\n",
       "      <td>2</td>\n",
       "    </tr>\n",
       "    <tr>\n",
       "      <th>1759</th>\n",
       "      <td>24x7 4Hrs Resolution Time</td>\n",
       "      <td>Firewall</td>\n",
       "      <td>Palo Alto</td>\n",
       "      <td>Incident</td>\n",
       "      <td>Software</td>\n",
       "      <td>0.366667</td>\n",
       "      <td>0.333333</td>\n",
       "      <td>2</td>\n",
       "    </tr>\n",
       "    <tr>\n",
       "      <th>1</th>\n",
       "      <td>8x5 4Hrs Response Time</td>\n",
       "      <td>Software</td>\n",
       "      <td>Microsoft</td>\n",
       "      <td>Request</td>\n",
       "      <td>General Incident</td>\n",
       "      <td>16.000000</td>\n",
       "      <td>13.500000</td>\n",
       "      <td>2</td>\n",
       "    </tr>\n",
       "  </tbody>\n",
       "</table>\n",
       "</div>"
      ],
      "text/plain": [
       "                            sla  product_type      brand service_type  \\\n",
       "793   24x7 4Hrs Resolution Time  Access Point      Cisco     Incident   \n",
       "1068    24x7 4Hrs Response Time       Storage     NetApp      Request   \n",
       "998     24x7 4Hrs Response Time       Storage     NetApp      Request   \n",
       "770   24x7 4Hrs Resolution Time        Switch      Cisco      Request   \n",
       "52    24x7 4Hrs Resolution Time       Storage        HPE     Incident   \n",
       "1782  24x7 4Hrs Resolution Time      Firewall  Palo Alto     Incident   \n",
       "733   24x7 6Hrs Resolution Time        Server       DELL      Request   \n",
       "1337  24x7 4Hrs Resolution Time      Software     VMWare     Incident   \n",
       "1759  24x7 4Hrs Resolution Time      Firewall  Palo Alto     Incident   \n",
       "1        8x5 4Hrs Response Time      Software  Microsoft      Request   \n",
       "\n",
       "                incident_type  open_to_close_hour  response_to_resolved_hour  \\\n",
       "793      Configuration Change            0.500000                   0.500000   \n",
       "1068         General Incident          663.933333                  26.716667   \n",
       "998          General Incident         2022.583333                1941.966667   \n",
       "770          General Incident           45.316667                  42.333333   \n",
       "52    Hard Disk Drive Failure            5.116667                   5.016667   \n",
       "1782         General Incident            0.833333                   0.750000   \n",
       "733          General Incident          137.883333                   3.000000   \n",
       "1337                 Software           26.800000                  26.583333   \n",
       "1759                 Software            0.366667                   0.333333   \n",
       "1            General Incident           16.000000                  13.500000   \n",
       "\n",
       "      label_multi_severity  \n",
       "793                      0  \n",
       "1068                     1  \n",
       "998                      1  \n",
       "770                      1  \n",
       "52                       3  \n",
       "1782                     2  \n",
       "733                      0  \n",
       "1337                     2  \n",
       "1759                     2  \n",
       "1                        2  "
      ]
     },
     "execution_count": 6,
     "metadata": {},
     "output_type": "execute_result"
    }
   ],
   "source": [
    "\n",
    "labelList=list(train[labelCol].unique())\n",
    "print(\"List All Label:\" ,sorted(labelList))\n",
    "nLabel=len(labelList)\n",
    "print(f\"No target label : {nLabel}\")\n",
    "                 \n",
    "print(train.info())\n",
    "train.sample(10)"
   ]
  },
  {
   "cell_type": "code",
   "execution_count": 7,
   "id": "64adbe5e-d737-45a4-a04e-340a2926ad2d",
   "metadata": {},
   "outputs": [
    {
     "data": {
      "text/html": [
       "<div>\n",
       "<style scoped>\n",
       "    .dataframe tbody tr th:only-of-type {\n",
       "        vertical-align: middle;\n",
       "    }\n",
       "\n",
       "    .dataframe tbody tr th {\n",
       "        vertical-align: top;\n",
       "    }\n",
       "\n",
       "    .dataframe thead th {\n",
       "        text-align: right;\n",
       "    }\n",
       "</style>\n",
       "<table border=\"1\" class=\"dataframe\">\n",
       "  <thead>\n",
       "    <tr style=\"text-align: right;\">\n",
       "      <th></th>\n",
       "      <th>Train-No-Severity</th>\n",
       "      <th>Train-%-Severity</th>\n",
       "      <th>Val-No-Severity</th>\n",
       "      <th>Val-%-Severity</th>\n",
       "      <th>Test-No-Severity</th>\n",
       "      <th>Test-%-Severity</th>\n",
       "    </tr>\n",
       "    <tr>\n",
       "      <th>label_multi_severity</th>\n",
       "      <th></th>\n",
       "      <th></th>\n",
       "      <th></th>\n",
       "      <th></th>\n",
       "      <th></th>\n",
       "      <th></th>\n",
       "    </tr>\n",
       "  </thead>\n",
       "  <tbody>\n",
       "    <tr>\n",
       "      <th>0</th>\n",
       "      <td>323</td>\n",
       "      <td>18.0</td>\n",
       "      <td>50</td>\n",
       "      <td>22.0</td>\n",
       "      <td>39</td>\n",
       "      <td>17.0</td>\n",
       "    </tr>\n",
       "    <tr>\n",
       "      <th>1</th>\n",
       "      <td>529</td>\n",
       "      <td>29.0</td>\n",
       "      <td>63</td>\n",
       "      <td>28.0</td>\n",
       "      <td>68</td>\n",
       "      <td>30.0</td>\n",
       "    </tr>\n",
       "    <tr>\n",
       "      <th>2</th>\n",
       "      <td>876</td>\n",
       "      <td>48.0</td>\n",
       "      <td>101</td>\n",
       "      <td>44.0</td>\n",
       "      <td>109</td>\n",
       "      <td>48.0</td>\n",
       "    </tr>\n",
       "    <tr>\n",
       "      <th>3</th>\n",
       "      <td>86</td>\n",
       "      <td>5.0</td>\n",
       "      <td>13</td>\n",
       "      <td>6.0</td>\n",
       "      <td>11</td>\n",
       "      <td>5.0</td>\n",
       "    </tr>\n",
       "  </tbody>\n",
       "</table>\n",
       "</div>"
      ],
      "text/plain": [
       "                      Train-No-Severity  Train-%-Severity  Val-No-Severity  \\\n",
       "label_multi_severity                                                         \n",
       "0                                   323              18.0               50   \n",
       "1                                   529              29.0               63   \n",
       "2                                   876              48.0              101   \n",
       "3                                    86               5.0               13   \n",
       "\n",
       "                      Val-%-Severity  Test-No-Severity  Test-%-Severity  \n",
       "label_multi_severity                                                     \n",
       "0                               22.0                39             17.0  \n",
       "1                               28.0                68             30.0  \n",
       "2                               44.0               109             48.0  \n",
       "3                                6.0                11              5.0  "
      ]
     },
     "execution_count": 7,
     "metadata": {},
     "output_type": "execute_result"
    }
   ],
   "source": [
    "# Percentage of each severity\n",
    "def CalPctEachTargetClass(dfx,colSev,colPctSev):\n",
    "    dfClassSummary=dfx.groupby([labelCol]).size().to_frame(colSev)\n",
    "    dfClassSummary[colPctSev]= dfClassSummary[colSev]/dfClassSummary[colSev].sum() *100\n",
    "    dfClassSummary=dfClassSummary.round(0)\n",
    "    return dfClassSummary\n",
    "\n",
    "pctDF1=CalPctEachTargetClass(train,'Train-No-Severity','Train-%-Severity')\n",
    "pctDF2=CalPctEachTargetClass(val,'Val-No-Severity','Val-%-Severity')\n",
    "pdcDF3=CalPctEachTargetClass(test,'Test-No-Severity','Test-%-Severity')\n",
    "pctDF=pd.concat([pctDF1,pctDF2,pdcDF3],axis=1)\n",
    "\n",
    "pctDF"
   ]
  },
  {
   "cell_type": "code",
   "execution_count": 8,
   "id": "c59e9916-6668-4c4e-8974-af63c3f840b0",
   "metadata": {},
   "outputs": [
    {
     "data": {
      "image/png": "[encoded data removed]",
      "text/plain": [
       "<Figure size 800x500 with 1 Axes>"
      ]
     },
     "metadata": {},
     "output_type": "display_data"
    },
    {
     "data": {
      "image/png": "[encoded data removed]",
      "text/plain": [
       "<Figure size 800x500 with 1 Axes>"
      ]
     },
     "metadata": {},
     "output_type": "display_data"
    },
    {
     "data": {
      "image/png": "[encoded data removed]",
      "text/plain": [
       "<Figure size 800x500 with 1 Axes>"
      ]
     },
     "metadata": {},
     "output_type": "display_data"
    }
   ],
   "source": [
    "def plot_class(df):\n",
    "    fig , ax = plt.subplots(figsize=(8,5))\n",
    "    ax =sns.countplot(x=labelCol, data=df,)\n",
    "    for p in ax.patches:\n",
    "       ax.annotate('{:.1f}'.format(p.get_height()), (p.get_x()+0.25, p.get_height()+0.01))\n",
    "    plt.title(labelCol.title())\n",
    "    plt.show()\n",
    "    \n",
    "plot_class(train)\n",
    "plot_class(val)\n",
    "plot_class(test)"
   ]
  },
  {
   "cell_type": "markdown",
   "id": "fa30d3fd-14e9-4c3d-a6aa-45d8114f5362",
   "metadata": {},
   "source": [
    "# Process Data  Layer"
   ]
  },
  {
   "cell_type": "code",
   "execution_count": 9,
   "id": "d9d3a943-09d5-4a43-b8d8-633bc4a90353",
   "metadata": {},
   "outputs": [],
   "source": [
    "# dataframe to  tf.data\n",
    "def multiple_label_df_to_dataset(dataframe, shuffle=True, batch_size=32):\n",
    "  features = dataframe.copy()\n",
    "  labels = features.pop(labelCol)\n",
    "  labels  = tf.keras.utils.to_categorical(labels, num_classes=nLabel)\n",
    "    \n",
    "  ds = tf.data.Dataset.from_tensor_slices(( dict(features), labels ))\n",
    "  if shuffle:\n",
    "    ds = ds.shuffle(buffer_size=len(features))\n",
    "  ds = ds.batch(batch_size)\n",
    "  ds = ds.prefetch(batch_size)\n",
    "  return ds\n",
    "     \n",
    "     "
   ]
  },
  {
   "cell_type": "code",
   "execution_count": 10,
   "id": "274122c2-9481-438b-b637-6e6ad393d809",
   "metadata": {},
   "outputs": [
    {
     "name": "stdout",
     "output_type": "stream",
     "text": [
      "Explore Data from Tensor before keras data processing\n",
      "========Features==========\n",
      "Every feature: ['sla', 'product_type', 'brand', 'service_type', 'incident_type', 'open_to_close_hour', 'response_to_resolved_hour']\n",
      "product_type: tf.Tensor([b'Software' b'Server' b'Storage'], shape=(3,), dtype=string)\n",
      "open_to_close_hour: tf.Tensor([   7.43333333 1370.36666667 1334.75      ], shape=(3,), dtype=float64)\n",
      "========Labels==========\n",
      "[[0. 0. 1. 0.]\n",
      " [0. 0. 1. 0.]\n",
      " [0. 0. 1. 0.]]\n"
     ]
    }
   ],
   "source": [
    "# Tensorflow format\n",
    "print(\"Explore Data from Tensor before keras data processing\")\n",
    "batch_size = 3  # list 3 sample data\n",
    "train_ds =multiple_label_df_to_dataset(train, batch_size=batch_size)\n",
    "\n",
    "[(train_features, label_batch)] = train_ds.take(1)\n",
    "print(\"========Features==========\")\n",
    "print('Every feature:', list(train_features.keys()))\n",
    "print('product_type:', train_features['product_type'])  # sample cate feature\n",
    "print('open_to_close_hour:', train_features['open_to_close_hour'])  # sample numberic feature\n",
    "print(\"========Labels==========\")\n",
    "print(f'{label_batch }')"
   ]
  },
  {
   "cell_type": "markdown",
   "id": "ff857f1a-7341-410e-8c98-33106594dc37",
   "metadata": {},
   "source": [
    "##Process data to do  normalization and one-hot by Scikit-Learn\n",
    "[http://localhost:8888/lab/tree/MyQuantFinProject/MyYoutube-Demo/google_data_ai/t3-transform-data.ipynb](t3-transform-data.ipynb)"
   ]
  },
  {
   "cell_type": "code",
   "execution_count": 11,
   "id": "02ad8837-968e-4d68-bdb6-1c7eba97e69c",
   "metadata": {},
   "outputs": [],
   "source": [
    "# Normalizaton and categorical Endcoding\n",
    "\n",
    "def get_normalization_layer(name, dataset):\n",
    "  # Create a Normalization layer for our feature.\n",
    "  normalizer = preprocessing.Normalization(axis=None)\n",
    "\n",
    "  # Prepare a Dataset that only yields our feature.\n",
    "  feature_ds = dataset.map(lambda x, y: x[name])\n",
    "\n",
    "  # Learn the statistics of the data.\n",
    "  normalizer.adapt(feature_ds)\n",
    "\n",
    "  return normalizer"
   ]
  },
  {
   "cell_type": "code",
   "execution_count": 12,
   "id": "237bce3c-9c77-4318-8682-fc36af0a6804",
   "metadata": {},
   "outputs": [],
   "source": [
    "def get_category_encoding_layer(name, dataset, dtype, max_tokens=None):\n",
    "  # Create a StringLookup layer which will turn strings into integer indices\n",
    "  if dtype == 'string':\n",
    "    index = preprocessing.StringLookup(max_tokens=max_tokens)\n",
    "  else:\n",
    "    index = preprocessing.IntegerLookup(max_tokens=max_tokens)\n",
    "\n",
    "  # Prepare a Dataset that only yields our feature\n",
    "  feature_ds = dataset.map(lambda x, y: x[name])\n",
    "\n",
    "  # Learn the set of possible values and assign them a fixed integer index.\n",
    "  index.adapt(feature_ds)\n",
    "\n",
    "  # Create a Discretization for our integer indices.\n",
    "  encoder = preprocessing.CategoryEncoding(num_tokens=index.vocabulary_size())\n",
    "\n",
    "  # Apply one-hot encoding to our indices. The lambda function captures the\n",
    "  # layer so we can use them, or include them in the functional model later.\n",
    "  return lambda feature: encoder(index(feature))\n",
    "     "
   ]
  },
  {
   "cell_type": "code",
   "execution_count": 13,
   "id": "a5c78f01-000a-4d3e-9fbf-6f4660cfb75b",
   "metadata": {},
   "outputs": [],
   "source": [
    "batch_size =32\n",
    "train_ds = multiple_label_df_to_dataset (train, batch_size=batch_size)\n",
    "val_ds = multiple_label_df_to_dataset(val, batch_size=batch_size)\n",
    "test_ds = multiple_label_df_to_dataset(test, batch_size=batch_size)\n",
    "\n",
    "\n"
   ]
  },
  {
   "cell_type": "code",
   "execution_count": 14,
   "id": "723a69b6-d9c1-49d9-bc81-ed421d8700cb",
   "metadata": {},
   "outputs": [
    {
     "name": "stdout",
     "output_type": "stream",
     "text": [
      "open_to_close_hour: Mean=96.70577912532157 and Std=264.30857031412927\n",
      "WARNING:tensorflow:From D:\\ProgramData\\Anaconda3\\envs\\dev_google\\lib\\site-packages\\tensorflow\\python\\autograph\\pyct\\static_analysis\\liveness.py:83: Analyzer.lamba_check (from tensorflow.python.autograph.pyct.static_analysis.liveness) is deprecated and will be removed after 2023-09-23.\n",
      "Instructions for updating:\n",
      "Lambda fuctions will be no more assumed to be used in the statement where they are used, or at least in the same block. https://github.com/tensorflow/tensorflow/issues/56089\n",
      "response_to_resolved_hour: Mean=69.23291988239617 and Std=210.15946331055562\n",
      "sla = 7 : ['24x7 4Hrs Resolution Time' '8x5 4Hrs Response Time'\n",
      " '24x7 6Hrs Resolution Time' '24x7 4Hrs Response Time'\n",
      " '9x5xNBD 4Hrs Response Time' '24x7 6Hrs Response Time' 'Non MA']\n",
      "sla\n",
      "product_type = 10 : ['Server' 'Software' 'Other' 'Firewall' 'Hardware' 'Storage' 'Switch'\n",
      " 'Access Point' 'Security' 'Tape Library']\n",
      "product_type\n",
      "brand = 23 : ['IBM' 'Microsoft' 'F5' 'Nutanix' 'CheckPoint' 'Broadcom' 'CIMCO-CMMS'\n",
      " 'eUnite' 'Fortinet' 'EMC' 'HPE' 'YIP' 'DELL' 'Cisco' 'SAPB1' 'Veeam'\n",
      " 'NetApp' 'Oracle' 'VMWare' 'Red Hat' 'Veritas' 'Palo Alto' 'Trend Micro']\n",
      "brand\n",
      "service_type = 2 : ['Incident' 'Request']\n",
      "service_type\n",
      "incident_type = 21 : ['Hard Disk Drive Failure' 'General Incident' 'Software'\n",
      " 'Network Cable Failure' 'Maintenance System' 'Upgrade Software'\n",
      " 'Network Adapter Failure' 'Report' 'Memory Failure'\n",
      " 'System Board Failure' 'Controller/Node Failure' 'CPU Failure'\n",
      " 'Network Card Failure' 'Power Supply Failure' 'Cache Battery Failure'\n",
      " 'Other Failure' 'OS / Firmware' 'Configuration Change' 'Battery Failure'\n",
      " 'Fan Failure' 'Backup Failure']\n",
      "incident_type\n",
      "Total column to initialize first node input: 70\n"
     ]
    }
   ],
   "source": [
    "all_inputs = []\n",
    "encoded_features = []\n",
    "numInputFeatToInitNodeUnit=0\n",
    "\n",
    "# Numeric features.\n",
    "for header in numbericCols:\n",
    "  stat_data=train[header].describe()\n",
    "  print(f\"{header}: Mean={stat_data['mean']} and Std={stat_data['std']}\")  \n",
    "  numeric_col = tf.keras.Input(shape=(1,), name=header)\n",
    "  normalization_layer = get_normalization_layer(header, train_ds)\n",
    "  encoded_numeric_col = normalization_layer(numeric_col)\n",
    "  all_inputs.append(numeric_col)\n",
    "  encoded_features.append(encoded_numeric_col)\n",
    "    \n",
    "numInputFeatToInitNodeUnit=numInputFeatToInitNodeUnit+len(numbericCols)\n",
    "    \n",
    "    # Categorical features encoded as string.\n",
    "categorical_cols = cateCols\n",
    "for header in categorical_cols:\n",
    "  listCateItem=train[header].unique()\n",
    "  noCateItem=len(listCateItem)\n",
    "  numInputFeatToInitNodeUnit=numInputFeatToInitNodeUnit+noCateItem +1  # last 1 is unknow\n",
    "    \n",
    "  print(f\"{header} = {noCateItem} : {listCateItem}\")\n",
    "\n",
    "  print(header)  \n",
    "  categorical_col = tf.keras.Input(shape=(1,), name=header, dtype='string')\n",
    "  encoding_layer = get_category_encoding_layer(header, train_ds, dtype='string')\n",
    "                                        \n",
    "  encoded_categorical_col = encoding_layer(categorical_col)\n",
    "  all_inputs.append(categorical_col)\n",
    "  encoded_features.append(encoded_categorical_col)\n",
    "\n",
    "\n",
    "print(f\"Total column to initialize first node input: {numInputFeatToInitNodeUnit}\")"
   ]
  },
  {
   "cell_type": "markdown",
   "id": "aa733595-628e-4a07-a6b8-719995fa535b",
   "metadata": {},
   "source": [
    "# Build and Train and Eveluate and Plot Result"
   ]
  },
  {
   "cell_type": "code",
   "execution_count": 15,
   "id": "ee6ca53e-78d8-400e-a48e-cdcb93d2030f",
   "metadata": {},
   "outputs": [],
   "source": [
    "def plot_metrics(history,metric):\n",
    "    plt.figure(figsize=(15,8))\n",
    "    plt.title(metric)\n",
    "    plt.plot(history.history[metric], label='train')\n",
    "    plt.plot(history.history[f'val_{metric}'], label='validation')\n",
    "    plt.legend()\n",
    "    plt.show() \n"
   ]
  },
  {
   "cell_type": "code",
   "execution_count": 18,
   "id": "e4e27d3b-9b17-4311-a7a2-d4c4007430b2",
   "metadata": {},
   "outputs": [],
   "source": [
    "# def build_model(num_units_1,num_units_layer2, dropout_rate):\n",
    "def build_model(num_units_layer1, dropout_rate):\n",
    "    \n",
    "    all_features = tf.keras.layers.concatenate(encoded_features)\n",
    "   \n",
    "    x = tf.keras.layers.Dense(num_units_layer1, activation=\"relu\")(all_features)\n",
    "    \n",
    "    if dropout_rate>0:\n",
    "     x = tf.keras.layers.Dropout(dropout_rate)(x)\n",
    "    \n",
    "    # x = tf.keras.layers.Dense(num_units_layer1, activation=\"relu\")(x)\n",
    "    # if dropout_rate>0:\n",
    "    #  x = tf.keras.layers.Dropout(dropout_rate)(x)\n",
    "\n",
    "    output = tf.keras.layers.Dense(nLabel,activation=tf.nn.softmax)(x)\n",
    "\n",
    "    model = tf.keras.Model(all_inputs, output)\n",
    "    \n",
    "\n",
    "    model.compile(optimizer='adam',\n",
    "                      loss=tf.keras.losses.CategoricalCrossentropy(),metrics=['accuracy'])\n",
    "\n",
    "    return model\n",
    "\n",
    "\n",
    "# METRICS = [\n",
    "#       keras.metrics.BinaryAccuracy(name='accuracy'),\n",
    "#       keras.metrics.Precision(name='precision'),\n",
    "#       keras.metrics.Recall(name='recall'),\n",
    "#       keras.metrics.AUC(name='auc'),\n",
    "# ]\n"
   ]
  },
  {
   "cell_type": "code",
   "execution_count": 20,
   "id": "0f6af5c9-fc24-486a-bdd7-f6c4730dd236",
   "metadata": {},
   "outputs": [],
   "source": [
    "def train_model(model,x_epochs,x_batch_size):  \n",
    "    # model.summary()\n",
    "    early_stopping = tf.keras.callbacks.EarlyStopping(monitor='val_loss', patience=nEarlyPatience, verbose=1)  \n",
    "    \n",
    "    history =model.fit(train_ds, validation_data=val_ds,epochs=x_epochs,batch_size=x_batch_size,callbacks=[early_stopping])\n",
    "    return history\n",
    "  \n"
   ]
  },
  {
   "cell_type": "markdown",
   "id": "c3816a15-6688-4c87-9d20-e5fc45d48d11",
   "metadata": {},
   "source": [
    "# Test Run Model"
   ]
  },
  {
   "cell_type": "code",
   "execution_count": 42,
   "id": "25688a22-05f5-4cac-b662-d261b5dcfb78",
   "metadata": {},
   "outputs": [
    {
     "name": "stdout",
     "output_type": "stream",
     "text": [
      "1#Build model\n",
      "Model: \"model_6\"\n",
      "__________________________________________________________________________________________________\n",
      " Layer (type)                   Output Shape         Param #     Connected to                     \n",
      "==================================================================================================\n",
      " sla (InputLayer)               [(None, 1)]          0           []                               \n",
      "                                                                                                  \n",
      " product_type (InputLayer)      [(None, 1)]          0           []                               \n",
      "                                                                                                  \n",
      " brand (InputLayer)             [(None, 1)]          0           []                               \n",
      "                                                                                                  \n",
      " service_type (InputLayer)      [(None, 1)]          0           []                               \n",
      "                                                                                                  \n",
      " incident_type (InputLayer)     [(None, 1)]          0           []                               \n",
      "                                                                                                  \n",
      " open_to_close_hour (InputLayer  [(None, 1)]         0           []                               \n",
      " )                                                                                                \n",
      "                                                                                                  \n",
      " response_to_resolved_hour (Inp  [(None, 1)]         0           []                               \n",
      " utLayer)                                                                                         \n",
      "                                                                                                  \n",
      " string_lookup (StringLookup)   (None, 1)            0           ['sla[0][0]']                    \n",
      "                                                                                                  \n",
      " string_lookup_1 (StringLookup)  (None, 1)           0           ['product_type[0][0]']           \n",
      "                                                                                                  \n",
      " string_lookup_2 (StringLookup)  (None, 1)           0           ['brand[0][0]']                  \n",
      "                                                                                                  \n",
      " string_lookup_3 (StringLookup)  (None, 1)           0           ['service_type[0][0]']           \n",
      "                                                                                                  \n",
      " string_lookup_4 (StringLookup)  (None, 1)           0           ['incident_type[0][0]']          \n",
      "                                                                                                  \n",
      " normalization (Normalization)  (None, 1)            3           ['open_to_close_hour[0][0]']     \n",
      "                                                                                                  \n",
      " normalization_1 (Normalization  (None, 1)           3           ['response_to_resolved_hour[0][0]\n",
      " )                                                               ']                               \n",
      "                                                                                                  \n",
      " category_encoding (CategoryEnc  (None, 8)           0           ['string_lookup[0][0]']          \n",
      " oding)                                                                                           \n",
      "                                                                                                  \n",
      " category_encoding_1 (CategoryE  (None, 11)          0           ['string_lookup_1[0][0]']        \n",
      " ncoding)                                                                                         \n",
      "                                                                                                  \n",
      " category_encoding_2 (CategoryE  (None, 24)          0           ['string_lookup_2[0][0]']        \n",
      " ncoding)                                                                                         \n",
      "                                                                                                  \n",
      " category_encoding_3 (CategoryE  (None, 3)           0           ['string_lookup_3[0][0]']        \n",
      " ncoding)                                                                                         \n",
      "                                                                                                  \n",
      " category_encoding_4 (CategoryE  (None, 22)          0           ['string_lookup_4[0][0]']        \n",
      " ncoding)                                                                                         \n",
      "                                                                                                  \n",
      " concatenate_6 (Concatenate)    (None, 70)           0           ['normalization[0][0]',          \n",
      "                                                                  'normalization_1[0][0]',        \n",
      "                                                                  'category_encoding[0][0]',      \n",
      "                                                                  'category_encoding_1[0][0]',    \n",
      "                                                                  'category_encoding_2[0][0]',    \n",
      "                                                                  'category_encoding_3[0][0]',    \n",
      "                                                                  'category_encoding_4[0][0]']    \n",
      "                                                                                                  \n",
      " dense_12 (Dense)               (None, 70)           4970        ['concatenate_6[0][0]']          \n",
      "                                                                                                  \n",
      " dropout_4 (Dropout)            (None, 70)           0           ['dense_12[0][0]']               \n",
      "                                                                                                  \n",
      " dense_13 (Dense)               (None, 4)            284         ['dropout_4[0][0]']              \n",
      "                                                                                                  \n",
      "==================================================================================================\n",
      "Total params: 5,260\n",
      "Trainable params: 5,254\n",
      "Non-trainable params: 6\n",
      "__________________________________________________________________________________________________\n",
      "None\n"
     ]
    }
   ],
   "source": [
    "print(\"1#Build model\")\n",
    "\n",
    "#model=build_model(32,0)\n",
    "model=build_model(numInputFeatToInitNodeUnit,0.1)\n",
    "\n",
    "print(model.summary())\n"
   ]
  },
  {
   "cell_type": "code",
   "execution_count": 43,
   "id": "9d07e8f1-e562-4e2c-ba20-b720fb2236ba",
   "metadata": {},
   "outputs": [
    {
     "name": "stdout",
     "output_type": "stream",
     "text": [
      "2#Train model\n",
      "Epoch 1/100\n",
      "57/57 [==============================] - 3s 20ms/step - loss: 1.2886 - accuracy: 0.3997 - val_loss: 1.1259 - val_accuracy: 0.4978\n",
      "Epoch 2/100\n",
      "57/57 [==============================] - 0s 5ms/step - loss: 0.9974 - accuracy: 0.5650 - val_loss: 0.9777 - val_accuracy: 0.6035\n",
      "Epoch 3/100\n",
      "57/57 [==============================] - 0s 7ms/step - loss: 0.8747 - accuracy: 0.6566 - val_loss: 0.8679 - val_accuracy: 0.7004\n",
      "Epoch 4/100\n",
      "57/57 [==============================] - 1s 9ms/step - loss: 0.8018 - accuracy: 0.6797 - val_loss: 0.8172 - val_accuracy: 0.7137\n",
      "Epoch 5/100\n",
      "57/57 [==============================] - 1s 10ms/step - loss: 0.7593 - accuracy: 0.6874 - val_loss: 0.7910 - val_accuracy: 0.7313\n",
      "Epoch 6/100\n",
      "57/57 [==============================] - 1s 11ms/step - loss: 0.7382 - accuracy: 0.6885 - val_loss: 0.7725 - val_accuracy: 0.6960\n",
      "Epoch 7/100\n",
      "57/57 [==============================] - 1s 10ms/step - loss: 0.7188 - accuracy: 0.7023 - val_loss: 0.7637 - val_accuracy: 0.7225\n",
      "Epoch 8/100\n",
      "57/57 [==============================] - 0s 6ms/step - loss: 0.7081 - accuracy: 0.7029 - val_loss: 0.7596 - val_accuracy: 0.7225\n",
      "Epoch 9/100\n",
      "57/57 [==============================] - 0s 6ms/step - loss: 0.6944 - accuracy: 0.7078 - val_loss: 0.7476 - val_accuracy: 0.7313\n",
      "Epoch 10/100\n",
      "57/57 [==============================] - 0s 6ms/step - loss: 0.6823 - accuracy: 0.7238 - val_loss: 0.7415 - val_accuracy: 0.7225\n",
      "Epoch 11/100\n",
      "57/57 [==============================] - 1s 9ms/step - loss: 0.6746 - accuracy: 0.7172 - val_loss: 0.7381 - val_accuracy: 0.7269\n",
      "Epoch 12/100\n",
      "57/57 [==============================] - 0s 7ms/step - loss: 0.6628 - accuracy: 0.7161 - val_loss: 0.7308 - val_accuracy: 0.7137\n",
      "Epoch 13/100\n",
      "57/57 [==============================] - 1s 10ms/step - loss: 0.6553 - accuracy: 0.7288 - val_loss: 0.7293 - val_accuracy: 0.7533\n",
      "Epoch 14/100\n",
      "57/57 [==============================] - 1s 9ms/step - loss: 0.6530 - accuracy: 0.7238 - val_loss: 0.7254 - val_accuracy: 0.7401\n",
      "Epoch 15/100\n",
      "57/57 [==============================] - 1s 9ms/step - loss: 0.6476 - accuracy: 0.7249 - val_loss: 0.7268 - val_accuracy: 0.7621\n",
      "Epoch 16/100\n",
      "57/57 [==============================] - 1s 10ms/step - loss: 0.6443 - accuracy: 0.7282 - val_loss: 0.7251 - val_accuracy: 0.6960\n",
      "Epoch 17/100\n",
      "57/57 [==============================] - 1s 9ms/step - loss: 0.6291 - accuracy: 0.7365 - val_loss: 0.7213 - val_accuracy: 0.7533\n",
      "Epoch 18/100\n",
      "57/57 [==============================] - 1s 9ms/step - loss: 0.6297 - accuracy: 0.7343 - val_loss: 0.7177 - val_accuracy: 0.7269\n",
      "Epoch 19/100\n",
      "57/57 [==============================] - 0s 7ms/step - loss: 0.6215 - accuracy: 0.7332 - val_loss: 0.7202 - val_accuracy: 0.7445\n",
      "Epoch 20/100\n",
      "57/57 [==============================] - 0s 6ms/step - loss: 0.6241 - accuracy: 0.7376 - val_loss: 0.7087 - val_accuracy: 0.7181\n",
      "Epoch 21/100\n",
      "57/57 [==============================] - 0s 7ms/step - loss: 0.6163 - accuracy: 0.7431 - val_loss: 0.7127 - val_accuracy: 0.7533\n",
      "Epoch 22/100\n",
      "57/57 [==============================] - 1s 8ms/step - loss: 0.6122 - accuracy: 0.7486 - val_loss: 0.7078 - val_accuracy: 0.7445\n",
      "Epoch 23/100\n",
      "57/57 [==============================] - 1s 8ms/step - loss: 0.6062 - accuracy: 0.7569 - val_loss: 0.7025 - val_accuracy: 0.7401\n",
      "Epoch 24/100\n",
      "57/57 [==============================] - 1s 9ms/step - loss: 0.5993 - accuracy: 0.7552 - val_loss: 0.7052 - val_accuracy: 0.7357\n",
      "Epoch 25/100\n",
      "57/57 [==============================] - 1s 8ms/step - loss: 0.6030 - accuracy: 0.7541 - val_loss: 0.7026 - val_accuracy: 0.7489\n",
      "Epoch 26/100\n",
      "57/57 [==============================] - 1s 10ms/step - loss: 0.6018 - accuracy: 0.7530 - val_loss: 0.7017 - val_accuracy: 0.7533\n",
      "Epoch 27/100\n",
      "57/57 [==============================] - 1s 10ms/step - loss: 0.5963 - accuracy: 0.7514 - val_loss: 0.6985 - val_accuracy: 0.7665\n",
      "Epoch 28/100\n",
      "57/57 [==============================] - 0s 4ms/step - loss: 0.5947 - accuracy: 0.7552 - val_loss: 0.6988 - val_accuracy: 0.7489\n",
      "Epoch 29/100\n",
      "57/57 [==============================] - 0s 7ms/step - loss: 0.5896 - accuracy: 0.7596 - val_loss: 0.7017 - val_accuracy: 0.7621\n",
      "Epoch 30/100\n",
      "57/57 [==============================] - 0s 5ms/step - loss: 0.5864 - accuracy: 0.7585 - val_loss: 0.7020 - val_accuracy: 0.7533\n",
      "Epoch 31/100\n",
      "57/57 [==============================] - 0s 6ms/step - loss: 0.5836 - accuracy: 0.7580 - val_loss: 0.7011 - val_accuracy: 0.7577\n",
      "Epoch 32/100\n",
      "57/57 [==============================] - 0s 6ms/step - loss: 0.5849 - accuracy: 0.7596 - val_loss: 0.7000 - val_accuracy: 0.7533\n",
      "Epoch 33/100\n",
      "57/57 [==============================] - 0s 7ms/step - loss: 0.5796 - accuracy: 0.7569 - val_loss: 0.6972 - val_accuracy: 0.7621\n",
      "Epoch 34/100\n",
      "57/57 [==============================] - 0s 6ms/step - loss: 0.5708 - accuracy: 0.7734 - val_loss: 0.7057 - val_accuracy: 0.7489\n",
      "Epoch 35/100\n",
      "57/57 [==============================] - 0s 7ms/step - loss: 0.5687 - accuracy: 0.7778 - val_loss: 0.6925 - val_accuracy: 0.7489\n",
      "Epoch 36/100\n",
      "57/57 [==============================] - 0s 5ms/step - loss: 0.5774 - accuracy: 0.7674 - val_loss: 0.7000 - val_accuracy: 0.7621\n",
      "Epoch 37/100\n",
      "57/57 [==============================] - 0s 6ms/step - loss: 0.5657 - accuracy: 0.7630 - val_loss: 0.6961 - val_accuracy: 0.7269\n",
      "Epoch 38/100\n",
      "57/57 [==============================] - 0s 7ms/step - loss: 0.5612 - accuracy: 0.7685 - val_loss: 0.7025 - val_accuracy: 0.7577\n",
      "Epoch 39/100\n",
      "57/57 [==============================] - 0s 6ms/step - loss: 0.5635 - accuracy: 0.7701 - val_loss: 0.7012 - val_accuracy: 0.7577\n",
      "Epoch 40/100\n",
      "57/57 [==============================] - 0s 7ms/step - loss: 0.5629 - accuracy: 0.7729 - val_loss: 0.7056 - val_accuracy: 0.7621\n",
      "Epoch 41/100\n",
      "57/57 [==============================] - 0s 6ms/step - loss: 0.5630 - accuracy: 0.7668 - val_loss: 0.7040 - val_accuracy: 0.7621\n",
      "Epoch 42/100\n",
      "57/57 [==============================] - 0s 6ms/step - loss: 0.5585 - accuracy: 0.7756 - val_loss: 0.6998 - val_accuracy: 0.7621\n",
      "Epoch 43/100\n",
      "57/57 [==============================] - 0s 6ms/step - loss: 0.5555 - accuracy: 0.7734 - val_loss: 0.7058 - val_accuracy: 0.7577\n",
      "Epoch 44/100\n",
      "57/57 [==============================] - 1s 8ms/step - loss: 0.5527 - accuracy: 0.7685 - val_loss: 0.7089 - val_accuracy: 0.7401\n",
      "Epoch 45/100\n",
      "57/57 [==============================] - 1s 8ms/step - loss: 0.5585 - accuracy: 0.7602 - val_loss: 0.7025 - val_accuracy: 0.7577\n",
      "Epoch 45: early stopping\n",
      "=============================================================================\n"
     ]
    }
   ],
   "source": [
    "print(\"2#Train model\")\n",
    "history=train_model(model,100,32)\n",
    "print(\"=============================================================================\")\n"
   ]
  },
  {
   "cell_type": "code",
   "execution_count": 46,
   "id": "19961e63-4585-4662-98ee-25402fe7e735",
   "metadata": {},
   "outputs": [
    {
     "name": "stdout",
     "output_type": "stream",
     "text": [
      "3#Evaluate model\n",
      "8/8 [==============================] - 0s 6ms/step - loss: 0.7025 - accuracy: 0.7577\n",
      "Average Loss - Accuracy on Eveluation 0.7024793028831482 -0.757709264755249\n",
      "8/8 [==============================] - 0s 6ms/step - loss: 0.7501 - accuracy: 0.6828\n",
      "Average Loss - Accuracy on Test 0.7501496076583862 -0.6828193664550781\n",
      "=============================================================================\n"
     ]
    }
   ],
   "source": [
    "print(\"3#Evaluate model\")\n",
    "\n",
    "loss_val, accuracy_val = model.evaluate(val_ds)\n",
    "print(f\"Average Loss - Accuracy on Eveluation {loss_val} -{accuracy_val}\")\n",
    "\n",
    "loss_test, accuracy_test = model.evaluate(test_ds)\n",
    "print(f\"Average Loss - Accuracy on Test {loss_test} -{accuracy_test}\")\n",
    "\n",
    "print(\"=============================================================================\")\n",
    "\n",
    "\n",
    "# production data set to 12MAr23\n",
    "# 7/7 [==============================] - 0s 2ms/step - loss: 0.6655 - accuracy: 0.7689\n",
    "# Average Loss - Accuracy on Eveluation 0.6654592752456665 -0.7688679099082947\n",
    "# 7/7 [==============================] - 0s 2ms/step - loss: 0.6977 - accuracy: 0.7358\n",
    "# Average Loss - Accuracy on Test 0.6977102160453796 -0.7358490824699402\n",
    "\n",
    "\n",
    "# demo set to 04 April23\n",
    "# 8/8 [==============================] - 0s 2ms/step - loss: 0.7334 - accuracy: 0.7621\n",
    "# Average Loss - Accuracy on Eveluation 0.7333917617797852 -0.7621145248413086\n",
    "# 8/8 [==============================] - 0s 3ms/step - loss: 0.7452 - accuracy: 0.6740\n",
    "# Average Loss - Accuracy on Test 0.745168149471283 -0.6740087866783142\n",
    "# ============================================================================"
   ]
  },
  {
   "cell_type": "code",
   "execution_count": 47,
   "id": "00f3a39c-d489-4970-a709-cdf9c38805f2",
   "metadata": {},
   "outputs": [
    {
     "name": "stdout",
     "output_type": "stream",
     "text": [
      "4#Explore Result model\n"
     ]
    },
    {
     "data": {
      "image/png": "[encoded data removed]",
      "text/plain": [
       "<Figure size 1500x800 with 1 Axes>"
      ]
     },
     "metadata": {},
     "output_type": "display_data"
    },
    {
     "data": {
      "image/png": "[encoded data removed]",
      "text/plain": [
       "<Figure size 1500x800 with 1 Axes>"
      ]
     },
     "metadata": {},
     "output_type": "display_data"
    }
   ],
   "source": [
    "print(\"4#Explore Result model\")\n",
    "plot_metrics(history,'accuracy')\n",
    "plot_metrics(history,\"loss\")\n"
   ]
  },
  {
   "cell_type": "markdown",
   "id": "c05e9e8b-804d-4c37-9865-9dfcf2343411",
   "metadata": {},
   "source": [
    "# Save Model"
   ]
  },
  {
   "cell_type": "code",
   "execution_count": 48,
   "id": "ab8f677c-dfa2-48b5-b980-6cc10f2e0033",
   "metadata": {},
   "outputs": [
    {
     "name": "stderr",
     "output_type": "stream",
     "text": [
      "WARNING:absl:Found untraced functions such as _update_step_xla while saving (showing 1 of 1). These functions will not be directly callable after loading.\n"
     ]
    },
    {
     "name": "stdout",
     "output_type": "stream",
     "text": [
      "INFO:tensorflow:Assets written to: model\\assets\n"
     ]
    },
    {
     "name": "stderr",
     "output_type": "stream",
     "text": [
      "INFO:tensorflow:Assets written to: model\\assets\n"
     ]
    }
   ],
   "source": [
    "model.save(model_dir)\n",
    "# 1 foloder contain many files and folder"
   ]
  },
  {
   "cell_type": "markdown",
   "id": "f86af40e-2142-4c2f-af6d-13bae8cd463e",
   "metadata": {},
   "source": [
    "# Test Predict"
   ]
  },
  {
   "cell_type": "code",
   "execution_count": 56,
   "id": "dd916787-bacc-4537-b2b6-1c6d62932de8",
   "metadata": {},
   "outputs": [
    {
     "name": "stdout",
     "output_type": "stream",
     "text": [
      "===============================================================================================================\n",
      "convert pain data to serdor as input to predict\n",
      "{'sla': <tf.Tensor: shape=(1,), dtype=string, numpy=array([b'24x7 4Hrs Response Time'], dtype=object)>, 'product_type': <tf.Tensor: shape=(1,), dtype=string, numpy=array([b'Server'], dtype=object)>, 'brand': <tf.Tensor: shape=(1,), dtype=string, numpy=array([b'VMWare'], dtype=object)>, 'service_type': <tf.Tensor: shape=(1,), dtype=string, numpy=array([b'Incident'], dtype=object)>, 'incident_type': <tf.Tensor: shape=(1,), dtype=string, numpy=array([b'General Incident'], dtype=object)>, 'open_to_close_hour': <tf.Tensor: shape=(1,), dtype=int32, numpy=array([10])>, 'response_to_resolved_hour': <tf.Tensor: shape=(1,), dtype=float32, numpy=array([6.], dtype=float32)>}\n",
      "1/1 [==============================] - 1s 1s/step\n",
      "[[0.01388785 0.15315497 0.82575476 0.00720237]]\n"
     ]
    }
   ],
   "source": [
    "#label_multi_severity\n",
    "\n",
    "m = tf.keras.models.load_model(model_dir)\n",
    "\n",
    "sample={\"sla\":\"24x7 4Hrs Response Time\",\n",
    "        \"product_type\":\"Server\",\n",
    "        \"brand\":\"VMWare\",                \n",
    "        \"service_type\":\"Incident\",\n",
    "        \"incident_type\":\"General Incident\",\n",
    "        \"open_to_close_hour\":10,\n",
    "        \"response_to_resolved_hour\":6.000000 \\\n",
    "       }\n",
    "      \n",
    "print(\"===============================================================================================================\")    \n",
    "print(\"convert pain data to serdor as input to predict\")    \n",
    "input_dict = {name: tf.convert_to_tensor([value]) for name, value in sample.items()}\n",
    "print(input_dict)\n",
    "\n",
    "predictionList = m.predict(input_dict)\n",
    "print(predictionList)\n",
    "\n",
    "#JSOML\n",
    "# {\n",
    "#  \"instances\": [\n",
    "#      {\n",
    "#       \"brand\":[\"NetApp\"],\n",
    "#       \"incident_type\":[\"General Incident\"],\n",
    "#       \"open_to_close_hour\":[7.0],\n",
    "#       \"product_type\":[\"Storage\"],\n",
    "#       \"response_to_resolved_hour\":[5.5],\n",
    "#       \"service_type\":[\"Incident\"],\n",
    "#       \"sla\":[\"24x7 6Hrs Response Time\"]\n",
    "#      },\n",
    "#   {\n",
    "#       \"brand\":[\"HPE\"],\n",
    "#       \"incident_type\":[\"General Incident\"],\n",
    "#       \"open_to_close_hour\":[3.0],\n",
    "#       \"product_type\":[\"Server\"],\n",
    "#       \"response_to_resolved_hour\":[1.5],\n",
    "#       \"service_type\":[\"Incident\"],\n",
    "#       \"sla\":[\"24x7 6Hrs Response Time\"]\n",
    "#      }\n",
    "#  ]\n",
    "#  }"
   ]
  },
  {
   "cell_type": "code",
   "execution_count": 57,
   "id": "26d78b3d-3c2f-4f9b-9a19-3b559a803c97",
   "metadata": {},
   "outputs": [
    {
     "name": "stdout",
     "output_type": "stream",
     "text": [
      "[18.536108 21.305977 41.745323 18.412598] % at 2 as Severity\n",
      "\n"
     ]
    }
   ],
   "source": [
    "prob = tf.nn.softmax(predictionList[0])\n",
    "print(f\"{(100 * prob)} % at {np.argmax(prob, axis=0)} as Severity\") \n",
    "print()"
   ]
  },
  {
   "cell_type": "code",
   "execution_count": null,
   "id": "fb322a53-98ee-4c8a-a87e-c4c7961e3eb8",
   "metadata": {},
   "outputs": [],
   "source": []
  },
  {
   "cell_type": "markdown",
   "id": "c5587682-2265-4eff-985f-ca1f7852ddf4",
   "metadata": {},
   "source": [
    "# Copy Model From Local To GCS For Cloud Function To Invoke Model"
   ]
  },
  {
   "cell_type": "code",
   "execution_count": 52,
   "id": "48d9e25d-b8a2-4d88-8e8d-bc18f10e0d2f",
   "metadata": {},
   "outputs": [],
   "source": [
    "MODEL_BUCKET = f'gs://demo-tf-incident-{projectId}'\n",
    "REGION='asia-southeast1'"
   ]
  },
  {
   "cell_type": "code",
   "execution_count": 53,
   "id": "b236ea1f-efa0-4166-aa37-212fad8c0574",
   "metadata": {},
   "outputs": [
    {
     "name": "stderr",
     "output_type": "stream",
     "text": [
      "Creating gs://demo-tf-incident-pongthorn/...\n"
     ]
    }
   ],
   "source": [
    "!gsutil mb -l $REGION $MODEL_BUCKET"
   ]
  },
  {
   "cell_type": "code",
   "execution_count": 54,
   "id": "eaabd3ac-47ad-43ae-b6e5-fc16fecec238",
   "metadata": {},
   "outputs": [
    {
     "name": "stderr",
     "output_type": "stream",
     "text": [
      "Copying file://.\\model\\keras_metadata.pb [Content-Type=application/octet-stream]...\n",
      "Copying file://.\\model\\variables\\variables.data-00000-of-00001 [Content-Type=application/octet-stream]...\n",
      "/ [0/5 files][    0.0 B/513.4 KiB]   0% Done                                    \n",
      "Copying file://.\\model\\saved_model.pb [Content-Type=application/octet-stream]...\n",
      "/ [0/5 files][    0.0 B/513.4 KiB]   0% Done                                    \n",
      "/ [0/5 files][    0.0 B/513.4 KiB]   0% Done                                    \n",
      "Copying file://.\\model\\variables\\variables.index [Content-Type=application/octet-stream]...\n",
      "/ [0/5 files][    0.0 B/513.4 KiB]   0% Done                                    \n",
      "Copying file://.\\model\\fingerprint.pb [Content-Type=application/octet-stream]...\n",
      "/ [0/5 files][    0.0 B/513.4 KiB]   0% Done                                    \n",
      "/ [1/5 files][113.8 KiB/513.4 KiB]  22% Done                                    \n",
      "/ [2/5 files][113.8 KiB/513.4 KiB]  22% Done                                    \n",
      "/ [3/5 files][113.8 KiB/513.4 KiB]  22% Done                                    \n",
      "/ [4/5 files][433.8 KiB/513.4 KiB]  84% Done                                    \n",
      "/ [5/5 files][513.4 KiB/513.4 KiB] 100% Done                                    \n",
      "-\n",
      "\n",
      "Operation completed over 5 objects/513.4 KiB.                                    \n"
     ]
    }
   ],
   "source": [
    "!gsutil -m cp -r ./$model_dir/* $MODEL_BUCKET/$model_dir\n",
    "\n"
   ]
  },
  {
   "cell_type": "code",
   "execution_count": null,
   "id": "5a601d87-b648-4eea-b2de-b85b7723c5ba",
   "metadata": {},
   "outputs": [],
   "source": []
  },
  {
   "cell_type": "code",
   "execution_count": 107,
   "id": "6465851a-f078-41a2-991c-80a71d3e695d",
   "metadata": {},
   "outputs": [],
   "source": [
    "\n"
   ]
  },
  {
   "cell_type": "code",
   "execution_count": null,
   "id": "6c0f6c5d-3ea4-4fae-ba78-b8decf134a92",
   "metadata": {},
   "outputs": [],
   "source": []
  },
  {
   "cell_type": "code",
   "execution_count": null,
   "id": "ff433f46-0e98-48ec-8b32-25b840541253",
   "metadata": {},
   "outputs": [],
   "source": []
  }
 ],
 "metadata": {
  "kernelspec": {
   "display_name": "Python 3 (ipykernel)",
   "language": "python",
   "name": "python3"
  },
  "language_info": {
   "codemirror_mode": {
    "name": "ipython",
    "version": 3
   },
   "file_extension": ".py",
   "mimetype": "text/x-python",
   "name": "python",
   "nbconvert_exporter": "python",
   "pygments_lexer": "ipython3",
   "version": "3.9.16"
  }
 },
 "nbformat": 4,
 "nbformat_minor": 5
}
