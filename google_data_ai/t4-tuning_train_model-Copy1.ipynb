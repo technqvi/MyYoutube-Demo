{
 "cells": [
  {
   "cell_type": "code",
   "execution_count": 33,
   "id": "efd54814-e227-4302-9a81-3d6ddcf0e9a5",
   "metadata": {},
   "outputs": [
    {
     "name": "stdout",
     "output_type": "stream",
     "text": [
      "2.11.0\n"
     ]
    }
   ],
   "source": [
    "\n",
    "\n",
    "#https://www.tensorflow.org/tutorials/keras/keras_tuner\n",
    "#https://keras.io/guides/keras_tuner/getting_started/\n",
    "# https://keras.io/api/keras_tuner/tuners/bayesian/ \n",
    "\n",
    "import numpy as np\n",
    "import pandas as pd\n",
    "from datetime import date, timedelta, datetime # Date Functions\n",
    "import time\n",
    "import math\n",
    "\n",
    "\n",
    "import matplotlib.pyplot as plt\n",
    "import seaborn as sns\n",
    "\n",
    "import tensorflow as tf\n",
    "from tensorflow.keras import Sequential\n",
    "from tensorflow.keras.layers import Dense,DenseFeatures\n",
    "from tensorflow.keras import layers\n",
    "from tensorflow.keras.layers.experimental import preprocessing\n",
    "from tensorflow.python.keras.utils import data_utils\n",
    "\n",
    "\n",
    "from google.cloud import bigquery\n",
    "\n",
    "print(tf.__version__)"
   ]
  },
  {
   "cell_type": "code",
   "execution_count": 34,
   "id": "d28a9538-ca23-45f0-817b-e4b067cf9ab3",
   "metadata": {},
   "outputs": [],
   "source": [
    "cateCols=['sla','product_type','brand','service_type','incident_type']\n",
    "\n",
    "numbericCols=['open_to_close_hour','response_to_resolved_hour']\n",
    "\n",
    "unusedCols=['severity_id','severity_name','label_binary_severity']\n",
    "\n",
    "\n",
    "labelCol='label_multi_severity'\n",
    "\n",
    "\n",
    "# Load data from BigQuery\n",
    "projectId='pongthorn'\n",
    "dataset_id='DemoSMartDW'\n",
    " "
   ]
  },
  {
   "cell_type": "markdown",
   "id": "3c0aa901-563f-4d2c-9203-67175431c32f",
   "metadata": {},
   "source": [
    "# Load Data"
   ]
  },
  {
   "cell_type": "code",
   "execution_count": 35,
   "id": "c09b03b7-3e9d-4f25-b8c8-5d8cd615afce",
   "metadata": {},
   "outputs": [],
   "source": [
    "def load_ml_data(data_path):\n",
    " df=pd.read_csv(data_path)\n",
    " df =df.drop(columns=unusedCols)\n",
    " return df\n",
    "\n",
    "def load_data_bq(sql:str):\n",
    " client_bq = bigquery.Client()\n",
    " query_result=client_bq.query(sql)\n",
    " df=query_result.to_dataframe()\n",
    " df =df.drop(columns=unusedCols)\n",
    " return df"
   ]
  },
  {
   "cell_type": "code",
   "execution_count": 36,
   "id": "ecca0ccf-76eb-4570-a39e-e3179851171f",
   "metadata": {},
   "outputs": [],
   "source": [
    "train_name='train_incident'\n",
    "validation_name='validation_incident'\n",
    "test_name='test_incident'"
   ]
  },
  {
   "cell_type": "code",
   "execution_count": 37,
   "id": "5ddea3e1-b732-48c4-95fc-637108802a2c",
   "metadata": {},
   "outputs": [
    {
     "name": "stdout",
     "output_type": "stream",
     "text": [
      "pongthorn.DemoSMartDW.train_incident - pongthorn.DemoSMartDW.validation_incident - pongthorn.DemoSMartDW.test_incident\n",
      "(1814, 8)\n",
      "(227, 8)\n",
      "(227, 8)\n"
     ]
    }
   ],
   "source": [
    "\n",
    "\n",
    "train_table_id=f\"{projectId}.{dataset_id}.{train_name}\"\n",
    "val_tabel_id=f\"{projectId}.{dataset_id}.{validation_name}\"\n",
    "test_tabel_id=f\"{projectId}.{dataset_id}.{test_name}\"\n",
    "print(f\"{train_table_id} - {val_tabel_id} - {test_tabel_id}\")\n",
    "\n",
    "client = bigquery.Client(project=projectId)\n",
    "\n",
    "train=load_data_bq(f\"SELECT * FROM {train_table_id}\")\n",
    "val=load_data_bq(f\"SELECT * FROM {val_tabel_id}\")\n",
    "test=load_data_bq(f\"SELECT * FROM {test_tabel_id}\")\n",
    "\n",
    "# Load data from CSV File\n",
    "# root_path='../../data'    \n",
    "# train = load_ml_data(f\"{root_path}/{train_name}.csv\")\n",
    "# val=load_ml_data(f\"{root_path}/{validation_name}.csv\")\n",
    "# test =load_ml_data(f\"{root_path}/{test_name}.csv\")\n",
    "\n",
    "print(train.shape)\n",
    "print(val.shape)\n",
    "print(test.shape)\n"
   ]
  },
  {
   "cell_type": "code",
   "execution_count": 38,
   "id": "1bcdca62-5198-4d5d-8704-b42fa468a47b",
   "metadata": {},
   "outputs": [
    {
     "name": "stdout",
     "output_type": "stream",
     "text": [
      "List All Label: [0, 1, 2, 3]\n",
      "No target label : 4\n",
      "<class 'pandas.core.frame.DataFrame'>\n",
      "RangeIndex: 1814 entries, 0 to 1813\n",
      "Data columns (total 8 columns):\n",
      " #   Column                     Non-Null Count  Dtype  \n",
      "---  ------                     --------------  -----  \n",
      " 0   sla                        1814 non-null   object \n",
      " 1   product_type               1814 non-null   object \n",
      " 2   brand                      1814 non-null   object \n",
      " 3   service_type               1814 non-null   object \n",
      " 4   incident_type              1814 non-null   object \n",
      " 5   open_to_close_hour         1814 non-null   float64\n",
      " 6   response_to_resolved_hour  1814 non-null   float64\n",
      " 7   label_multi_severity       1814 non-null   Int64  \n",
      "dtypes: Int64(1), float64(2), object(5)\n",
      "memory usage: 115.3+ KB\n",
      "None\n"
     ]
    },
    {
     "data": {
      "text/html": [
       "<div>\n",
       "<style scoped>\n",
       "    .dataframe tbody tr th:only-of-type {\n",
       "        vertical-align: middle;\n",
       "    }\n",
       "\n",
       "    .dataframe tbody tr th {\n",
       "        vertical-align: top;\n",
       "    }\n",
       "\n",
       "    .dataframe thead th {\n",
       "        text-align: right;\n",
       "    }\n",
       "</style>\n",
       "<table border=\"1\" class=\"dataframe\">\n",
       "  <thead>\n",
       "    <tr style=\"text-align: right;\">\n",
       "      <th></th>\n",
       "      <th>sla</th>\n",
       "      <th>product_type</th>\n",
       "      <th>brand</th>\n",
       "      <th>service_type</th>\n",
       "      <th>incident_type</th>\n",
       "      <th>open_to_close_hour</th>\n",
       "      <th>response_to_resolved_hour</th>\n",
       "      <th>label_multi_severity</th>\n",
       "    </tr>\n",
       "  </thead>\n",
       "  <tbody>\n",
       "    <tr>\n",
       "      <th>983</th>\n",
       "      <td>24x7 4Hrs Response Time</td>\n",
       "      <td>Storage</td>\n",
       "      <td>NetApp</td>\n",
       "      <td>Incident</td>\n",
       "      <td>General Incident</td>\n",
       "      <td>171.866667</td>\n",
       "      <td>3.650000</td>\n",
       "      <td>1</td>\n",
       "    </tr>\n",
       "    <tr>\n",
       "      <th>909</th>\n",
       "      <td>24x7 4Hrs Resolution Time</td>\n",
       "      <td>Storage</td>\n",
       "      <td>NetApp</td>\n",
       "      <td>Incident</td>\n",
       "      <td>General Incident</td>\n",
       "      <td>0.966667</td>\n",
       "      <td>0.633333</td>\n",
       "      <td>2</td>\n",
       "    </tr>\n",
       "    <tr>\n",
       "      <th>1667</th>\n",
       "      <td>24x7 4Hrs Response Time</td>\n",
       "      <td>Software</td>\n",
       "      <td>VMWare</td>\n",
       "      <td>Request</td>\n",
       "      <td>General Incident</td>\n",
       "      <td>7.400000</td>\n",
       "      <td>7.000000</td>\n",
       "      <td>0</td>\n",
       "    </tr>\n",
       "    <tr>\n",
       "      <th>75</th>\n",
       "      <td>24x7 4Hrs Resolution Time</td>\n",
       "      <td>Server</td>\n",
       "      <td>HPE</td>\n",
       "      <td>Incident</td>\n",
       "      <td>General Incident</td>\n",
       "      <td>5.216667</td>\n",
       "      <td>4.000000</td>\n",
       "      <td>3</td>\n",
       "    </tr>\n",
       "    <tr>\n",
       "      <th>803</th>\n",
       "      <td>24x7 6Hrs Resolution Time</td>\n",
       "      <td>Software</td>\n",
       "      <td>SAPB1</td>\n",
       "      <td>Incident</td>\n",
       "      <td>Software</td>\n",
       "      <td>0.116667</td>\n",
       "      <td>0.100000</td>\n",
       "      <td>2</td>\n",
       "    </tr>\n",
       "    <tr>\n",
       "      <th>1312</th>\n",
       "      <td>24x7 4Hrs Resolution Time</td>\n",
       "      <td>Storage</td>\n",
       "      <td>Oracle</td>\n",
       "      <td>Incident</td>\n",
       "      <td>Hard Disk Drive Failure</td>\n",
       "      <td>2.000000</td>\n",
       "      <td>2.000000</td>\n",
       "      <td>1</td>\n",
       "    </tr>\n",
       "    <tr>\n",
       "      <th>837</th>\n",
       "      <td>24x7 4Hrs Resolution Time</td>\n",
       "      <td>Software</td>\n",
       "      <td>Veeam</td>\n",
       "      <td>Request</td>\n",
       "      <td>Configuration Change</td>\n",
       "      <td>5.983333</td>\n",
       "      <td>5.983333</td>\n",
       "      <td>0</td>\n",
       "    </tr>\n",
       "    <tr>\n",
       "      <th>630</th>\n",
       "      <td>24x7 4Hrs Resolution Time</td>\n",
       "      <td>Storage</td>\n",
       "      <td>HPE</td>\n",
       "      <td>Request</td>\n",
       "      <td>Report</td>\n",
       "      <td>2.000000</td>\n",
       "      <td>2.000000</td>\n",
       "      <td>0</td>\n",
       "    </tr>\n",
       "    <tr>\n",
       "      <th>491</th>\n",
       "      <td>9x5xNBD 4Hrs Response Time</td>\n",
       "      <td>Server</td>\n",
       "      <td>HPE</td>\n",
       "      <td>Incident</td>\n",
       "      <td>General Incident</td>\n",
       "      <td>652.950000</td>\n",
       "      <td>652.850000</td>\n",
       "      <td>2</td>\n",
       "    </tr>\n",
       "    <tr>\n",
       "      <th>782</th>\n",
       "      <td>24x7 4Hrs Resolution Time</td>\n",
       "      <td>Switch</td>\n",
       "      <td>Cisco</td>\n",
       "      <td>Incident</td>\n",
       "      <td>General Incident</td>\n",
       "      <td>1320.316667</td>\n",
       "      <td>1317.350000</td>\n",
       "      <td>1</td>\n",
       "    </tr>\n",
       "  </tbody>\n",
       "</table>\n",
       "</div>"
      ],
      "text/plain": [
       "                             sla product_type   brand service_type  \\\n",
       "983      24x7 4Hrs Response Time      Storage  NetApp     Incident   \n",
       "909    24x7 4Hrs Resolution Time      Storage  NetApp     Incident   \n",
       "1667     24x7 4Hrs Response Time     Software  VMWare      Request   \n",
       "75     24x7 4Hrs Resolution Time       Server     HPE     Incident   \n",
       "803    24x7 6Hrs Resolution Time     Software   SAPB1     Incident   \n",
       "1312   24x7 4Hrs Resolution Time      Storage  Oracle     Incident   \n",
       "837    24x7 4Hrs Resolution Time     Software   Veeam      Request   \n",
       "630    24x7 4Hrs Resolution Time      Storage     HPE      Request   \n",
       "491   9x5xNBD 4Hrs Response Time       Server     HPE     Incident   \n",
       "782    24x7 4Hrs Resolution Time       Switch   Cisco     Incident   \n",
       "\n",
       "                incident_type  open_to_close_hour  response_to_resolved_hour  \\\n",
       "983          General Incident          171.866667                   3.650000   \n",
       "909          General Incident            0.966667                   0.633333   \n",
       "1667         General Incident            7.400000                   7.000000   \n",
       "75           General Incident            5.216667                   4.000000   \n",
       "803                  Software            0.116667                   0.100000   \n",
       "1312  Hard Disk Drive Failure            2.000000                   2.000000   \n",
       "837      Configuration Change            5.983333                   5.983333   \n",
       "630                    Report            2.000000                   2.000000   \n",
       "491          General Incident          652.950000                 652.850000   \n",
       "782          General Incident         1320.316667                1317.350000   \n",
       "\n",
       "      label_multi_severity  \n",
       "983                      1  \n",
       "909                      2  \n",
       "1667                     0  \n",
       "75                       3  \n",
       "803                      2  \n",
       "1312                     1  \n",
       "837                      0  \n",
       "630                      0  \n",
       "491                      2  \n",
       "782                      1  "
      ]
     },
     "execution_count": 38,
     "metadata": {},
     "output_type": "execute_result"
    }
   ],
   "source": [
    "\n",
    "labelList=list(train[labelCol].unique())\n",
    "print(\"List All Label:\" ,sorted(labelList))\n",
    "nLabel=len(labelList)\n",
    "print(f\"No target label : {nLabel}\")\n",
    "                 \n",
    "print(train.info())\n",
    "train.sample(10)"
   ]
  },
  {
   "cell_type": "code",
   "execution_count": 39,
   "id": "64adbe5e-d737-45a4-a04e-340a2926ad2d",
   "metadata": {},
   "outputs": [
    {
     "data": {
      "text/html": [
       "<div>\n",
       "<style scoped>\n",
       "    .dataframe tbody tr th:only-of-type {\n",
       "        vertical-align: middle;\n",
       "    }\n",
       "\n",
       "    .dataframe tbody tr th {\n",
       "        vertical-align: top;\n",
       "    }\n",
       "\n",
       "    .dataframe thead th {\n",
       "        text-align: right;\n",
       "    }\n",
       "</style>\n",
       "<table border=\"1\" class=\"dataframe\">\n",
       "  <thead>\n",
       "    <tr style=\"text-align: right;\">\n",
       "      <th></th>\n",
       "      <th>Train-No-Severity</th>\n",
       "      <th>Train-%-Severity</th>\n",
       "      <th>Val-No-Severity</th>\n",
       "      <th>Val-%-Severity</th>\n",
       "      <th>Test-No-Severity</th>\n",
       "      <th>Test-%-Severity</th>\n",
       "    </tr>\n",
       "    <tr>\n",
       "      <th>label_multi_severity</th>\n",
       "      <th></th>\n",
       "      <th></th>\n",
       "      <th></th>\n",
       "      <th></th>\n",
       "      <th></th>\n",
       "      <th></th>\n",
       "    </tr>\n",
       "  </thead>\n",
       "  <tbody>\n",
       "    <tr>\n",
       "      <th>0</th>\n",
       "      <td>323</td>\n",
       "      <td>18.0</td>\n",
       "      <td>50</td>\n",
       "      <td>22.0</td>\n",
       "      <td>39</td>\n",
       "      <td>17.0</td>\n",
       "    </tr>\n",
       "    <tr>\n",
       "      <th>1</th>\n",
       "      <td>529</td>\n",
       "      <td>29.0</td>\n",
       "      <td>63</td>\n",
       "      <td>28.0</td>\n",
       "      <td>68</td>\n",
       "      <td>30.0</td>\n",
       "    </tr>\n",
       "    <tr>\n",
       "      <th>2</th>\n",
       "      <td>876</td>\n",
       "      <td>48.0</td>\n",
       "      <td>101</td>\n",
       "      <td>44.0</td>\n",
       "      <td>109</td>\n",
       "      <td>48.0</td>\n",
       "    </tr>\n",
       "    <tr>\n",
       "      <th>3</th>\n",
       "      <td>86</td>\n",
       "      <td>5.0</td>\n",
       "      <td>13</td>\n",
       "      <td>6.0</td>\n",
       "      <td>11</td>\n",
       "      <td>5.0</td>\n",
       "    </tr>\n",
       "  </tbody>\n",
       "</table>\n",
       "</div>"
      ],
      "text/plain": [
       "                      Train-No-Severity  Train-%-Severity  Val-No-Severity  \\\n",
       "label_multi_severity                                                         \n",
       "0                                   323              18.0               50   \n",
       "1                                   529              29.0               63   \n",
       "2                                   876              48.0              101   \n",
       "3                                    86               5.0               13   \n",
       "\n",
       "                      Val-%-Severity  Test-No-Severity  Test-%-Severity  \n",
       "label_multi_severity                                                     \n",
       "0                               22.0                39             17.0  \n",
       "1                               28.0                68             30.0  \n",
       "2                               44.0               109             48.0  \n",
       "3                                6.0                11              5.0  "
      ]
     },
     "execution_count": 39,
     "metadata": {},
     "output_type": "execute_result"
    }
   ],
   "source": [
    "# Percentage of each severity\n",
    "def CalPctEachTargetClass(dfx,colSev,colPctSev):\n",
    "    dfClassSummary=dfx.groupby([labelCol]).size().to_frame(colSev)\n",
    "    dfClassSummary[colPctSev]= dfClassSummary[colSev]/dfClassSummary[colSev].sum() *100\n",
    "    dfClassSummary=dfClassSummary.round(0)\n",
    "    return dfClassSummary\n",
    "\n",
    "pctDF1=CalPctEachTargetClass(train,'Train-No-Severity','Train-%-Severity')\n",
    "pctDF2=CalPctEachTargetClass(val,'Val-No-Severity','Val-%-Severity')\n",
    "pdcDF3=CalPctEachTargetClass(test,'Test-No-Severity','Test-%-Severity')\n",
    "pctDF=pd.concat([pctDF1,pctDF2,pdcDF3],axis=1)\n",
    "\n",
    "pctDF"
   ]
  },
  {
   "cell_type": "markdown",
   "id": "fa30d3fd-14e9-4c3d-a6aa-45d8114f5362",
   "metadata": {},
   "source": [
    "# Process Data  Layer"
   ]
  },
  {
   "cell_type": "code",
   "execution_count": 40,
   "id": "d9d3a943-09d5-4a43-b8d8-633bc4a90353",
   "metadata": {},
   "outputs": [],
   "source": [
    "# dataframe to  tf.data\n",
    "def multiple_label_df_to_dataset(dataframe, shuffle=True, batch_size=32):\n",
    "  features = dataframe.copy()\n",
    "  labels = features.pop(labelCol)\n",
    "  labels  = tf.keras.utils.to_categorical(labels, num_classes=nLabel)\n",
    "    \n",
    "  ds = tf.data.Dataset.from_tensor_slices(( dict(features), labels ))\n",
    "  if shuffle:\n",
    "    ds = ds.shuffle(buffer_size=len(features))\n",
    "  ds = ds.batch(batch_size)\n",
    "  ds = ds.prefetch(batch_size)\n",
    "  return ds\n",
    "     \n",
    "     "
   ]
  },
  {
   "cell_type": "code",
   "execution_count": 41,
   "id": "274122c2-9481-438b-b637-6e6ad393d809",
   "metadata": {},
   "outputs": [
    {
     "name": "stdout",
     "output_type": "stream",
     "text": [
      "Explore Data from Tensor before keras data processing\n",
      "========Features==========\n",
      "Every feature: ['sla', 'product_type', 'brand', 'service_type', 'incident_type', 'open_to_close_hour', 'response_to_resolved_hour']\n",
      "product_type: tf.Tensor([b'Software' b'Software' b'Software'], shape=(3,), dtype=string)\n",
      "open_to_close_hour: tf.Tensor([19.08333333  7.83333333 16.        ], shape=(3,), dtype=float64)\n",
      "========Labels==========\n",
      "[[1. 0. 0. 0.]\n",
      " [0. 1. 0. 0.]\n",
      " [0. 0. 1. 0.]]\n"
     ]
    }
   ],
   "source": [
    "# Tensorflow format\n",
    "print(\"Explore Data from Tensor before keras data processing\")\n",
    "batch_size = 3  # list 3 sample data\n",
    "train_ds =multiple_label_df_to_dataset(train, batch_size=batch_size)\n",
    "\n",
    "[(train_features, label_batch)] = train_ds.take(1)\n",
    "print(\"========Features==========\")\n",
    "print('Every feature:', list(train_features.keys()))\n",
    "print('product_type:', train_features['product_type'])  # sample cate feature\n",
    "print('open_to_close_hour:', train_features['open_to_close_hour'])  # sample numberic feature\n",
    "print(\"========Labels==========\")\n",
    "print(f'{label_batch }')"
   ]
  },
  {
   "cell_type": "code",
   "execution_count": 42,
   "id": "02ad8837-968e-4d68-bdb6-1c7eba97e69c",
   "metadata": {},
   "outputs": [],
   "source": [
    "# Normalizaton and categorical Endcoding\n",
    "\n",
    "def get_normalization_layer(name, dataset):\n",
    "  # Create a Normalization layer for our feature.\n",
    "  normalizer = preprocessing.Normalization(axis=None)\n",
    "\n",
    "  # Prepare a Dataset that only yields our feature.\n",
    "  feature_ds = dataset.map(lambda x, y: x[name])\n",
    "\n",
    "  # Learn the statistics of the data.\n",
    "  normalizer.adapt(feature_ds)\n",
    "\n",
    "  return normalizer"
   ]
  },
  {
   "cell_type": "code",
   "execution_count": 43,
   "id": "237bce3c-9c77-4318-8682-fc36af0a6804",
   "metadata": {},
   "outputs": [],
   "source": [
    "def get_category_encoding_layer(name, dataset, dtype, max_tokens=None):\n",
    "  # Create a StringLookup layer which will turn strings into integer indices\n",
    "  if dtype == 'string':\n",
    "    index = preprocessing.StringLookup(max_tokens=max_tokens)\n",
    "  else:\n",
    "    index = preprocessing.IntegerLookup(max_tokens=max_tokens)\n",
    "\n",
    "  # Prepare a Dataset that only yields our feature\n",
    "  feature_ds = dataset.map(lambda x, y: x[name])\n",
    "\n",
    "  # Learn the set of possible values and assign them a fixed integer index.\n",
    "  index.adapt(feature_ds)\n",
    "\n",
    "  # Create a Discretization for our integer indices.\n",
    "  encoder = preprocessing.CategoryEncoding(num_tokens=index.vocabulary_size())\n",
    "\n",
    "  # Apply one-hot encoding to our indices. The lambda function captures the\n",
    "  # layer so we can use them, or include them in the functional model later.\n",
    "  return lambda feature: encoder(index(feature))\n",
    "     "
   ]
  },
  {
   "cell_type": "code",
   "execution_count": 44,
   "id": "a5c78f01-000a-4d3e-9fbf-6f4660cfb75b",
   "metadata": {},
   "outputs": [],
   "source": [
    "batch_size =32\n",
    "train_ds = multiple_label_df_to_dataset (train, batch_size=batch_size)\n",
    "val_ds = multiple_label_df_to_dataset(val, batch_size=batch_size)\n",
    "test_ds = multiple_label_df_to_dataset(test, batch_size=batch_size)\n",
    "\n",
    "\n"
   ]
  },
  {
   "cell_type": "code",
   "execution_count": 45,
   "id": "723a69b6-d9c1-49d9-bc81-ed421d8700cb",
   "metadata": {},
   "outputs": [
    {
     "name": "stdout",
     "output_type": "stream",
     "text": [
      "open_to_close_hour: Mean=96.70577912532157 and Std=264.30857031412927\n",
      "response_to_resolved_hour: Mean=69.23291988239617 and Std=210.15946331055562\n",
      "sla = 7 : ['24x7 4Hrs Resolution Time' '8x5 4Hrs Response Time'\n",
      " '24x7 6Hrs Resolution Time' '24x7 4Hrs Response Time'\n",
      " '9x5xNBD 4Hrs Response Time' '24x7 6Hrs Response Time' 'Non MA']\n",
      "sla\n",
      "product_type = 10 : ['Server' 'Software' 'Other' 'Firewall' 'Hardware' 'Storage' 'Switch'\n",
      " 'Access Point' 'Security' 'Tape Library']\n",
      "product_type\n",
      "brand = 23 : ['IBM' 'Microsoft' 'F5' 'Nutanix' 'CheckPoint' 'Broadcom' 'CIMCO-CMMS'\n",
      " 'eUnite' 'Fortinet' 'EMC' 'HPE' 'YIP' 'DELL' 'Cisco' 'SAPB1' 'Veeam'\n",
      " 'NetApp' 'Oracle' 'VMWare' 'Red Hat' 'Veritas' 'Palo Alto' 'Trend Micro']\n",
      "brand\n",
      "service_type = 2 : ['Incident' 'Request']\n",
      "service_type\n",
      "incident_type = 21 : ['Hard Disk Drive Failure' 'General Incident' 'Software'\n",
      " 'Network Cable Failure' 'Maintenance System' 'Upgrade Software'\n",
      " 'Network Adapter Failure' 'Report' 'Memory Failure'\n",
      " 'System Board Failure' 'Controller/Node Failure' 'CPU Failure'\n",
      " 'Network Card Failure' 'Power Supply Failure' 'Cache Battery Failure'\n",
      " 'Other Failure' 'OS / Firmware' 'Configuration Change' 'Battery Failure'\n",
      " 'Fan Failure' 'Backup Failure']\n",
      "incident_type\n",
      "Total column to initialize first node input: 70\n"
     ]
    }
   ],
   "source": [
    "all_inputs = []\n",
    "encoded_features = []\n",
    "numInputFeatToInitNodeUnit=0\n",
    "\n",
    "# Numeric features.\n",
    "for header in numbericCols:\n",
    "  stat_data=train[header].describe()\n",
    "  print(f\"{header}: Mean={stat_data['mean']} and Std={stat_data['std']}\")  \n",
    "  numeric_col = tf.keras.Input(shape=(1,), name=header)\n",
    "  normalization_layer = get_normalization_layer(header, train_ds)\n",
    "  encoded_numeric_col = normalization_layer(numeric_col)\n",
    "  all_inputs.append(numeric_col)\n",
    "  encoded_features.append(encoded_numeric_col)\n",
    "    \n",
    "numInputFeatToInitNodeUnit=numInputFeatToInitNodeUnit+len(numbericCols)\n",
    "    \n",
    "    # Categorical features encoded as string.\n",
    "categorical_cols = cateCols\n",
    "for header in categorical_cols:\n",
    "  listCateItem=train[header].unique()\n",
    "  noCateItem=len(listCateItem)\n",
    "  numInputFeatToInitNodeUnit=numInputFeatToInitNodeUnit+noCateItem +1  # last 1 is unknow\n",
    "    \n",
    "  print(f\"{header} = {noCateItem} : {listCateItem}\")\n",
    "\n",
    "  print(header)  \n",
    "  categorical_col = tf.keras.Input(shape=(1,), name=header, dtype='string')\n",
    "  encoding_layer = get_category_encoding_layer(header, train_ds, dtype='string')\n",
    "                                        \n",
    "  encoded_categorical_col = encoding_layer(categorical_col)\n",
    "  all_inputs.append(categorical_col)\n",
    "  encoded_features.append(encoded_categorical_col)\n",
    "\n",
    "\n",
    "print(f\"Total column to initialize first node input: {numInputFeatToInitNodeUnit}\")"
   ]
  },
  {
   "cell_type": "markdown",
   "id": "aa733595-628e-4a07-a6b8-719995fa535b",
   "metadata": {},
   "source": [
    "# Tune HyperParameter By Keras Tuner"
   ]
  },
  {
   "cell_type": "code",
   "execution_count": 69,
   "id": "1cf14812-bdcb-4f9f-9800-c011b272d651",
   "metadata": {},
   "outputs": [
    {
     "name": "stdout",
     "output_type": "stream",
     "text": [
      "All possible combination 4x2=8\n"
     ]
    }
   ],
   "source": [
    "seed=1932\n",
    "\n",
    "EPOCHS =20\n",
    "BATCH_SIZE = 32\n",
    "unitList=[16,32,64,numInputFeatToInitNodeUnit]\n",
    "dropOutList= [0.1, 0.2]\n",
    "\n",
    "print(f\"All possible combination {len(unitList)}x{len(dropOutList)}={ len(unitList) * len(dropOutList)}\")\n",
    "\n",
    "nMax_trials=5\n",
    "nExecutions_per_trial=3\n",
    "nEarlyPatience=5\n",
    "\n",
    "model_tuned_dir='model_tuned'\n"
   ]
  },
  {
   "cell_type": "code",
   "execution_count": 70,
   "id": "ee6ca53e-78d8-400e-a48e-cdcb93d2030f",
   "metadata": {},
   "outputs": [],
   "source": [
    "import keras_tuner as kt\n",
    "from keras_tuner.engine.hyperparameters import HyperParameters\n",
    "\n",
    "tune_folder=\"IncidentMLP\""
   ]
  },
  {
   "cell_type": "code",
   "execution_count": 71,
   "id": "aed823ba-d116-4c11-a7e6-e2f97e33a0a3",
   "metadata": {},
   "outputs": [
    {
     "name": "stdout",
     "output_type": "stream",
     "text": [
      "Start tund at 2023-04-11 21:09:26.160640\n",
      "=============================================================\n",
      "IncidentMLP_110423_2109\n"
     ]
    }
   ],
   "source": [
    "t_Start=time.time()\n",
    "\n",
    "print(f\"Start tund at {datetime.now()}\")\n",
    "print(\"=============================================================\")\n",
    "buildtime = datetime.now().strftime('%d%m%y_%H%M')\n",
    "project_model=f\"{tune_folder}_{buildtime}\"\n",
    "print(project_model)"
   ]
  },
  {
   "cell_type": "code",
   "execution_count": 72,
   "id": "e4e27d3b-9b17-4311-a7a2-d4c4007430b2",
   "metadata": {},
   "outputs": [],
   "source": [
    "def build_model_for_tuning(hp):\n",
    "    \n",
    "    all_features = tf.keras.layers.concatenate(encoded_features)\n",
    "    \n",
    "    x = tf.keras.layers.Dense(hp.Choice('units', unitList), activation=\"relu\")(all_features)\n",
    "    \n",
    "    x = tf.keras.layers.Dropout(hp.Choice('Dropout_rate',dropOutList))(x)\n",
    "    \n",
    "    output = tf.keras.layers.Dense(nLabel,activation=tf.nn.softmax)(x)\n",
    "    \n",
    "    model = tf.keras.Model(all_inputs, output)\n",
    "    model.compile(optimizer='adam',loss=tf.keras.losses.CategoricalCrossentropy(),metrics=['accuracy'])\n",
    "    \n",
    "    return model"
   ]
  },
  {
   "cell_type": "code",
   "execution_count": 73,
   "id": "0f6af5c9-fc24-486a-bdd7-f6c4730dd236",
   "metadata": {},
   "outputs": [
    {
     "name": "stdout",
     "output_type": "stream",
     "text": [
      "Trial 5 Complete [00h 00m 19s]\n",
      "val_accuracy: 0.7444934050242106\n",
      "\n",
      "Best val_accuracy So Far: 0.7591776649157206\n",
      "Total elapsed time: 00h 01m 35s\n",
      "INFO:tensorflow:Oracle triggered exit\n"
     ]
    }
   ],
   "source": [
    "objective_name='val_accuracy'  # valloss\n",
    "tuner = kt.BayesianOptimization(\n",
    "## tuner = kt.Hyperband(\n",
    "# tuner = keras_tuner.RandomSearch(  #main_objective\n",
    "    build_model_for_tuning, objective=objective_name,seed=seed,\n",
    "    max_trials=nMax_trials,executions_per_trial=nExecutions_per_trial,\n",
    "    directory=f\"tuning/{tune_folder}/\",project_name= project_model)\n",
    "\n",
    "stop_early = tf.keras.callbacks.EarlyStopping(monitor=objective_name, patience=nEarlyPatience)\n",
    "tuner.search(train_ds, batch_size=BATCH_SIZE,epochs=EPOCHS,validation_data=val_ds,callbacks=[stop_early])\n",
    "    "
   ]
  },
  {
   "cell_type": "code",
   "execution_count": 75,
   "id": "1bb9a740-a67a-43d6-8d35-d9a523d6d14b",
   "metadata": {},
   "outputs": [
    {
     "name": "stdout",
     "output_type": "stream",
     "text": [
      "{'units': 64, 'Dropout_rate': 0.1}\n"
     ]
    }
   ],
   "source": [
    "best_hps=tuner.get_best_hyperparameters(num_trials=1)[0]\n",
    "print(best_hps.values)"
   ]
  },
  {
   "cell_type": "markdown",
   "id": "c3816a15-6688-4c87-9d20-e5fc45d48d11",
   "metadata": {},
   "source": [
    "# Retain by best model to product model to get max Epoch"
   ]
  },
  {
   "cell_type": "code",
   "execution_count": 76,
   "id": "25688a22-05f5-4cac-b662-d261b5dcfb78",
   "metadata": {},
   "outputs": [
    {
     "name": "stdout",
     "output_type": "stream",
     "text": [
      "Build the model with the optimal hyperparameters and train it on the data to find  N epochs\n",
      "Epoch 1/20\n",
      "57/57 [==============================] - 2s 12ms/step - loss: 1.1934 - accuracy: 0.4917 - val_loss: 1.0531 - val_accuracy: 0.6123\n",
      "Epoch 2/20\n",
      "57/57 [==============================] - 0s 4ms/step - loss: 0.9508 - accuracy: 0.6340 - val_loss: 0.9107 - val_accuracy: 0.6740\n",
      "Epoch 3/20\n",
      "57/57 [==============================] - 0s 4ms/step - loss: 0.8384 - accuracy: 0.6736 - val_loss: 0.8312 - val_accuracy: 0.7137\n",
      "Epoch 4/20\n",
      "57/57 [==============================] - 0s 4ms/step - loss: 0.7789 - accuracy: 0.6880 - val_loss: 0.7977 - val_accuracy: 0.7269\n",
      "Epoch 5/20\n",
      "57/57 [==============================] - 0s 4ms/step - loss: 0.7513 - accuracy: 0.6968 - val_loss: 0.7721 - val_accuracy: 0.7093\n",
      "Epoch 6/20\n",
      "57/57 [==============================] - 0s 4ms/step - loss: 0.7356 - accuracy: 0.6896 - val_loss: 0.7655 - val_accuracy: 0.7269\n",
      "Epoch 7/20\n",
      "57/57 [==============================] - 0s 4ms/step - loss: 0.7141 - accuracy: 0.6951 - val_loss: 0.7588 - val_accuracy: 0.7181\n",
      "Epoch 8/20\n",
      "57/57 [==============================] - 0s 4ms/step - loss: 0.7024 - accuracy: 0.7139 - val_loss: 0.7557 - val_accuracy: 0.7225\n",
      "Epoch 9/20\n",
      "57/57 [==============================] - 0s 4ms/step - loss: 0.6901 - accuracy: 0.7133 - val_loss: 0.7496 - val_accuracy: 0.7004\n",
      "Epoch 10/20\n",
      "57/57 [==============================] - 0s 4ms/step - loss: 0.6861 - accuracy: 0.7078 - val_loss: 0.7506 - val_accuracy: 0.7225\n",
      "Epoch 11/20\n",
      "57/57 [==============================] - 0s 4ms/step - loss: 0.6758 - accuracy: 0.7172 - val_loss: 0.7382 - val_accuracy: 0.7004\n",
      "Epoch 12/20\n",
      "57/57 [==============================] - 0s 5ms/step - loss: 0.6658 - accuracy: 0.7205 - val_loss: 0.7438 - val_accuracy: 0.7313\n",
      "Epoch 13/20\n",
      "57/57 [==============================] - 0s 4ms/step - loss: 0.6602 - accuracy: 0.7211 - val_loss: 0.7394 - val_accuracy: 0.7313\n",
      "Epoch 14/20\n",
      "57/57 [==============================] - 0s 4ms/step - loss: 0.6476 - accuracy: 0.7244 - val_loss: 0.7367 - val_accuracy: 0.7137\n",
      "Epoch 15/20\n",
      "57/57 [==============================] - 0s 5ms/step - loss: 0.6498 - accuracy: 0.7277 - val_loss: 0.7350 - val_accuracy: 0.7137\n",
      "Epoch 16/20\n",
      "57/57 [==============================] - 0s 5ms/step - loss: 0.6408 - accuracy: 0.7277 - val_loss: 0.7387 - val_accuracy: 0.7401\n",
      "Epoch 17/20\n",
      "57/57 [==============================] - 0s 4ms/step - loss: 0.6389 - accuracy: 0.7321 - val_loss: 0.7412 - val_accuracy: 0.7357\n",
      "Epoch 18/20\n",
      "57/57 [==============================] - 0s 4ms/step - loss: 0.6296 - accuracy: 0.7293 - val_loss: 0.7486 - val_accuracy: 0.7357\n",
      "Epoch 19/20\n",
      "57/57 [==============================] - 0s 4ms/step - loss: 0.6297 - accuracy: 0.7326 - val_loss: 0.7309 - val_accuracy: 0.7225\n",
      "Epoch 20/20\n",
      "57/57 [==============================] - 0s 4ms/step - loss: 0.6224 - accuracy: 0.7370 - val_loss: 0.7332 - val_accuracy: 0.7313\n"
     ]
    }
   ],
   "source": [
    "print(\"Build the model with the optimal hyperparameters and train it on the data to find  N epochs\")\n",
    "best_model = tuner.hypermodel.build(best_hps)\n",
    "# model.summary()\n",
    "history = best_model.fit(train_ds, validation_data=val_ds, epochs=EPOCHS, batch_size=BATCH_SIZE)\n"
   ]
  },
  {
   "cell_type": "code",
   "execution_count": 77,
   "id": "7ce7935e-ee7a-49f2-b89c-5aa78ec23127",
   "metadata": {},
   "outputs": [
    {
     "name": "stdout",
     "output_type": "stream",
     "text": [
      "Best epoch: 16\n"
     ]
    }
   ],
   "source": [
    "val_acc_per_epoch = history.history[objective_name]\n",
    "best_epoch = val_acc_per_epoch.index(max(val_acc_per_epoch)) + 1\n",
    "print(f'Best epoch: {best_epoch}')"
   ]
  },
  {
   "cell_type": "code",
   "execution_count": 78,
   "id": "e17b2bbd-a2db-44c7-9d76-8592f73eef66",
   "metadata": {},
   "outputs": [
    {
     "name": "stdout",
     "output_type": "stream",
     "text": [
      "Take Optimal Best Epoch  by Re-instantiating the hypermodel and train it\n",
      "Epoch 1/16\n",
      "57/57 [==============================] - 2s 10ms/step - loss: 1.1771 - accuracy: 0.4691 - val_loss: 1.0439 - val_accuracy: 0.5463\n",
      "Epoch 2/16\n",
      "57/57 [==============================] - 0s 4ms/step - loss: 0.9255 - accuracy: 0.6202 - val_loss: 0.9103 - val_accuracy: 0.6432\n",
      "Epoch 3/16\n",
      "57/57 [==============================] - 0s 4ms/step - loss: 0.8247 - accuracy: 0.6687 - val_loss: 0.8312 - val_accuracy: 0.7048\n",
      "Epoch 4/16\n",
      "57/57 [==============================] - 0s 4ms/step - loss: 0.7746 - accuracy: 0.6764 - val_loss: 0.7978 - val_accuracy: 0.6828\n",
      "Epoch 5/16\n",
      "57/57 [==============================] - 0s 4ms/step - loss: 0.7428 - accuracy: 0.6858 - val_loss: 0.7833 - val_accuracy: 0.7004\n",
      "Epoch 6/16\n",
      "57/57 [==============================] - 0s 4ms/step - loss: 0.7217 - accuracy: 0.6929 - val_loss: 0.7699 - val_accuracy: 0.6784\n",
      "Epoch 7/16\n",
      "57/57 [==============================] - 0s 4ms/step - loss: 0.7137 - accuracy: 0.7012 - val_loss: 0.7670 - val_accuracy: 0.7137\n",
      "Epoch 8/16\n",
      "57/57 [==============================] - 0s 4ms/step - loss: 0.6983 - accuracy: 0.7117 - val_loss: 0.7617 - val_accuracy: 0.6872\n",
      "Epoch 9/16\n",
      "57/57 [==============================] - 0s 4ms/step - loss: 0.6907 - accuracy: 0.7183 - val_loss: 0.7562 - val_accuracy: 0.7313\n",
      "Epoch 10/16\n",
      "57/57 [==============================] - 0s 4ms/step - loss: 0.6757 - accuracy: 0.7249 - val_loss: 0.7618 - val_accuracy: 0.7225\n",
      "Epoch 11/16\n",
      "57/57 [==============================] - 0s 4ms/step - loss: 0.6726 - accuracy: 0.7233 - val_loss: 0.7457 - val_accuracy: 0.7225\n",
      "Epoch 12/16\n",
      "57/57 [==============================] - 0s 4ms/step - loss: 0.6697 - accuracy: 0.7222 - val_loss: 0.7472 - val_accuracy: 0.7004\n",
      "Epoch 13/16\n",
      "57/57 [==============================] - 0s 4ms/step - loss: 0.6609 - accuracy: 0.7205 - val_loss: 0.7461 - val_accuracy: 0.7269\n",
      "Epoch 14/16\n",
      "57/57 [==============================] - 0s 4ms/step - loss: 0.6522 - accuracy: 0.7288 - val_loss: 0.7454 - val_accuracy: 0.7357\n",
      "Epoch 15/16\n",
      "57/57 [==============================] - 0s 4ms/step - loss: 0.6501 - accuracy: 0.7343 - val_loss: 0.7351 - val_accuracy: 0.7048\n",
      "Epoch 16/16\n",
      "57/57 [==============================] - 0s 4ms/step - loss: 0.6430 - accuracy: 0.7266 - val_loss: 0.7366 - val_accuracy: 0.7181\n",
      "8/8 [==============================] - 0s 4ms/step - loss: 0.7366 - accuracy: 0.7181\n",
      "Eveluation on Val-Data at 16 epochs : loss=0.7365816831588745 and accuracy= 0.7180616855621338\n",
      "8/8 [==============================] - 0s 4ms/step - loss: 0.7249 - accuracy: 0.6784\n",
      "Evaluation on Test-Data at 16 epochs : loss=0.7248551845550537 and accuracy= 0.6784141063690186\n"
     ]
    }
   ],
   "source": [
    "print(\"Take Optimal Best Epoch  by Re-instantiating the hypermodel and train it\")\n",
    "model = tuner.hypermodel.build(best_hps)\n",
    "# Retrain the model to get final\n",
    "history_hypermodel=model.fit(train_ds, validation_data=val_ds, epochs=best_epoch)\n",
    "\n",
    "val_loss, val_accuracy = model.evaluate(val_ds)\n",
    "print(f\"Eveluation on Val-Data at {best_epoch} epochs : loss={val_loss} and {main_metric}= {val_accuracy}\")\n",
    "test_loss, test_accuracy = model.evaluate(test_ds)\n",
    "print(f\"Evaluation on Test-Data at {best_epoch} epochs : loss={test_loss} and {main_metric}= {test_accuracy}\")"
   ]
  },
  {
   "cell_type": "code",
   "execution_count": 79,
   "id": "e2330b79-b67d-49aa-8917-1e31ad6e4fac",
   "metadata": {},
   "outputs": [
    {
     "name": "stdout",
     "output_type": "stream",
     "text": [
      "4#Explore Result model\n"
     ]
    },
    {
     "data": {
      "image/png": "[encoded data removed]",
      "text/plain": [
       "<Figure size 1500x800 with 1 Axes>"
      ]
     },
     "metadata": {},
     "output_type": "display_data"
    },
    {
     "data": {
      "image/png": "[encoded data removed]",
      "text/plain": [
       "<Figure size 1500x800 with 1 Axes>"
      ]
     },
     "metadata": {},
     "output_type": "display_data"
    }
   ],
   "source": [
    "def plot_metrics(history,metric):\n",
    "    plt.figure(figsize=(15,8))\n",
    "    plt.title(metric)\n",
    "    plt.plot(history.history[metric], label='train')\n",
    "    plt.plot(history.history[f'val_{metric}'], label='validation')\n",
    "    plt.legend()\n",
    "    plt.show() \n",
    "\n",
    "print(\"4#Explore Result model\")\n",
    "plot_metrics(history,main_metric)\n",
    "plot_metrics(history,\"loss\")"
   ]
  },
  {
   "cell_type": "code",
   "execution_count": null,
   "id": "e547b52a-f16c-44a3-8dda-44fe944c2576",
   "metadata": {},
   "outputs": [],
   "source": [
    "model.save(model_tuned_dir)"
   ]
  },
  {
   "cell_type": "markdown",
   "id": "c05e9e8b-804d-4c37-9865-9dfcf2343411",
   "metadata": {},
   "source": [
    "# Save Model"
   ]
  },
  {
   "cell_type": "code",
   "execution_count": 80,
   "id": "ab8f677c-dfa2-48b5-b980-6cc10f2e0033",
   "metadata": {},
   "outputs": [
    {
     "name": "stderr",
     "output_type": "stream",
     "text": [
      "WARNING:absl:Found untraced functions such as _update_step_xla while saving (showing 1 of 1). These functions will not be directly callable after loading.\n"
     ]
    },
    {
     "name": "stdout",
     "output_type": "stream",
     "text": [
      "INFO:tensorflow:Assets written to: model_tuned\\assets\n"
     ]
    },
    {
     "name": "stderr",
     "output_type": "stream",
     "text": [
      "INFO:tensorflow:Assets written to: model_tuned\\assets\n"
     ]
    }
   ],
   "source": [
    "model.save(model_tuned_dir)\n"
   ]
  },
  {
   "cell_type": "markdown",
   "id": "c5587682-2265-4eff-985f-ca1f7852ddf4",
   "metadata": {},
   "source": [
    "# Copy Model From Local To GCS For Cloud Function To Invoke Model"
   ]
  },
  {
   "cell_type": "code",
   "execution_count": 81,
   "id": "48d9e25d-b8a2-4d88-8e8d-bc18f10e0d2f",
   "metadata": {},
   "outputs": [],
   "source": [
    "MODEL_BUCKET = f'gs://demo-tuned-tf-incident-{projectId}'\n",
    "REGION='asia-southeast1'"
   ]
  },
  {
   "cell_type": "code",
   "execution_count": 82,
   "id": "b236ea1f-efa0-4166-aa37-212fad8c0574",
   "metadata": {},
   "outputs": [
    {
     "name": "stderr",
     "output_type": "stream",
     "text": [
      "Creating gs://demo-tuned-tf-incident-pongthorn/...\n"
     ]
    }
   ],
   "source": [
    "!gsutil mb -l $REGION $MODEL_BUCKET"
   ]
  },
  {
   "cell_type": "code",
   "execution_count": 83,
   "id": "eaabd3ac-47ad-43ae-b6e5-fc16fecec238",
   "metadata": {},
   "outputs": [
    {
     "name": "stderr",
     "output_type": "stream",
     "text": [
      "Copying file://.\\model_tuned\\variables\\variables.data-00000-of-00001 [Content-Type=application/octet-stream]...\n",
      "/ [0/5 files][    0.0 B/508.5 KiB]   0% Done                                    \n",
      "Copying file://.\\model_tuned\\variables\\variables.index [Content-Type=application/octet-stream]...\n",
      "Copying file://.\\model_tuned\\fingerprint.pb [Content-Type=application/octet-stream]...\n",
      "/ [0/5 files][    0.0 B/508.5 KiB]   0% Done                                    \n",
      "/ [0/5 files][    0.0 B/508.5 KiB]   0% Done                                    \n",
      "Copying file://.\\model_tuned\\keras_metadata.pb [Content-Type=application/octet-stream]...\n",
      "/ [0/5 files][    0.0 B/508.5 KiB]   0% Done                                    \n",
      "Copying file://.\\model_tuned\\saved_model.pb [Content-Type=application/octet-stream]...\n",
      "/ [0/5 files][    0.0 B/508.5 KiB]   0% Done                                    \n",
      "/ [1/5 files][108.6 KiB/508.5 KiB]  21% Done                                    \n",
      "/ [2/5 files][108.6 KiB/508.5 KiB]  21% Done                                    \n",
      "/ [3/5 files][108.6 KiB/508.5 KiB]  21% Done                                    \n",
      "/ [4/5 files][108.6 KiB/508.5 KiB]  21% Done                                    \n",
      "/ [5/5 files][508.5 KiB/508.5 KiB] 100% Done                                    \n",
      "-\n",
      "\n",
      "Operation completed over 5 objects/508.5 KiB.                                    \n"
     ]
    }
   ],
   "source": [
    "!gsutil -m cp -r ./$model_tuned_dir/* $MODEL_BUCKET/$model_tuned_dir\n",
    "\n"
   ]
  },
  {
   "cell_type": "code",
   "execution_count": null,
   "id": "5a601d87-b648-4eea-b2de-b85b7723c5ba",
   "metadata": {},
   "outputs": [],
   "source": []
  },
  {
   "cell_type": "code",
   "execution_count": 107,
   "id": "6465851a-f078-41a2-991c-80a71d3e695d",
   "metadata": {},
   "outputs": [],
   "source": [
    "\n"
   ]
  },
  {
   "cell_type": "code",
   "execution_count": null,
   "id": "6c0f6c5d-3ea4-4fae-ba78-b8decf134a92",
   "metadata": {},
   "outputs": [],
   "source": []
  },
  {
   "cell_type": "code",
   "execution_count": null,
   "id": "ff433f46-0e98-48ec-8b32-25b840541253",
   "metadata": {},
   "outputs": [],
   "source": []
  }
 ],
 "metadata": {
  "kernelspec": {
   "display_name": "Python 3 (ipykernel)",
   "language": "python",
   "name": "python3"
  },
  "language_info": {
   "codemirror_mode": {
    "name": "ipython",
    "version": 3
   },
   "file_extension": ".py",
   "mimetype": "text/x-python",
   "name": "python",
   "nbconvert_exporter": "python",
   "pygments_lexer": "ipython3",
   "version": "3.9.16"
  }
 },
 "nbformat": 4,
 "nbformat_minor": 5
}
