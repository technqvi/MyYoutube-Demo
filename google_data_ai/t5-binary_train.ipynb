{
 "cells": [
  {
   "cell_type": "code",
   "execution_count": 2,
   "id": "efd54814-e227-4302-9a81-3d6ddcf0e9a5",
   "metadata": {},
   "outputs": [
    {
     "data": {
      "text/plain": [
       "'2.11.0'"
      ]
     },
     "execution_count": 2,
     "metadata": {},
     "output_type": "execute_result"
    }
   ],
   "source": [
    "# import necessary libraries\n",
    "import numpy as np\n",
    "import pandas as pd\n",
    "import tensorflow as tf\n",
    "import matplotlib.pyplot as plt\n",
    "import seaborn as sns\n",
    "\n",
    "from tensorflow.keras import Sequential\n",
    "from tensorflow.keras.layers import Dense,DenseFeatures\n",
    "\n",
    "\n",
    "from google.cloud import bigquery\n",
    "from sklearn.model_selection import train_test_split\n",
    "from tensorflow.keras import layers\n",
    "from tensorflow.keras.layers.experimental import preprocessing\n",
    "\n",
    "tf.__version__"
   ]
  },
  {
   "cell_type": "code",
   "execution_count": 3,
   "id": "d28a9538-ca23-45f0-817b-e4b067cf9ab3",
   "metadata": {},
   "outputs": [],
   "source": [
    "cateCols=['sla','product_type','brand','service_type','incident_type']\n",
    "numbericCols=['open_to_close_hour','response_to_resolved_hour']\n",
    "\n",
    "unusedCols=['severity_id','severity_name','label_multi_severity']\n",
    "labelCol='label_binary_severity'\n",
    "\n",
    "\n",
    "model_dir='model_binary'"
   ]
  },
  {
   "cell_type": "code",
   "execution_count": 4,
   "id": "615a2593-c0b1-4400-ba85-4f78a2db5b8c",
   "metadata": {},
   "outputs": [],
   "source": [
    "# Load data from BigQuery\n",
    "projectId='pongthorn'\n",
    "dataset_id='DemoSMartDW'"
   ]
  },
  {
   "cell_type": "code",
   "execution_count": 5,
   "id": "00050eef-6eb7-4869-a90c-10382f285775",
   "metadata": {},
   "outputs": [],
   "source": [
    "train_name='train_incident'\n",
    "validation_name='validation_incident'\n",
    "test_name='test_incident'"
   ]
  },
  {
   "cell_type": "code",
   "execution_count": 6,
   "id": "5ee731e7-2d6a-452c-9868-f73d09e78c78",
   "metadata": {},
   "outputs": [],
   "source": [
    "\n",
    "def load_ml_data(data_path):\n",
    " df=pd.read_csv(data_path)\n",
    " df =df.drop(columns=unusedCols)\n",
    " df[labelCol]=df[labelCol].astype('int64')   \n",
    " return df\n",
    "\n",
    "def load_data_bq(sql:str):\n",
    " \n",
    " query_result=client.query(sql)\n",
    " df=query_result.to_dataframe()\n",
    " df =df.drop(columns=unusedCols)\n",
    " df[labelCol]=df[labelCol].astype('int64')   \n",
    " return df"
   ]
  },
  {
   "cell_type": "code",
   "execution_count": 7,
   "id": "d57ff6a1-7e79-46f7-9bba-3ff6b0d5a1c4",
   "metadata": {},
   "outputs": [
    {
     "name": "stdout",
     "output_type": "stream",
     "text": [
      "(1814, 8)\n",
      "<class 'pandas.core.frame.DataFrame'>\n",
      "RangeIndex: 1814 entries, 0 to 1813\n",
      "Data columns (total 8 columns):\n",
      " #   Column                     Non-Null Count  Dtype  \n",
      "---  ------                     --------------  -----  \n",
      " 0   sla                        1814 non-null   object \n",
      " 1   product_type               1814 non-null   object \n",
      " 2   brand                      1814 non-null   object \n",
      " 3   service_type               1814 non-null   object \n",
      " 4   incident_type              1814 non-null   object \n",
      " 5   open_to_close_hour         1814 non-null   float64\n",
      " 6   response_to_resolved_hour  1814 non-null   float64\n",
      " 7   label_binary_severity      1814 non-null   int64  \n",
      "dtypes: float64(2), int64(1), object(5)\n",
      "memory usage: 113.5+ KB\n",
      "None\n",
      "(227, 8)\n",
      "(227, 8)\n"
     ]
    }
   ],
   "source": [
    "train_table_id=f\"{projectId}.{dataset_id}.{train_name}\"\n",
    "val_tabel_id=f\"{projectId}.{dataset_id}.{validation_name}\"\n",
    "test_tabel_id=f\"{projectId}.{dataset_id}.{test_name}\"\n",
    "\n",
    "client = bigquery.Client(project=projectId)\n",
    "\n",
    "train=load_data_bq(f\"SELECT * FROM {train_table_id}\")\n",
    "val=load_data_bq(f\"SELECT * FROM {val_tabel_id}\")\n",
    "test=load_data_bq(f\"SELECT * FROM {test_tabel_id}\")\n",
    "\n",
    "\n",
    "# root_path='../../data'    \n",
    "# train = load_ml_data(f\"{root_path}/{train_name}.csv\")\n",
    "# val=load_ml_data(f\"{root_path}/{validation_name}.csv\")\n",
    "# test =load_ml_data(f\"{root_path}/{test_name}.csv\")\n",
    "\n",
    "print(train.shape)\n",
    "print(train.info())\n",
    "print(val.shape)\n",
    "print(test.shape)\n"
   ]
  },
  {
   "cell_type": "code",
   "execution_count": 8,
   "id": "5ddea3e1-b732-48c4-95fc-637108802a2c",
   "metadata": {},
   "outputs": [
    {
     "name": "stdout",
     "output_type": "stream",
     "text": [
      "[1, 0]\n",
      "No target label : 2\n",
      "<class 'pandas.core.frame.DataFrame'>\n",
      "RangeIndex: 1814 entries, 0 to 1813\n",
      "Data columns (total 8 columns):\n",
      " #   Column                     Non-Null Count  Dtype  \n",
      "---  ------                     --------------  -----  \n",
      " 0   sla                        1814 non-null   object \n",
      " 1   product_type               1814 non-null   object \n",
      " 2   brand                      1814 non-null   object \n",
      " 3   service_type               1814 non-null   object \n",
      " 4   incident_type              1814 non-null   object \n",
      " 5   open_to_close_hour         1814 non-null   float64\n",
      " 6   response_to_resolved_hour  1814 non-null   float64\n",
      " 7   label_binary_severity      1814 non-null   int64  \n",
      "dtypes: float64(2), int64(1), object(5)\n",
      "memory usage: 113.5+ KB\n",
      "None\n"
     ]
    },
    {
     "data": {
      "text/html": [
       "<div>\n",
       "<style scoped>\n",
       "    .dataframe tbody tr th:only-of-type {\n",
       "        vertical-align: middle;\n",
       "    }\n",
       "\n",
       "    .dataframe tbody tr th {\n",
       "        vertical-align: top;\n",
       "    }\n",
       "\n",
       "    .dataframe thead th {\n",
       "        text-align: right;\n",
       "    }\n",
       "</style>\n",
       "<table border=\"1\" class=\"dataframe\">\n",
       "  <thead>\n",
       "    <tr style=\"text-align: right;\">\n",
       "      <th></th>\n",
       "      <th>sla</th>\n",
       "      <th>product_type</th>\n",
       "      <th>brand</th>\n",
       "      <th>service_type</th>\n",
       "      <th>incident_type</th>\n",
       "      <th>open_to_close_hour</th>\n",
       "      <th>response_to_resolved_hour</th>\n",
       "      <th>label_binary_severity</th>\n",
       "    </tr>\n",
       "  </thead>\n",
       "  <tbody>\n",
       "    <tr>\n",
       "      <th>1809</th>\n",
       "      <td>24x7 4Hrs Response Time</td>\n",
       "      <td>Software</td>\n",
       "      <td>Trend Micro</td>\n",
       "      <td>Request</td>\n",
       "      <td>General Incident</td>\n",
       "      <td>76.283333</td>\n",
       "      <td>1.316667</td>\n",
       "      <td>0</td>\n",
       "    </tr>\n",
       "    <tr>\n",
       "      <th>1810</th>\n",
       "      <td>24x7 4Hrs Response Time</td>\n",
       "      <td>Software</td>\n",
       "      <td>Trend Micro</td>\n",
       "      <td>Request</td>\n",
       "      <td>OS / Firmware</td>\n",
       "      <td>1193.283333</td>\n",
       "      <td>1193.283333</td>\n",
       "      <td>0</td>\n",
       "    </tr>\n",
       "    <tr>\n",
       "      <th>1811</th>\n",
       "      <td>24x7 4Hrs Response Time</td>\n",
       "      <td>Software</td>\n",
       "      <td>Trend Micro</td>\n",
       "      <td>Request</td>\n",
       "      <td>General Incident</td>\n",
       "      <td>24.366667</td>\n",
       "      <td>22.050000</td>\n",
       "      <td>0</td>\n",
       "    </tr>\n",
       "    <tr>\n",
       "      <th>1812</th>\n",
       "      <td>24x7 4Hrs Response Time</td>\n",
       "      <td>Software</td>\n",
       "      <td>Trend Micro</td>\n",
       "      <td>Request</td>\n",
       "      <td>General Incident</td>\n",
       "      <td>308.166667</td>\n",
       "      <td>308.033333</td>\n",
       "      <td>0</td>\n",
       "    </tr>\n",
       "    <tr>\n",
       "      <th>1813</th>\n",
       "      <td>24x7 6Hrs Resolution Time</td>\n",
       "      <td>Software</td>\n",
       "      <td>Trend Micro</td>\n",
       "      <td>Request</td>\n",
       "      <td>General Incident</td>\n",
       "      <td>5.483333</td>\n",
       "      <td>5.483333</td>\n",
       "      <td>0</td>\n",
       "    </tr>\n",
       "  </tbody>\n",
       "</table>\n",
       "</div>"
      ],
      "text/plain": [
       "                            sla product_type        brand service_type  \\\n",
       "1809    24x7 4Hrs Response Time     Software  Trend Micro      Request   \n",
       "1810    24x7 4Hrs Response Time     Software  Trend Micro      Request   \n",
       "1811    24x7 4Hrs Response Time     Software  Trend Micro      Request   \n",
       "1812    24x7 4Hrs Response Time     Software  Trend Micro      Request   \n",
       "1813  24x7 6Hrs Resolution Time     Software  Trend Micro      Request   \n",
       "\n",
       "         incident_type  open_to_close_hour  response_to_resolved_hour  \\\n",
       "1809  General Incident           76.283333                   1.316667   \n",
       "1810     OS / Firmware         1193.283333                1193.283333   \n",
       "1811  General Incident           24.366667                  22.050000   \n",
       "1812  General Incident          308.166667                 308.033333   \n",
       "1813  General Incident            5.483333                   5.483333   \n",
       "\n",
       "      label_binary_severity  \n",
       "1809                      0  \n",
       "1810                      0  \n",
       "1811                      0  \n",
       "1812                      0  \n",
       "1813                      0  "
      ]
     },
     "execution_count": 8,
     "metadata": {},
     "output_type": "execute_result"
    }
   ],
   "source": [
    "labelList=list(train[labelCol].unique())\n",
    "print(labelList)\n",
    "nLabel=len(labelList)\n",
    "print(f\"No target label : {nLabel}\")\n",
    "\n",
    "# sr_predict=df.iloc[-1,:]\n",
    "# df=df.iloc[0:len(df)-1,:]\n",
    "                 \n",
    "print(train.info())\n",
    "train.tail()"
   ]
  },
  {
   "cell_type": "code",
   "execution_count": 9,
   "id": "92b6f44a-0672-46d9-812d-6bac766765d5",
   "metadata": {},
   "outputs": [
    {
     "data": {
      "text/html": [
       "<div>\n",
       "<style scoped>\n",
       "    .dataframe tbody tr th:only-of-type {\n",
       "        vertical-align: middle;\n",
       "    }\n",
       "\n",
       "    .dataframe tbody tr th {\n",
       "        vertical-align: top;\n",
       "    }\n",
       "\n",
       "    .dataframe thead th {\n",
       "        text-align: right;\n",
       "    }\n",
       "</style>\n",
       "<table border=\"1\" class=\"dataframe\">\n",
       "  <thead>\n",
       "    <tr style=\"text-align: right;\">\n",
       "      <th></th>\n",
       "      <th>Train-No-Severity</th>\n",
       "      <th>Train-%-Severity</th>\n",
       "      <th>Val-No-Severity</th>\n",
       "      <th>Val-%-Severity</th>\n",
       "      <th>Test-No-Severity</th>\n",
       "      <th>Test-%-Severity</th>\n",
       "    </tr>\n",
       "    <tr>\n",
       "      <th>label_binary_severity</th>\n",
       "      <th></th>\n",
       "      <th></th>\n",
       "      <th></th>\n",
       "      <th></th>\n",
       "      <th></th>\n",
       "      <th></th>\n",
       "    </tr>\n",
       "  </thead>\n",
       "  <tbody>\n",
       "    <tr>\n",
       "      <th>0</th>\n",
       "      <td>852</td>\n",
       "      <td>47.0</td>\n",
       "      <td>113</td>\n",
       "      <td>50.0</td>\n",
       "      <td>107</td>\n",
       "      <td>47.0</td>\n",
       "    </tr>\n",
       "    <tr>\n",
       "      <th>1</th>\n",
       "      <td>962</td>\n",
       "      <td>53.0</td>\n",
       "      <td>114</td>\n",
       "      <td>50.0</td>\n",
       "      <td>120</td>\n",
       "      <td>53.0</td>\n",
       "    </tr>\n",
       "  </tbody>\n",
       "</table>\n",
       "</div>"
      ],
      "text/plain": [
       "                       Train-No-Severity  Train-%-Severity  Val-No-Severity  \\\n",
       "label_binary_severity                                                         \n",
       "0                                    852              47.0              113   \n",
       "1                                    962              53.0              114   \n",
       "\n",
       "                       Val-%-Severity  Test-No-Severity  Test-%-Severity  \n",
       "label_binary_severity                                                     \n",
       "0                                50.0               107             47.0  \n",
       "1                                50.0               120             53.0  "
      ]
     },
     "execution_count": 9,
     "metadata": {},
     "output_type": "execute_result"
    }
   ],
   "source": [
    "def CalPctEachTargetClass(dfx,colSev,colPctSev):\n",
    "    dfClassSummary=dfx.groupby([labelCol]).size().to_frame(colSev)\n",
    "    dfClassSummary[colPctSev]= dfClassSummary[colSev]/dfClassSummary[colSev].sum() *100\n",
    "    dfClassSummary=dfClassSummary.round(0)\n",
    "    return dfClassSummary\n",
    "\n",
    "pctDF1=CalPctEachTargetClass(train,'Train-No-Severity','Train-%-Severity')\n",
    "pctDF2=CalPctEachTargetClass(val,'Val-No-Severity','Val-%-Severity')\n",
    "pdcDF3=CalPctEachTargetClass(test,'Test-No-Severity','Test-%-Severity')\n",
    "pctDF=pd.concat([pctDF1,pctDF2,pdcDF3],axis=1)\n",
    "\n",
    "pctDF"
   ]
  },
  {
   "cell_type": "code",
   "execution_count": 10,
   "id": "c59e9916-6668-4c4e-8974-af63c3f840b0",
   "metadata": {},
   "outputs": [
    {
     "data": {
      "image/png": "[encoded data removed]",
      "text/plain": [
       "<Figure size 1500x500 with 1 Axes>"
      ]
     },
     "metadata": {},
     "output_type": "display_data"
    },
    {
     "data": {
      "image/png": "[encoded data removed]",
      "text/plain": [
       "<Figure size 1500x500 with 1 Axes>"
      ]
     },
     "metadata": {},
     "output_type": "display_data"
    },
    {
     "data": {
      "image/png": "[encoded data removed]",
      "text/plain": [
       "<Figure size 1500x500 with 1 Axes>"
      ]
     },
     "metadata": {},
     "output_type": "display_data"
    }
   ],
   "source": [
    "def plot_class(df):\n",
    "    fig , ax = plt.subplots(figsize=(15,5))\n",
    "    ax =sns.countplot(x=labelCol, data=df,)\n",
    "    for p in ax.patches:\n",
    "       ax.annotate('{:.1f}'.format(p.get_height()), (p.get_x()+0.25, p.get_height()+0.01))\n",
    "    plt.title(labelCol.title())\n",
    "    plt.show()\n",
    "    \n",
    "plot_class(train)\n",
    "plot_class(val)\n",
    "plot_class(test)"
   ]
  },
  {
   "cell_type": "code",
   "execution_count": 11,
   "id": "6b44b56b-79a8-46e4-ace9-f44040e72b94",
   "metadata": {},
   "outputs": [],
   "source": [
    "# A utility method to create a tf.data dataset from a Pandas Dataframe\n",
    "def binary_label_df_to_dataset(dataframe, shuffle=True, batch_size=32):\n",
    "  dataframe = dataframe.copy()\n",
    "  labels = dataframe.pop(labelCol)\n",
    "  ds = tf.data.Dataset.from_tensor_slices((dict(dataframe), labels))\n",
    "  if shuffle:\n",
    "    ds = ds.shuffle(buffer_size=len(dataframe))\n",
    "  ds = ds.batch(batch_size)\n",
    "  ds = ds.prefetch(batch_size)\n",
    "  return ds"
   ]
  },
  {
   "cell_type": "code",
   "execution_count": 12,
   "id": "02ad8837-968e-4d68-bdb6-1c7eba97e69c",
   "metadata": {},
   "outputs": [],
   "source": [
    "def get_normalization_layer(name, dataset):\n",
    "  # Create a Normalization layer for our feature.\n",
    "  normalizer = preprocessing.Normalization(axis=None)\n",
    "\n",
    "  # Prepare a Dataset that only yields our feature.\n",
    "  feature_ds = dataset.map(lambda x, y: x[name])\n",
    "\n",
    "  # Learn the statistics of the data.\n",
    "  normalizer.adapt(feature_ds)\n",
    "\n",
    "  return normalizer"
   ]
  },
  {
   "cell_type": "code",
   "execution_count": 13,
   "id": "237bce3c-9c77-4318-8682-fc36af0a6804",
   "metadata": {},
   "outputs": [],
   "source": [
    "def get_category_encoding_layer(name, dataset, dtype, max_tokens=None):\n",
    "  # Create a StringLookup layer which will turn strings into integer indices\n",
    "  if dtype == 'string':\n",
    "    index = preprocessing.StringLookup(max_tokens=max_tokens)\n",
    "  else:\n",
    "    index = preprocessing.IntegerLookup(max_tokens=max_tokens)\n",
    "\n",
    "  # Prepare a Dataset that only yields our feature\n",
    "  feature_ds = dataset.map(lambda x, y: x[name])\n",
    "\n",
    "  # Learn the set of possible values and assign them a fixed integer index.\n",
    "  index.adapt(feature_ds)\n",
    "\n",
    "  # Create a Discretization for our integer indices.\n",
    "  encoder = preprocessing.CategoryEncoding(num_tokens=index.vocabulary_size())\n",
    "\n",
    "  # Apply one-hot encoding to our indices. The lambda function captures the\n",
    "  # layer so we can use them, or include them in the functional model later.\n",
    "  return lambda feature: encoder(index(feature))\n",
    "     "
   ]
  },
  {
   "cell_type": "code",
   "execution_count": null,
   "id": "79150379-8d52-43eb-92fa-3a13d3c57633",
   "metadata": {},
   "outputs": [],
   "source": []
  },
  {
   "cell_type": "markdown",
   "id": "fa30d3fd-14e9-4c3d-a6aa-45d8114f5362",
   "metadata": {},
   "source": [
    "# Process Data "
   ]
  },
  {
   "cell_type": "code",
   "execution_count": 14,
   "id": "5b3122dc-b371-46ec-bd8c-82e81eb44ad1",
   "metadata": {},
   "outputs": [],
   "source": [
    "batch_size =32\n",
    "train_ds = binary_label_df_to_dataset (train, batch_size=batch_size)\n",
    "val_ds = binary_label_df_to_dataset(val, shuffle=False, batch_size=batch_size)\n",
    "test_ds = binary_label_df_to_dataset(test, shuffle=False, batch_size=batch_size)"
   ]
  },
  {
   "cell_type": "code",
   "execution_count": null,
   "id": "a208edf3-43b2-421d-909b-add075802245",
   "metadata": {},
   "outputs": [],
   "source": [
    "import autokeras as ak\n",
    "\n",
    "clf = ak.StructuredDataClassifier(overwrite=True, max_trials=5)\n",
    "# Feed the tensorflow Dataset to the classifier.\n",
    "clf.fit(train_ds, epochs=10)\n",
    "# Predict with the best model.\n",
    "predicted_y = clf.predict(test_set)\n",
    "# Evaluate the best model with testing data.\n",
    "print(clf.evaluate(test_set))"
   ]
  },
  {
   "cell_type": "code",
   "execution_count": null,
   "id": "98c75b75-1357-4a4d-80f7-ea9e12690623",
   "metadata": {},
   "outputs": [],
   "source": []
  },
  {
   "cell_type": "code",
   "execution_count": null,
   "id": "019ee1c8-b396-4288-9164-57d8428693c7",
   "metadata": {},
   "outputs": [],
   "source": []
  },
  {
   "cell_type": "code",
   "execution_count": null,
   "id": "4d352700-aacb-41e0-ab5e-3ba31626e77d",
   "metadata": {},
   "outputs": [],
   "source": []
  },
  {
   "cell_type": "code",
   "execution_count": null,
   "id": "9e47e5f3-b2bc-4280-a30c-a730b49cbb2e",
   "metadata": {},
   "outputs": [],
   "source": []
  },
  {
   "cell_type": "code",
   "execution_count": null,
   "id": "ea350d74-3b1f-4e21-94e6-6b1e09a11f94",
   "metadata": {},
   "outputs": [],
   "source": []
  },
  {
   "cell_type": "code",
   "execution_count": 16,
   "id": "e9958d24-4d8f-4527-bc19-c657e1d9b22e",
   "metadata": {},
   "outputs": [],
   "source": [
    "all_inputs = []\n",
    "encoded_features = []\n",
    "\n",
    "numInputFeatToInitNodeUnit=0"
   ]
  },
  {
   "cell_type": "code",
   "execution_count": 17,
   "id": "723a69b6-d9c1-49d9-bc81-ed421d8700cb",
   "metadata": {},
   "outputs": [
    {
     "name": "stdout",
     "output_type": "stream",
     "text": [
      "header: Mean=96.70577912532157 and Std=264.30857031412927\n",
      "WARNING:tensorflow:From D:\\ProgramData\\Anaconda3\\envs\\dev_google\\lib\\site-packages\\tensorflow\\python\\autograph\\pyct\\static_analysis\\liveness.py:83: Analyzer.lamba_check (from tensorflow.python.autograph.pyct.static_analysis.liveness) is deprecated and will be removed after 2023-09-23.\n",
      "Instructions for updating:\n",
      "Lambda fuctions will be no more assumed to be used in the statement where they are used, or at least in the same block. https://github.com/tensorflow/tensorflow/issues/56089\n",
      "header: Mean=69.23291988239617 and Std=210.15946331055562\n"
     ]
    }
   ],
   "source": [
    "# Numeric features.\n",
    "for header in numbericCols:\n",
    "  stat_data=train[header].describe()\n",
    "  print(f\"header: Mean={stat_data['mean']} and Std={stat_data['std']}\") \n",
    "  numeric_col = tf.keras.Input(shape=(1,), name=header)\n",
    "  normalization_layer = get_normalization_layer(header, train_ds)\n",
    "  encoded_numeric_col = normalization_layer(numeric_col)\n",
    "  all_inputs.append(numeric_col)\n",
    "  encoded_features.append(encoded_numeric_col)\n",
    "\n",
    "numInputFeatToInitNodeUnit=numInputFeatToInitNodeUnit+len(numbericCols)"
   ]
  },
  {
   "cell_type": "code",
   "execution_count": 18,
   "id": "41b59cb7-0c30-42f7-b87f-f408c72dcc72",
   "metadata": {},
   "outputs": [
    {
     "name": "stdout",
     "output_type": "stream",
     "text": [
      "sla = 7 : ['24x7 4Hrs Resolution Time' '8x5 4Hrs Response Time'\n",
      " '24x7 6Hrs Resolution Time' '24x7 4Hrs Response Time'\n",
      " '9x5xNBD 4Hrs Response Time' '24x7 6Hrs Response Time' 'Non MA']\n",
      "product_type = 10 : ['Server' 'Software' 'Other' 'Firewall' 'Hardware' 'Storage' 'Switch'\n",
      " 'Access Point' 'Security' 'Tape Library']\n",
      "brand = 23 : ['IBM' 'Microsoft' 'F5' 'Nutanix' 'CheckPoint' 'Broadcom' 'CIMCO-CMMS'\n",
      " 'eUnite' 'Fortinet' 'EMC' 'HPE' 'YIP' 'DELL' 'Cisco' 'SAPB1' 'Veeam'\n",
      " 'NetApp' 'Oracle' 'VMWare' 'Red Hat' 'Veritas' 'Palo Alto' 'Trend Micro']\n",
      "service_type = 2 : ['Incident' 'Request']\n",
      "incident_type = 21 : ['Hard Disk Drive Failure' 'General Incident' 'Software'\n",
      " 'Network Cable Failure' 'Maintenance System' 'Upgrade Software'\n",
      " 'Network Adapter Failure' 'Report' 'Memory Failure'\n",
      " 'System Board Failure' 'Controller/Node Failure' 'CPU Failure'\n",
      " 'Network Card Failure' 'Power Supply Failure' 'Cache Battery Failure'\n",
      " 'Other Failure' 'OS / Firmware' 'Configuration Change' 'Battery Failure'\n",
      " 'Fan Failure' 'Backup Failure']\n",
      "Total column to initialize first node input: 70\n"
     ]
    }
   ],
   "source": [
    "# Categorical features encoded as string.\n",
    "categorical_cols = cateCols\n",
    "for header in categorical_cols:\n",
    "  listCateItem=train[header].unique()\n",
    "  noCateItem=len(listCateItem)\n",
    "  numInputFeatToInitNodeUnit=numInputFeatToInitNodeUnit+noCateItem +1  # last 1 is unknow\n",
    "    \n",
    "  print(f\"{header} = {noCateItem} : {listCateItem}\")\n",
    "  categorical_col = tf.keras.Input(shape=(1,), name=header, dtype='string')\n",
    "  encoding_layer = get_category_encoding_layer(header, train_ds, dtype='string')\n",
    "                                        \n",
    "  encoded_categorical_col = encoding_layer(categorical_col)\n",
    "  all_inputs.append(categorical_col)\n",
    "  encoded_features.append(encoded_categorical_col)\n",
    "\n",
    "\n",
    "print(f\"Total column to initialize first node input: {numInputFeatToInitNodeUnit}\")"
   ]
  },
  {
   "cell_type": "code",
   "execution_count": 19,
   "id": "f89ba051-c41f-432a-b306-7ab9dad5ad92",
   "metadata": {},
   "outputs": [],
   "source": [
    "all_features = tf.keras.layers.concatenate(encoded_features)\n",
    "\n",
    "x = tf.keras.layers.Dense(numInputFeatToInitNodeUnit, activation=\"relu\")(all_features)\n",
    "x = tf.keras.layers.Dropout(0.1)(x)\n",
    "\n",
    "# x = tf.keras.layers.Dense(32, activation=\"relu\")(x)\n",
    "# x = tf.keras.layers.Dropout(0.1)(x)\n",
    "\n",
    "output = tf.keras.layers.Dense(1)(x)\n",
    "\n",
    "model = tf.keras.Model(all_inputs, output)\n",
    "\n",
    "model.compile(optimizer='adam',\n",
    "              loss=tf.keras.losses.BinaryCrossentropy(from_logits=True),\n",
    "              metrics=[\"accuracy\"])\n",
    "\n",
    "#model.summary()\n"
   ]
  },
  {
   "cell_type": "code",
   "execution_count": 20,
   "id": "25688a22-05f5-4cac-b662-d261b5dcfb78",
   "metadata": {},
   "outputs": [
    {
     "name": "stdout",
     "output_type": "stream",
     "text": [
      "Epoch 1/100\n",
      "57/57 [==============================] - 3s 18ms/step - loss: 0.6197 - accuracy: 0.5948 - val_loss: 0.5498 - val_accuracy: 0.7401\n",
      "Epoch 2/100\n",
      "57/57 [==============================] - 0s 7ms/step - loss: 0.5224 - accuracy: 0.7205 - val_loss: 0.4816 - val_accuracy: 0.7621\n",
      "Epoch 3/100\n",
      "57/57 [==============================] - 1s 10ms/step - loss: 0.4820 - accuracy: 0.7453 - val_loss: 0.4527 - val_accuracy: 0.7665\n",
      "Epoch 4/100\n",
      "57/57 [==============================] - 1s 13ms/step - loss: 0.4557 - accuracy: 0.7641 - val_loss: 0.4418 - val_accuracy: 0.7753\n",
      "Epoch 5/100\n",
      "57/57 [==============================] - 1s 12ms/step - loss: 0.4446 - accuracy: 0.7740 - val_loss: 0.4326 - val_accuracy: 0.7577\n",
      "Epoch 6/100\n",
      "57/57 [==============================] - 1s 16ms/step - loss: 0.4344 - accuracy: 0.7751 - val_loss: 0.4289 - val_accuracy: 0.7577\n",
      "Epoch 7/100\n",
      "57/57 [==============================] - 1s 15ms/step - loss: 0.4285 - accuracy: 0.7740 - val_loss: 0.4272 - val_accuracy: 0.7797\n",
      "Epoch 8/100\n",
      "57/57 [==============================] - 1s 11ms/step - loss: 0.4226 - accuracy: 0.7806 - val_loss: 0.4229 - val_accuracy: 0.7621\n",
      "Epoch 9/100\n",
      "57/57 [==============================] - 1s 14ms/step - loss: 0.4176 - accuracy: 0.7839 - val_loss: 0.4215 - val_accuracy: 0.7621\n",
      "Epoch 10/100\n",
      "57/57 [==============================] - 1s 12ms/step - loss: 0.4112 - accuracy: 0.7894 - val_loss: 0.4217 - val_accuracy: 0.7621\n",
      "Epoch 11/100\n",
      "57/57 [==============================] - 1s 16ms/step - loss: 0.4068 - accuracy: 0.7867 - val_loss: 0.4180 - val_accuracy: 0.7621\n",
      "Epoch 12/100\n",
      "57/57 [==============================] - 1s 15ms/step - loss: 0.4122 - accuracy: 0.7894 - val_loss: 0.4174 - val_accuracy: 0.7577\n",
      "Epoch 13/100\n",
      "57/57 [==============================] - 1s 11ms/step - loss: 0.4036 - accuracy: 0.7993 - val_loss: 0.4133 - val_accuracy: 0.7665\n",
      "Epoch 14/100\n",
      "57/57 [==============================] - 1s 11ms/step - loss: 0.3973 - accuracy: 0.8021 - val_loss: 0.4114 - val_accuracy: 0.7621\n",
      "Epoch 15/100\n",
      "57/57 [==============================] - 1s 12ms/step - loss: 0.3957 - accuracy: 0.8004 - val_loss: 0.4106 - val_accuracy: 0.7709\n",
      "Epoch 16/100\n",
      "57/57 [==============================] - 1s 14ms/step - loss: 0.3929 - accuracy: 0.7938 - val_loss: 0.4105 - val_accuracy: 0.7665\n",
      "Epoch 17/100\n",
      "57/57 [==============================] - 1s 9ms/step - loss: 0.3923 - accuracy: 0.8049 - val_loss: 0.4174 - val_accuracy: 0.7841\n",
      "Epoch 18/100\n",
      "57/57 [==============================] - 1s 10ms/step - loss: 0.3900 - accuracy: 0.8104 - val_loss: 0.4093 - val_accuracy: 0.7709\n",
      "Epoch 19/100\n",
      "57/57 [==============================] - 1s 9ms/step - loss: 0.3886 - accuracy: 0.8037 - val_loss: 0.4092 - val_accuracy: 0.7841\n",
      "Epoch 20/100\n",
      "57/57 [==============================] - 1s 9ms/step - loss: 0.3821 - accuracy: 0.8109 - val_loss: 0.4067 - val_accuracy: 0.7709\n",
      "Epoch 21/100\n",
      "57/57 [==============================] - 1s 9ms/step - loss: 0.3845 - accuracy: 0.8109 - val_loss: 0.4070 - val_accuracy: 0.7841\n",
      "Epoch 22/100\n",
      "57/57 [==============================] - 1s 9ms/step - loss: 0.3817 - accuracy: 0.8153 - val_loss: 0.4049 - val_accuracy: 0.7665\n",
      "Epoch 23/100\n",
      "57/57 [==============================] - 1s 9ms/step - loss: 0.3782 - accuracy: 0.8148 - val_loss: 0.4035 - val_accuracy: 0.7797\n",
      "Epoch 24/100\n",
      "57/57 [==============================] - 1s 10ms/step - loss: 0.3806 - accuracy: 0.8076 - val_loss: 0.4041 - val_accuracy: 0.7797\n",
      "Epoch 25/100\n",
      "57/57 [==============================] - 1s 12ms/step - loss: 0.3742 - accuracy: 0.8170 - val_loss: 0.4054 - val_accuracy: 0.7841\n",
      "Epoch 26/100\n",
      "57/57 [==============================] - 1s 13ms/step - loss: 0.3749 - accuracy: 0.8159 - val_loss: 0.4045 - val_accuracy: 0.7753\n",
      "Epoch 27/100\n",
      "57/57 [==============================] - 1s 9ms/step - loss: 0.3733 - accuracy: 0.8192 - val_loss: 0.4041 - val_accuracy: 0.7797\n",
      "Epoch 28/100\n",
      "57/57 [==============================] - 1s 9ms/step - loss: 0.3762 - accuracy: 0.8115 - val_loss: 0.4040 - val_accuracy: 0.8018\n",
      "Epoch 29/100\n",
      "57/57 [==============================] - 1s 10ms/step - loss: 0.3725 - accuracy: 0.8225 - val_loss: 0.4022 - val_accuracy: 0.7797\n",
      "Epoch 30/100\n",
      "57/57 [==============================] - 1s 9ms/step - loss: 0.3727 - accuracy: 0.8153 - val_loss: 0.4038 - val_accuracy: 0.7974\n",
      "Epoch 31/100\n",
      "57/57 [==============================] - 1s 8ms/step - loss: 0.3706 - accuracy: 0.8214 - val_loss: 0.4010 - val_accuracy: 0.7797\n",
      "Epoch 32/100\n",
      "57/57 [==============================] - 1s 8ms/step - loss: 0.3741 - accuracy: 0.8164 - val_loss: 0.4039 - val_accuracy: 0.7797\n",
      "Epoch 33/100\n",
      "57/57 [==============================] - 1s 8ms/step - loss: 0.3673 - accuracy: 0.8186 - val_loss: 0.4065 - val_accuracy: 0.7885\n",
      "Epoch 34/100\n",
      "57/57 [==============================] - 0s 8ms/step - loss: 0.3670 - accuracy: 0.8203 - val_loss: 0.4033 - val_accuracy: 0.7974\n",
      "Epoch 35/100\n",
      "57/57 [==============================] - 0s 8ms/step - loss: 0.3628 - accuracy: 0.8247 - val_loss: 0.4030 - val_accuracy: 0.7753\n",
      "Epoch 36/100\n",
      "57/57 [==============================] - 0s 8ms/step - loss: 0.3611 - accuracy: 0.8225 - val_loss: 0.4038 - val_accuracy: 0.7930\n",
      "Epoch 37/100\n",
      "57/57 [==============================] - 1s 9ms/step - loss: 0.3654 - accuracy: 0.8197 - val_loss: 0.4048 - val_accuracy: 0.7797\n",
      "Epoch 38/100\n",
      "57/57 [==============================] - 0s 8ms/step - loss: 0.3608 - accuracy: 0.8236 - val_loss: 0.4031 - val_accuracy: 0.7753\n",
      "Epoch 39/100\n",
      "57/57 [==============================] - 0s 8ms/step - loss: 0.3585 - accuracy: 0.8252 - val_loss: 0.4057 - val_accuracy: 0.7709\n",
      "Epoch 40/100\n",
      "57/57 [==============================] - 0s 8ms/step - loss: 0.3578 - accuracy: 0.8275 - val_loss: 0.4061 - val_accuracy: 0.7709\n",
      "Epoch 41/100\n",
      "57/57 [==============================] - 1s 8ms/step - loss: 0.3598 - accuracy: 0.8225 - val_loss: 0.4068 - val_accuracy: 0.7753\n",
      "Epoch 41: early stopping\n"
     ]
    }
   ],
   "source": [
    "EPOCHS = 100\n",
    "BATCH_SIZE = 32\n",
    "\n",
    "\n",
    "early_stopping = tf.keras.callbacks.EarlyStopping(monitor='val_loss', patience=10, verbose=1)\n",
    "history =model.fit(train_ds, validation_data=val_ds,epochs=EPOCHS,batch_size=BATCH_SIZE,callbacks = [early_stopping])\n",
    "# history =model.fit(train_ds,verbose=1,validation_data=val_ds,epochs=EPOCHS,batch_size=BATCH_SIZE)\n"
   ]
  },
  {
   "cell_type": "code",
   "execution_count": 21,
   "id": "f71e3efc-10f6-498b-97f6-5ed44b9534d0",
   "metadata": {},
   "outputs": [
    {
     "name": "stdout",
     "output_type": "stream",
     "text": [
      "8/8 [==============================] - 0s 11ms/step - loss: 0.4068 - accuracy: 0.7753\n",
      "Average Accuracy on Eveluation 0.7753304243087769\n",
      "8/8 [==============================] - 0s 10ms/step - loss: 0.4925 - accuracy: 0.7577\n",
      "Average Accuracy  on Test 0.757709264755249\n"
     ]
    }
   ],
   "source": [
    "loss, accuracy = model.evaluate(val_ds)\n",
    "print(\"Average Accuracy on Eveluation\", accuracy)\n",
    "loss, accuracy = model.evaluate(test_ds)\n",
    "print(\"Average Accuracy  on Test\", accuracy)\n",
    "     "
   ]
  },
  {
   "cell_type": "code",
   "execution_count": 22,
   "id": "739ebc03-3f34-4f1a-92c4-b152887a538c",
   "metadata": {},
   "outputs": [
    {
     "data": {
      "image/png": "[encoded data removed]",
      "text/plain": [
       "<Figure size 1500x800 with 2 Axes>"
      ]
     },
     "metadata": {},
     "output_type": "display_data"
    }
   ],
   "source": [
    "plt.figure(figsize=(15,8))\n",
    "colors = plt.rcParams['axes.prop_cycle'].by_key()['color']\n",
    "\n",
    "def plot_metrics(history):\n",
    "  metrics =  ['loss', 'accuracy']\n",
    "  for n, metric in enumerate(metrics):\n",
    "    name = metric.replace(\"_\",\" \").capitalize()\n",
    "    plt.subplot(2,2,n+1)\n",
    "    plt.plot(history.epoch,  history.history[metric], color=colors[0], label='Train')\n",
    "    plt.plot(history.epoch, history.history['val_'+metric],\n",
    "             color=colors[0], linestyle=\"--\", label='Val')\n",
    "    plt.xlabel('Epoch')\n",
    "    plt.ylabel(name)\n",
    "    if metric == 'loss':\n",
    "      plt.ylim([0, plt.ylim()[1]])\n",
    "    elif metric == 'auc':\n",
    "      plt.ylim([0.8,1])\n",
    "    else:\n",
    "      plt.ylim([0,1])\n",
    "\n",
    "    plt.legend()\n",
    "\n",
    "plot_metrics(history)"
   ]
  },
  {
   "cell_type": "code",
   "execution_count": 23,
   "id": "ab8f677c-dfa2-48b5-b980-6cc10f2e0033",
   "metadata": {},
   "outputs": [
    {
     "name": "stderr",
     "output_type": "stream",
     "text": [
      "WARNING:absl:Found untraced functions such as _update_step_xla while saving (showing 1 of 1). These functions will not be directly callable after loading.\n"
     ]
    },
    {
     "name": "stdout",
     "output_type": "stream",
     "text": [
      "INFO:tensorflow:Assets written to: model_binary\\assets\n"
     ]
    },
    {
     "name": "stderr",
     "output_type": "stream",
     "text": [
      "INFO:tensorflow:Assets written to: model_binary\\assets\n"
     ]
    }
   ],
   "source": [
    "model.save(model_dir)\n"
   ]
  },
  {
   "cell_type": "code",
   "execution_count": null,
   "id": "c5eca661-46ba-4492-9b48-41ef85487ee3",
   "metadata": {},
   "outputs": [],
   "source": []
  },
  {
   "cell_type": "code",
   "execution_count": null,
   "id": "b8161192-5269-40e8-935e-82d828a7ebb3",
   "metadata": {},
   "outputs": [],
   "source": []
  }
 ],
 "metadata": {
  "kernelspec": {
   "display_name": "Python 3 (ipykernel)",
   "language": "python",
   "name": "python3"
  },
  "language_info": {
   "codemirror_mode": {
    "name": "ipython",
    "version": 3
   },
   "file_extension": ".py",
   "mimetype": "text/x-python",
   "name": "python",
   "nbconvert_exporter": "python",
   "pygments_lexer": "ipython3",
   "version": "3.9.16"
  }
 },
 "nbformat": 4,
 "nbformat_minor": 5
}
