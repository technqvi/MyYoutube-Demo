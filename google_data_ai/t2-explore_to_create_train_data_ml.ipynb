{
 "cells": [
  {
   "cell_type": "code",
   "execution_count": null,
   "id": "2f34d8c3-2123-4a36-bd02-eb891426a743",
   "metadata": {},
   "outputs": [],
   "source": [
    "from google.cloud import bigquery\n",
    "\n",
    "import pandas as pd\n",
    "import numpy as np\n",
    "import math\n",
    "\n",
    "from sklearn.model_selection import train_test_split\n",
    "\n",
    "from scipy import stats\n",
    "from dython.nominal import associations\n",
    "\n",
    "import seaborn as sns\n",
    "import matplotlib.pyplot  as plt"
   ]
  },
  {
   "cell_type": "code",
   "execution_count": null,
   "id": "735cbb2f-506a-4dbc-ab6a-46f9226025e7",
   "metadata": {},
   "outputs": [],
   "source": [
    "train_name='train_incident'\n",
    "validation_name='validation_incident'\n",
    "test_name='test_incident'\n",
    "\n",
    "projectId='pongthorn'\n",
    "dataset_id='DemoSMartDW'"
   ]
  },
  {
   "cell_type": "code",
   "execution_count": 7,
   "id": "fcc20b34-924e-4865-b18f-cf8812eadc1a",
   "metadata": {},
   "outputs": [],
   "source": [
    "\n",
    "dw_table_id = f\"{projectId}.{dataset_id}.incident\"\n",
    "\n",
    "train_table_id=f\"{projectId}.{dataset_id}.{train_name}\"\n",
    "val_tabel_id=f\"{projectId}.{dataset_id}.{validation_name}\"\n",
    "test_tabel_id=f\"{projectId}.{dataset_id}.{test_name}\"\n",
    "\n",
    "file_name=\"ML_Incident.csv\""
   ]
  },
  {
   "cell_type": "code",
   "execution_count": 8,
   "id": "c5010a89-87a8-4bbf-9926-9bb162442892",
   "metadata": {},
   "outputs": [],
   "source": [
    "label='severity_id'\n",
    "labelName='severity_name'\n",
    "\n",
    "threshold_x_sd = 3  # 2.5/3/3.5  3SD\n",
    "\n",
    "removeCols=['id','updated_at','imported_at']\n",
    "\n",
    "dateCols=['open_datetime','close_datetime','response_datetime','resolved_datetime']\n",
    "\n",
    "numbericCols=['count_detail','open_to_close_hour','open_to_response_hour','response_to_resolved_hour']\n",
    "\n",
    "cateCols=['sla','product_type','brand','service_type','incident_type']\n"
   ]
  },
  {
   "cell_type": "markdown",
   "id": "009b5a36-7f3c-4a2a-88bb-cb9df3788bf2",
   "metadata": {},
   "source": [
    "# Load  Data from BigQuery"
   ]
  },
  {
   "cell_type": "code",
   "execution_count": 26,
   "id": "36a4b6a2-547f-4115-87cf-528e55cfb18c",
   "metadata": {},
   "outputs": [],
   "source": [
    "def load_data_bq(sql:str):\n",
    "\n",
    " query_result=client.query(sql)\n",
    " df_all=query_result.to_dataframe()\n",
    " return df_all\n"
   ]
  },
  {
   "cell_type": "code",
   "execution_count": 28,
   "id": "282d0fca-6515-4936-ae1d-469d56dc0473",
   "metadata": {},
   "outputs": [
    {
     "name": "stdout",
     "output_type": "stream",
     "text": [
      "\n",
      "SELECT  id,severity_id,severity_name\n",
      ",count_detail\n",
      ",sla,product_type,brand,service_type,incident_type\n",
      ",open_datetime,  close_datetime, response_datetime,resolved_datetime\n",
      ",updated_at,imported_at\n",
      "\n",
      "FROM `pongthorn.DemoSMartDW.incident`    \n",
      "\n",
      "WHERE imported_at< '2023-04-04'\n",
      "\n",
      "order  by imported_at\n",
      "\n"
     ]
    }
   ],
   "source": [
    "imported_to='2023-04-04' \n",
    "\n",
    "sql_all=f\"\"\"\n",
    "SELECT  id,severity_id,severity_name\n",
    ",count_detail\n",
    ",sla,product_type,brand,service_type,incident_type\n",
    ",open_datetime,  close_datetime, response_datetime,resolved_datetime\n",
    ",updated_at,imported_at\n",
    "\n",
    "FROM `{dw_table_id}`    \n",
    "\n",
    "WHERE imported_at< '{imported_to}'\n",
    "\n",
    "order  by imported_at\n",
    "\"\"\"\n",
    "\n",
    "print(sql_all)"
   ]
  },
  {
   "cell_type": "code",
   "execution_count": 29,
   "id": "92f05c43-bd93-49df-9318-f03fc59a692b",
   "metadata": {},
   "outputs": [
    {
     "name": "stdout",
     "output_type": "stream",
     "text": [
      "Load data from Bigquery\n",
      "(2418, 15)\n"
     ]
    }
   ],
   "source": [
    "print(\"Load data from Bigquery\")\n",
    "df_all=load_data_bq(sql_all)\n",
    "if len(df_all)==0:\n",
    " print(\"No records from bigquery\")  \n",
    " quit()\n",
    "else:\n",
    " print(df_all.shape)   "
   ]
  },
  {
   "cell_type": "code",
   "execution_count": 30,
   "id": "60ecb218-398b-4218-9ecd-4ee5ec4ebf92",
   "metadata": {},
   "outputs": [
    {
     "name": "stdout",
     "output_type": "stream",
     "text": [
      "<class 'pandas.core.frame.DataFrame'>\n",
      "Int64Index: 2418 entries, 0 to 2417\n",
      "Data columns (total 15 columns):\n",
      " #   Column             Non-Null Count  Dtype         \n",
      "---  ------             --------------  -----         \n",
      " 0   id                 2418 non-null   Int64         \n",
      " 1   severity_id        2418 non-null   Int64         \n",
      " 2   severity_name      2418 non-null   object        \n",
      " 3   count_detail       2418 non-null   Int64         \n",
      " 4   sla                2418 non-null   object        \n",
      " 5   product_type       2418 non-null   object        \n",
      " 6   brand              2418 non-null   object        \n",
      " 7   service_type       2418 non-null   object        \n",
      " 8   incident_type      2418 non-null   object        \n",
      " 9   open_datetime      2418 non-null   datetime64[ns]\n",
      " 10  close_datetime     2418 non-null   datetime64[ns]\n",
      " 11  response_datetime  2418 non-null   datetime64[ns]\n",
      " 12  resolved_datetime  2418 non-null   datetime64[ns]\n",
      " 13  updated_at         2418 non-null   datetime64[ns]\n",
      " 14  imported_at        2418 non-null   datetime64[ns]\n",
      "dtypes: Int64(3), datetime64[ns](6), object(6)\n",
      "memory usage: 309.3+ KB\n"
     ]
    }
   ],
   "source": [
    "df_all=df_all.drop_duplicates(subset=['id'],keep='last')\n",
    "no_original_rows=len(df_all)\n",
    "\n",
    "df_all.info()"
   ]
  },
  {
   "cell_type": "code",
   "execution_count": 31,
   "id": "0baa5a86-adc4-4f42-919c-351cfd0776d8",
   "metadata": {},
   "outputs": [
    {
     "data": {
      "text/html": [
       "<div>\n",
       "<style scoped>\n",
       "    .dataframe tbody tr th:only-of-type {\n",
       "        vertical-align: middle;\n",
       "    }\n",
       "\n",
       "    .dataframe tbody tr th {\n",
       "        vertical-align: top;\n",
       "    }\n",
       "\n",
       "    .dataframe thead th {\n",
       "        text-align: right;\n",
       "    }\n",
       "</style>\n",
       "<table border=\"1\" class=\"dataframe\">\n",
       "  <thead>\n",
       "    <tr style=\"text-align: right;\">\n",
       "      <th></th>\n",
       "      <th>open_to_close_hour</th>\n",
       "      <th>open_to_response_hour</th>\n",
       "      <th>response_to_resolved_hour</th>\n",
       "    </tr>\n",
       "  </thead>\n",
       "  <tbody>\n",
       "    <tr>\n",
       "      <th>2413</th>\n",
       "      <td>9.466667</td>\n",
       "      <td>0.016667</td>\n",
       "      <td>9.450000</td>\n",
       "    </tr>\n",
       "    <tr>\n",
       "      <th>2414</th>\n",
       "      <td>96.450000</td>\n",
       "      <td>1.116667</td>\n",
       "      <td>77.650000</td>\n",
       "    </tr>\n",
       "    <tr>\n",
       "      <th>2415</th>\n",
       "      <td>0.883333</td>\n",
       "      <td>0.166667</td>\n",
       "      <td>0.716667</td>\n",
       "    </tr>\n",
       "    <tr>\n",
       "      <th>2416</th>\n",
       "      <td>4.666667</td>\n",
       "      <td>0.183333</td>\n",
       "      <td>4.483333</td>\n",
       "    </tr>\n",
       "    <tr>\n",
       "      <th>2417</th>\n",
       "      <td>5.483333</td>\n",
       "      <td>0.000000</td>\n",
       "      <td>5.483333</td>\n",
       "    </tr>\n",
       "  </tbody>\n",
       "</table>\n",
       "</div>"
      ],
      "text/plain": [
       "      open_to_close_hour  open_to_response_hour  response_to_resolved_hour\n",
       "2413            9.466667               0.016667                   9.450000\n",
       "2414           96.450000               1.116667                  77.650000\n",
       "2415            0.883333               0.166667                   0.716667\n",
       "2416            4.666667               0.183333                   4.483333\n",
       "2417            5.483333               0.000000                   5.483333"
      ]
     },
     "execution_count": 31,
     "metadata": {},
     "output_type": "execute_result"
    }
   ],
   "source": [
    "start_end_list=[ ['open_datetime','close_datetime'],['open_datetime','response_datetime'],['response_datetime','resolved_datetime']]\n",
    "listDiffDateDeltaCols=[]\n",
    "listDiffHourCols=[]\n",
    "for item  in  start_end_list:\n",
    "   diff_str=f\"{item[0]}_to_{item[1]}\" \n",
    "   diff_str=diff_str.replace('_datetime','')  \n",
    "   listDiffDateDeltaCols.append(diff_str)\n",
    "   df_all[diff_str]=df_all[item[1]]-df_all[item[0]]\n",
    "    \n",
    "   diff_hour=f'{diff_str}_hour'\n",
    "   listDiffHourCols.append(diff_hour)\n",
    "   df_all[diff_hour] = df_all[diff_str].apply(lambda x:  x.total_seconds() / (60*60) if x is not np.nan else np.nan  )\n",
    "\n",
    "df_all[listDiffHourCols].tail(5)"
   ]
  },
  {
   "cell_type": "code",
   "execution_count": 32,
   "id": "052b2968-c33d-4044-b05e-6824d54e3f13",
   "metadata": {},
   "outputs": [
    {
     "data": {
      "text/html": [
       "<div>\n",
       "<style scoped>\n",
       "    .dataframe tbody tr th:only-of-type {\n",
       "        vertical-align: middle;\n",
       "    }\n",
       "\n",
       "    .dataframe tbody tr th {\n",
       "        vertical-align: top;\n",
       "    }\n",
       "\n",
       "    .dataframe thead th {\n",
       "        text-align: right;\n",
       "    }\n",
       "</style>\n",
       "<table border=\"1\" class=\"dataframe\">\n",
       "  <thead>\n",
       "    <tr style=\"text-align: right;\">\n",
       "      <th></th>\n",
       "      <th>open_to_close_hour</th>\n",
       "      <th>open_to_response_hour</th>\n",
       "      <th>response_to_resolved_hour</th>\n",
       "    </tr>\n",
       "  </thead>\n",
       "  <tbody>\n",
       "    <tr>\n",
       "      <th>count</th>\n",
       "      <td>2418.000000</td>\n",
       "      <td>2418.000000</td>\n",
       "      <td>2418.000000</td>\n",
       "    </tr>\n",
       "    <tr>\n",
       "      <th>mean</th>\n",
       "      <td>174.198229</td>\n",
       "      <td>3.967894</td>\n",
       "      <td>133.719279</td>\n",
       "    </tr>\n",
       "    <tr>\n",
       "      <th>std</th>\n",
       "      <td>739.248077</td>\n",
       "      <td>39.531696</td>\n",
       "      <td>681.510174</td>\n",
       "    </tr>\n",
       "    <tr>\n",
       "      <th>min</th>\n",
       "      <td>0.000000</td>\n",
       "      <td>0.000000</td>\n",
       "      <td>0.000000</td>\n",
       "    </tr>\n",
       "    <tr>\n",
       "      <th>5%</th>\n",
       "      <td>0.966667</td>\n",
       "      <td>0.000000</td>\n",
       "      <td>0.166667</td>\n",
       "    </tr>\n",
       "    <tr>\n",
       "      <th>25%</th>\n",
       "      <td>4.066667</td>\n",
       "      <td>0.050000</td>\n",
       "      <td>2.670833</td>\n",
       "    </tr>\n",
       "    <tr>\n",
       "      <th>50%</th>\n",
       "      <td>8.891667</td>\n",
       "      <td>0.166667</td>\n",
       "      <td>6.666667</td>\n",
       "    </tr>\n",
       "    <tr>\n",
       "      <th>75%</th>\n",
       "      <td>48.000000</td>\n",
       "      <td>0.500000</td>\n",
       "      <td>26.000000</td>\n",
       "    </tr>\n",
       "    <tr>\n",
       "      <th>95%</th>\n",
       "      <td>810.216667</td>\n",
       "      <td>7.858333</td>\n",
       "      <td>503.682500</td>\n",
       "    </tr>\n",
       "    <tr>\n",
       "      <th>max</th>\n",
       "      <td>13177.250000</td>\n",
       "      <td>1152.133333</td>\n",
       "      <td>13176.250000</td>\n",
       "    </tr>\n",
       "  </tbody>\n",
       "</table>\n",
       "</div>"
      ],
      "text/plain": [
       "       open_to_close_hour  open_to_response_hour  response_to_resolved_hour\n",
       "count         2418.000000            2418.000000                2418.000000\n",
       "mean           174.198229               3.967894                 133.719279\n",
       "std            739.248077              39.531696                 681.510174\n",
       "min              0.000000               0.000000                   0.000000\n",
       "5%               0.966667               0.000000                   0.166667\n",
       "25%              4.066667               0.050000                   2.670833\n",
       "50%              8.891667               0.166667                   6.666667\n",
       "75%             48.000000               0.500000                  26.000000\n",
       "95%            810.216667               7.858333                 503.682500\n",
       "max          13177.250000            1152.133333               13176.250000"
      ]
     },
     "execution_count": 32,
     "metadata": {},
     "output_type": "execute_result"
    }
   ],
   "source": [
    "df_all[listDiffHourCols].describe(percentiles=[.95,.75,.50,.25,.05])"
   ]
  },
  {
   "cell_type": "code",
   "execution_count": 33,
   "id": "a6e64f14-35f5-4d07-926b-df6581775e22",
   "metadata": {},
   "outputs": [
    {
     "name": "stdout",
     "output_type": "stream",
     "text": [
      "% remove data 2.0\n",
      "<class 'pandas.core.frame.DataFrame'>\n",
      "Int64Index: 2367 entries, 0 to 2417\n",
      "Data columns (total 24 columns):\n",
      " #   Column                            Non-Null Count  Dtype          \n",
      "---  ------                            --------------  -----          \n",
      " 0   id                                2367 non-null   Int64          \n",
      " 1   severity_id                       2367 non-null   Int64          \n",
      " 2   severity_name                     2367 non-null   object         \n",
      " 3   count_detail                      2367 non-null   Int64          \n",
      " 4   sla                               2367 non-null   object         \n",
      " 5   product_type                      2367 non-null   object         \n",
      " 6   brand                             2367 non-null   object         \n",
      " 7   service_type                      2367 non-null   object         \n",
      " 8   incident_type                     2367 non-null   object         \n",
      " 9   open_datetime                     2367 non-null   datetime64[ns] \n",
      " 10  close_datetime                    2367 non-null   datetime64[ns] \n",
      " 11  response_datetime                 2367 non-null   datetime64[ns] \n",
      " 12  resolved_datetime                 2367 non-null   datetime64[ns] \n",
      " 13  updated_at                        2367 non-null   datetime64[ns] \n",
      " 14  imported_at                       2367 non-null   datetime64[ns] \n",
      " 15  open_to_close                     2367 non-null   timedelta64[ns]\n",
      " 16  open_to_close_hour                2367 non-null   float64        \n",
      " 17  open_to_response                  2367 non-null   timedelta64[ns]\n",
      " 18  open_to_response_hour             2367 non-null   float64        \n",
      " 19  response_to_resolved              2367 non-null   timedelta64[ns]\n",
      " 20  response_to_resolved_hour         2367 non-null   float64        \n",
      " 21  zscore_open_to_close_hour         2367 non-null   float64        \n",
      " 22  zscore_open_to_response_hour      2367 non-null   float64        \n",
      " 23  zscore_response_to_resolved_hour  2367 non-null   float64        \n",
      "dtypes: Int64(3), datetime64[ns](6), float64(6), object(6), timedelta64[ns](3)\n",
      "memory usage: 469.2+ KB\n",
      "None\n"
     ]
    }
   ],
   "source": [
    "# https://www.geeksforgeeks.org/z-score-for-outlier-detection-python/\n",
    "xScoreDiffHourCols=[]\n",
    "for col in listDiffHourCols:\n",
    "  z_col=f\"zscore_{col}\"   \n",
    "  df_all[z_col] = np.abs(stats.zscore(df_all[col]))   \n",
    "  xScoreDiffHourCols.append(z_col)  \n",
    "#remove oulier\n",
    "\n",
    "for col in  xScoreDiffHourCols:\n",
    "  df_all=df_all.query(f\"{col}<@threshold_x_sd\")\n",
    "\n",
    "\n",
    "no_rows_after_removing_outlier=len(df_all)\n",
    "pct_row_decrease=round( (no_original_rows-no_rows_after_removing_outlier)/no_original_rows*100 ,0)\n",
    "\n",
    "print(f\"% remove data {pct_row_decrease}\")\n",
    "\n",
    "print(df_all.info())"
   ]
  },
  {
   "cell_type": "code",
   "execution_count": 34,
   "id": "3e1e222b-4540-44cd-98db-060e3ce2395f",
   "metadata": {},
   "outputs": [
    {
     "name": "stdout",
     "output_type": "stream",
     "text": [
      "No. 0-hour row on count_detail = 116(4.9 %)\n",
      "No. 0-hour row on open_to_close_hour = 1(0.0 %)\n",
      "No. 0-hour row on open_to_response_hour = 454(19.2 %)\n",
      "No. 0-hour row on response_to_resolved_hour = 99(4.2 %)\n"
     ]
    }
   ],
   "source": [
    "allRows=df_all.shape[0]\n",
    "for col in numbericCols:\n",
    "    zeroRows=len(df_all.query(f\"{col}==0\"))\n",
    "    pctZeroHour=round(zeroRows/allRows*100,1)\n",
    "    print(f\"No. 0-hour row on {col} = {zeroRows}({pctZeroHour} %)\")\n",
    "    \n"
   ]
  },
  {
   "cell_type": "code",
   "execution_count": 35,
   "id": "937928cf-0094-45e6-bf8b-63af23ee19b8",
   "metadata": {},
   "outputs": [
    {
     "name": "stdout",
     "output_type": "stream",
     "text": [
      "open_to_close_hour\n",
      "(0, 24]        1602\n",
      "(24, 168]       484\n",
      "(168, 360]      121\n",
      "(720, 2349]      94\n",
      "(360, 720]       64\n",
      "Name: open_to_close_hour, dtype: int64\n",
      "=======================================================\n",
      "response_to_resolved_hour\n",
      "(0, 24]        1673\n",
      "(24, 168]       390\n",
      "(168, 360]       96\n",
      "(720, 2016]      62\n",
      "(360, 720]       46\n",
      "Name: response_to_resolved_hour, dtype: int64\n",
      "=======================================================\n"
     ]
    }
   ],
   "source": [
    "def explore_ranges_numberic_val(col,rangeList):\n",
    "    print(col)\n",
    "    rangeList.sort()\n",
    "    return pd.cut(df_all[col],rangeList, right=True).value_counts()\n",
    "\n",
    "range1= [0,24, 168, 360, 720,math.floor(df_all['open_to_close_hour'].max())]\n",
    "print(explore_ranges_numberic_val('open_to_close_hour',range1))\n",
    "print(\"=======================================================\")\n",
    "\n",
    "range2= [0,24, 168, 360, 720,math.floor(df_all['response_to_resolved_hour'].max())]\n",
    "print(explore_ranges_numberic_val('response_to_resolved_hour',range2))\n",
    "print(\"=======================================================\")\n",
    "\n"
   ]
  },
  {
   "cell_type": "code",
   "execution_count": 36,
   "id": "848a2855-5f32-4a1d-a48f-66ecfeab6b00",
   "metadata": {},
   "outputs": [
    {
     "name": "stdout",
     "output_type": "stream",
     "text": [
      "count_detail\n",
      "(0, 2]     1787\n",
      "(2, 4]      281\n",
      "(4, 36]     183\n",
      "Name: count_detail, dtype: int64\n",
      "=======================================================\n"
     ]
    }
   ],
   "source": [
    "range4= [0,2, 4,math.floor(df_all['count_detail'].max())]\n",
    "print(explore_ranges_numberic_val('count_detail',range4))\n",
    "print(\"=======================================================\")"
   ]
  },
  {
   "cell_type": "code",
   "execution_count": 37,
   "id": "db28d35c-1172-41c4-995a-55ed1f4676dc",
   "metadata": {},
   "outputs": [
    {
     "name": "stdout",
     "output_type": "stream",
     "text": [
      "<class 'pandas.core.frame.DataFrame'>\n",
      "Int64Index: 2268 entries, 0 to 2417\n",
      "Data columns (total 24 columns):\n",
      " #   Column                            Non-Null Count  Dtype          \n",
      "---  ------                            --------------  -----          \n",
      " 0   id                                2268 non-null   Int64          \n",
      " 1   severity_id                       2268 non-null   Int64          \n",
      " 2   severity_name                     2268 non-null   object         \n",
      " 3   count_detail                      2268 non-null   Int64          \n",
      " 4   sla                               2268 non-null   object         \n",
      " 5   product_type                      2268 non-null   object         \n",
      " 6   brand                             2268 non-null   object         \n",
      " 7   service_type                      2268 non-null   object         \n",
      " 8   incident_type                     2268 non-null   object         \n",
      " 9   open_datetime                     2268 non-null   datetime64[ns] \n",
      " 10  close_datetime                    2268 non-null   datetime64[ns] \n",
      " 11  response_datetime                 2268 non-null   datetime64[ns] \n",
      " 12  resolved_datetime                 2268 non-null   datetime64[ns] \n",
      " 13  updated_at                        2268 non-null   datetime64[ns] \n",
      " 14  imported_at                       2268 non-null   datetime64[ns] \n",
      " 15  open_to_close                     2268 non-null   timedelta64[ns]\n",
      " 16  open_to_close_hour                2268 non-null   float64        \n",
      " 17  open_to_response                  2268 non-null   timedelta64[ns]\n",
      " 18  open_to_response_hour             2268 non-null   float64        \n",
      " 19  response_to_resolved              2268 non-null   timedelta64[ns]\n",
      " 20  response_to_resolved_hour         2268 non-null   float64        \n",
      " 21  zscore_open_to_close_hour         2268 non-null   float64        \n",
      " 22  zscore_open_to_response_hour      2268 non-null   float64        \n",
      " 23  zscore_response_to_resolved_hour  2268 non-null   float64        \n",
      "dtypes: Int64(3), datetime64[ns](6), float64(6), object(6), timedelta64[ns](3)\n",
      "memory usage: 449.6+ KB\n"
     ]
    }
   ],
   "source": [
    "df_all=df_all.query('response_to_resolved_hour!=0')\n",
    "df_all.info()"
   ]
  },
  {
   "cell_type": "markdown",
   "id": "aee0abf3-4e8f-455a-91a7-b49ec6ac4dab",
   "metadata": {},
   "source": [
    "# Drop unselected columns"
   ]
  },
  {
   "cell_type": "code",
   "execution_count": 39,
   "id": "effcba9e-96ca-4616-96d6-1319a3b174da",
   "metadata": {},
   "outputs": [
    {
     "name": "stdout",
     "output_type": "stream",
     "text": [
      "<class 'pandas.core.frame.DataFrame'>\n",
      "Int64Index: 2268 entries, 0 to 2417\n",
      "Data columns (total 9 columns):\n",
      " #   Column                     Non-Null Count  Dtype  \n",
      "---  ------                     --------------  -----  \n",
      " 0   severity_id                2268 non-null   Int64  \n",
      " 1   severity_name              2268 non-null   object \n",
      " 2   sla                        2268 non-null   object \n",
      " 3   product_type               2268 non-null   object \n",
      " 4   brand                      2268 non-null   object \n",
      " 5   service_type               2268 non-null   object \n",
      " 6   incident_type              2268 non-null   object \n",
      " 7   open_to_close_hour         2268 non-null   float64\n",
      " 8   response_to_resolved_hour  2268 non-null   float64\n",
      "dtypes: Int64(1), float64(2), object(6)\n",
      "memory usage: 179.4+ KB\n"
     ]
    }
   ],
   "source": [
    "numColsRemove=['open_to_response_hour','count_detail'] \n",
    "numbericCols=[x for x in numbericCols if x not in numColsRemove]   \n",
    "numbericCols\n",
    "\n",
    "removeCols=removeCols+dateCols+xScoreDiffHourCols+listDiffDateDeltaCols+numColsRemove\n",
    "df_all=df_all.drop(columns=removeCols)\n",
    "df_all.info()"
   ]
  },
  {
   "cell_type": "markdown",
   "id": "bc8a1374-25e6-4629-b9db-db1971a49e91",
   "metadata": {},
   "source": [
    "# Visualize  Data"
   ]
  }
 ],
 "metadata": {
  "kernelspec": {
   "display_name": "Python 3 (ipykernel)",
   "language": "python",
   "name": "python3"
  },
  "language_info": {
   "codemirror_mode": {
    "name": "ipython",
    "version": 3
   },
   "file_extension": ".py",
   "mimetype": "text/x-python",
   "name": "python",
   "nbconvert_exporter": "python",
   "pygments_lexer": "ipython3",
   "version": "3.9.16"
  }
 },
 "nbformat": 4,
 "nbformat_minor": 5
}
