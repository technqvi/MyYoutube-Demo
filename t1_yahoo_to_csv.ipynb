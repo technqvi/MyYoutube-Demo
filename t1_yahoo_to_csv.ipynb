{
 "cells": [
  {
   "cell_type": "markdown",
   "id": "cf6f9246-8e11-4355-80c6-b961032cc304",
   "metadata": {},
   "source": [
    "# Get ETF Fund Price From Finance Yahoo"
   ]
  },
  {
   "cell_type": "markdown",
   "id": "7ba383a7-c411-464a-a471-90c5b73ca73e",
   "metadata": {},
   "source": [
    "## Introduction"
   ]
  },
  {
   "cell_type": "markdown",
   "id": "fc3fa373-8192-4f1b-bdae-b73ef5b14e0f",
   "metadata": {},
   "source": [
    "we will get data from yahoo by looping through list using yf.download, return value from invoking this function is dataframe. we will transform dataframe by pandas package correspondoing my particular format , we will append each into main dataframe , and finally we write the main data as csv file"
   ]
  },
  {
   "cell_type": "markdown",
   "id": "2eee9281-88c7-4c9d-93b3-d3faf4f0dfb9",
   "metadata": {},
   "source": [
    "Link reference\n",
    "* [yfinance github](https://github.com/ranaroussi/yfinance)\n",
    "* [getting started with Pandas by 10 minutes]( https://pandas.pydata.org/docs/user_guide/10min.html )"
   ]
  },
  {
   "cell_type": "code",
   "execution_count": 16,
   "id": "a99e251a-5dd5-41a3-b273-694e85811f47",
   "metadata": {},
   "outputs": [],
   "source": [
    "import pandas as pd\n",
    "import yfinance as yf\n",
    "from datetime import datetime\n"
   ]
  },
  {
   "cell_type": "code",
   "execution_count": 17,
   "id": "a6121257-240b-4609-8744-be5cb98cfc8f",
   "metadata": {},
   "outputs": [],
   "source": [
    "# symbol_list=['ACWI','QQQ','AAXJ','GLD']\n",
    "symbol_list=['ACWI','QQQ']\n",
    "\n",
    "list_cols=['Ticker','Date/Time','open','high','low','close','volume']\n",
    "output_file=r'data/4CoreETFWorld.csv'"
   ]
  },
  {
   "cell_type": "code",
   "execution_count": 18,
   "id": "283a6da6-eee1-4321-a2a5-83a2c7cb4b54",
   "metadata": {},
   "outputs": [
    {
     "name": "stdout",
     "output_type": "stream",
     "text": [
      "Get data of ['ACWI', 'QQQ'] from :2023-03-01 to 2023-03-03\n"
     ]
    }
   ],
   "source": [
    "from_date_str='2023-04-01'\n",
    "to_date_str='2023-03-03'\n",
    "print(f\"Get data of {symbol_list} from :{from_date_str} to {to_date_str}\")"
   ]
  },
  {
   "cell_type": "code",
   "execution_count": 19,
   "id": "80e2b6f2-63b3-4ec7-bf52-89ff1d89560c",
   "metadata": {},
   "outputs": [
    {
     "data": {
      "text/html": [
       "<div>\n",
       "<style scoped>\n",
       "    .dataframe tbody tr th:only-of-type {\n",
       "        vertical-align: middle;\n",
       "    }\n",
       "\n",
       "    .dataframe tbody tr th {\n",
       "        vertical-align: top;\n",
       "    }\n",
       "\n",
       "    .dataframe thead th {\n",
       "        text-align: right;\n",
       "    }\n",
       "</style>\n",
       "<table border=\"1\" class=\"dataframe\">\n",
       "  <thead>\n",
       "    <tr style=\"text-align: right;\">\n",
       "      <th></th>\n",
       "      <th>Ticker</th>\n",
       "      <th>Date/Time</th>\n",
       "      <th>open</th>\n",
       "      <th>high</th>\n",
       "      <th>low</th>\n",
       "      <th>close</th>\n",
       "      <th>volume</th>\n",
       "    </tr>\n",
       "  </thead>\n",
       "  <tbody>\n",
       "  </tbody>\n",
       "</table>\n",
       "</div>"
      ],
      "text/plain": [
       "Empty DataFrame\n",
       "Columns: [Ticker, Date/Time, open, high, low, close, volume]\n",
       "Index: []"
      ]
     },
     "execution_count": 19,
     "metadata": {},
     "output_type": "execute_result"
    }
   ],
   "source": [
    "dfMain=pd.DataFrame(columns=list_cols)\n",
    "dfMain\n"
   ]
  },
  {
   "cell_type": "code",
   "execution_count": 20,
   "id": "7db43ccc-27b3-415b-8a3a-9910efe4b09a",
   "metadata": {},
   "outputs": [
    {
     "name": "stdout",
     "output_type": "stream",
     "text": [
      "[*********************100%***********************]  1 of 1 completed\n",
      "==============ACWI=============\n",
      "  Ticker   Date/Time       open       high        low      close   volume\n",
      "0   ACWI  01/03/2023  88.529999  88.809998  88.129997  88.410004  3307700\n",
      "1   ACWI  02/03/2023  87.940002  89.080002  87.830002  88.889999  5607400\n",
      "[*********************100%***********************]  1 of 1 completed\n",
      "==============QQQ=============\n",
      "  Ticker   Date/Time        open        high         low       close    volume\n",
      "0    QQQ  01/03/2023  293.260010  293.929993  290.200012  291.200012  58287000\n",
      "1    QQQ  02/03/2023  288.660004  294.429993  288.369995  293.609985  53565900\n"
     ]
    }
   ],
   "source": [
    "for symbol in symbol_list:\n",
    "    \n",
    "    dfx=yf.download(tickers=symbol,start=from_date_str,end=to_date_str)\n",
    "\n",
    "    if dfx.empty==False:\n",
    "      print(f\"=============={symbol}=============\")  \n",
    "      dfx.drop(columns=['Adj Close'],inplace=True)\n",
    "      dfx.reset_index(drop=False,inplace=True)  \n",
    "      dfx['Date']=dfx['Date'].dt.strftime('%d/%m/%Y')\n",
    "      dfx.insert(0,'Ticker',symbol,True)\n",
    "      dfx.columns=list_cols \n",
    "      print(dfx)\n",
    "    \n",
    "      dfMain=pd.concat([dfMain,dfx],axis=0)\n",
    "\n",
    "\n",
    "    else:\n",
    "      print(f\"Not found {symbol} in finance.yahoo.com\")"
   ]
  },
  {
   "cell_type": "code",
   "execution_count": 21,
   "id": "90200682-17bd-4548-9405-f971a18248a4",
   "metadata": {},
   "outputs": [
    {
     "data": {
      "text/html": [
       "<div>\n",
       "<style scoped>\n",
       "    .dataframe tbody tr th:only-of-type {\n",
       "        vertical-align: middle;\n",
       "    }\n",
       "\n",
       "    .dataframe tbody tr th {\n",
       "        vertical-align: top;\n",
       "    }\n",
       "\n",
       "    .dataframe thead th {\n",
       "        text-align: right;\n",
       "    }\n",
       "</style>\n",
       "<table border=\"1\" class=\"dataframe\">\n",
       "  <thead>\n",
       "    <tr style=\"text-align: right;\">\n",
       "      <th></th>\n",
       "      <th>Ticker</th>\n",
       "      <th>Date/Time</th>\n",
       "      <th>open</th>\n",
       "      <th>high</th>\n",
       "      <th>low</th>\n",
       "      <th>close</th>\n",
       "      <th>volume</th>\n",
       "    </tr>\n",
       "  </thead>\n",
       "  <tbody>\n",
       "    <tr>\n",
       "      <th>0</th>\n",
       "      <td>ACWI</td>\n",
       "      <td>01/03/2023</td>\n",
       "      <td>88.529999</td>\n",
       "      <td>88.809998</td>\n",
       "      <td>88.129997</td>\n",
       "      <td>88.410004</td>\n",
       "      <td>3307700</td>\n",
       "    </tr>\n",
       "    <tr>\n",
       "      <th>1</th>\n",
       "      <td>ACWI</td>\n",
       "      <td>02/03/2023</td>\n",
       "      <td>87.940002</td>\n",
       "      <td>89.080002</td>\n",
       "      <td>87.830002</td>\n",
       "      <td>88.889999</td>\n",
       "      <td>5607400</td>\n",
       "    </tr>\n",
       "    <tr>\n",
       "      <th>0</th>\n",
       "      <td>QQQ</td>\n",
       "      <td>01/03/2023</td>\n",
       "      <td>293.260010</td>\n",
       "      <td>293.929993</td>\n",
       "      <td>290.200012</td>\n",
       "      <td>291.200012</td>\n",
       "      <td>58287000</td>\n",
       "    </tr>\n",
       "    <tr>\n",
       "      <th>1</th>\n",
       "      <td>QQQ</td>\n",
       "      <td>02/03/2023</td>\n",
       "      <td>288.660004</td>\n",
       "      <td>294.429993</td>\n",
       "      <td>288.369995</td>\n",
       "      <td>293.609985</td>\n",
       "      <td>53565900</td>\n",
       "    </tr>\n",
       "  </tbody>\n",
       "</table>\n",
       "</div>"
      ],
      "text/plain": [
       "  Ticker   Date/Time        open        high         low       close    volume\n",
       "0   ACWI  01/03/2023   88.529999   88.809998   88.129997   88.410004   3307700\n",
       "1   ACWI  02/03/2023   87.940002   89.080002   87.830002   88.889999   5607400\n",
       "0    QQQ  01/03/2023  293.260010  293.929993  290.200012  291.200012  58287000\n",
       "1    QQQ  02/03/2023  288.660004  294.429993  288.369995  293.609985  53565900"
      ]
     },
     "execution_count": 21,
     "metadata": {},
     "output_type": "execute_result"
    }
   ],
   "source": [
    "dfMain"
   ]
  },
  {
   "cell_type": "code",
   "execution_count": 8,
   "id": "c30886c1-25f4-4b21-8843-83d919aa05b2",
   "metadata": {},
   "outputs": [],
   "source": [
    "dfMain.to_csv(output_file,index=False)"
   ]
  },
  {
   "cell_type": "code",
   "execution_count": null,
   "id": "d2fb04cb-f82a-4969-a9b9-ca17fc229d3b",
   "metadata": {},
   "outputs": [],
   "source": []
  },
  {
   "cell_type": "code",
   "execution_count": null,
   "id": "bd524a22-69fe-4b88-b91d-83df6bcbfde7",
   "metadata": {},
   "outputs": [],
   "source": []
  }
 ],
 "metadata": {
  "kernelspec": {
   "display_name": "Python 3 (ipykernel)",
   "language": "python",
   "name": "python3"
  },
  "language_info": {
   "codemirror_mode": {
    "name": "ipython",
    "version": 3
   },
   "file_extension": ".py",
   "mimetype": "text/x-python",
   "name": "python",
   "nbconvert_exporter": "python",
   "pygments_lexer": "ipython3",
   "version": "3.9.16"
  }
 },
 "nbformat": 4,
 "nbformat_minor": 5
}
