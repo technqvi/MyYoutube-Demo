{
 "cells": [
  {
   "cell_type": "markdown",
   "id": "cf6f9246-8e11-4355-80c6-b961032cc304",
   "metadata": {},
   "source": [
    "# Get ETF Fund Price From Finance Yahoo"
   ]
  },
  {
   "cell_type": "markdown",
   "id": "7ba383a7-c411-464a-a471-90c5b73ca73e",
   "metadata": {},
   "source": [
    "## Introduction"
   ]
  },
  {
   "cell_type": "markdown",
   "id": "fc3fa373-8192-4f1b-bdae-b73ef5b14e0f",
   "metadata": {},
   "source": [
    "we will get data from yahoo by looping through list using yf.download, return value from invoking this function is dataframe. we will transform dataframe by pandas package correspondoing my particular format , we will append each into main dataframe , and finally we write the main data as csv file"
   ]
  },
  {
   "cell_type": "markdown",
   "id": "2eee9281-88c7-4c9d-93b3-d3faf4f0dfb9",
   "metadata": {},
   "source": [
    "Link reference\n",
    "* [yfinance github](https://github.com/ranaroussi/yfinance)\n",
    "* [getting started with Pandas by 10 minutes]( https://pandas.pydata.org/docs/user_guide/10min.html )"
   ]
  },
  {
   "cell_type": "code",
   "execution_count": 5,
   "id": "a99e251a-5dd5-41a3-b273-694e85811f47",
   "metadata": {},
   "outputs": [],
   "source": [
    "import pandas as pd\n",
    "import yfinance as yf\n",
    "from datetime import datetime\n"
   ]
  },
  {
   "cell_type": "code",
   "execution_count": 6,
   "id": "a6121257-240b-4609-8744-be5cb98cfc8f",
   "metadata": {},
   "outputs": [],
   "source": [
    "# symbol_list=['ACWI','QQQ','AAXJ','GLD']\n",
    "symbol_list=['SPY','ACWI']\n",
    "#symbol_list=['QQQ','SPY','ACWI','EXSA.DE','AAXJ','THD']\n",
    "\n",
    "list_cols=['Ticker','Date/Time','open','high','low','close','volume']\n",
    "output_file=r'data/4CoreETFWorld.csv'"
   ]
  },
  {
   "cell_type": "code",
   "execution_count": 7,
   "id": "283a6da6-eee1-4321-a2a5-83a2c7cb4b54",
   "metadata": {},
   "outputs": [
    {
     "name": "stdout",
     "output_type": "stream",
     "text": [
      "Get data of ['SPY', 'ACWI'] from :2023-07-01 to 2023-09-30\n"
     ]
    }
   ],
   "source": [
    "from_date_str='2023-07-01'\n",
    "to_date_str='2023-09-30'\n",
    "print(f\"Get data of {symbol_list} from :{from_date_str} to {to_date_str}\")"
   ]
  },
  {
   "cell_type": "code",
   "execution_count": 8,
   "id": "80e2b6f2-63b3-4ec7-bf52-89ff1d89560c",
   "metadata": {},
   "outputs": [
    {
     "data": {
      "text/html": [
       "<div>\n",
       "<style scoped>\n",
       "    .dataframe tbody tr th:only-of-type {\n",
       "        vertical-align: middle;\n",
       "    }\n",
       "\n",
       "    .dataframe tbody tr th {\n",
       "        vertical-align: top;\n",
       "    }\n",
       "\n",
       "    .dataframe thead th {\n",
       "        text-align: right;\n",
       "    }\n",
       "</style>\n",
       "<table border=\"1\" class=\"dataframe\">\n",
       "  <thead>\n",
       "    <tr style=\"text-align: right;\">\n",
       "      <th></th>\n",
       "      <th>Ticker</th>\n",
       "      <th>Date/Time</th>\n",
       "      <th>open</th>\n",
       "      <th>high</th>\n",
       "      <th>low</th>\n",
       "      <th>close</th>\n",
       "      <th>volume</th>\n",
       "    </tr>\n",
       "  </thead>\n",
       "  <tbody>\n",
       "  </tbody>\n",
       "</table>\n",
       "</div>"
      ],
      "text/plain": [
       "Empty DataFrame\n",
       "Columns: [Ticker, Date/Time, open, high, low, close, volume]\n",
       "Index: []"
      ]
     },
     "execution_count": 8,
     "metadata": {},
     "output_type": "execute_result"
    }
   ],
   "source": [
    "dfMain=pd.DataFrame(columns=list_cols)\n",
    "dfMain\n"
   ]
  },
  {
   "cell_type": "code",
   "execution_count": 9,
   "id": "7db43ccc-27b3-415b-8a3a-9910efe4b09a",
   "metadata": {},
   "outputs": [
    {
     "name": "stdout",
     "output_type": "stream",
     "text": [
      "[*********************100%***********************]  1 of 1 completed\n",
      "==============SPY=============\n",
      "   Ticker   Date/Time        open        high         low       close  \\\n",
      "0     SPY  03/07/2023  442.920013  444.079987  442.630005  443.790009   \n",
      "1     SPY  05/07/2023  441.910004  443.890015  441.899994  443.130005   \n",
      "2     SPY  06/07/2023  439.420013  440.100006  437.059998  439.660004   \n",
      "3     SPY  07/07/2023  438.630005  442.640015  438.299988  438.549988   \n",
      "4     SPY  10/07/2023  438.179993  439.839996  437.589996  439.660004   \n",
      "..    ...         ...         ...         ...         ...         ...   \n",
      "58    SPY  25/09/2023  429.170013  432.269989  428.720001  432.230011   \n",
      "59    SPY  26/09/2023  429.089996  429.820007  425.019989  425.880005   \n",
      "60    SPY  27/09/2023  427.089996  427.670013  422.290009  426.049988   \n",
      "61    SPY  28/09/2023  425.480011  430.250000  424.869995  428.519989   \n",
      "62    SPY  29/09/2023  431.670013  431.850006  425.910004  427.480011   \n",
      "\n",
      "       volume  \n",
      "0    32793400  \n",
      "1    58418400  \n",
      "2    80658300  \n",
      "3    86076100  \n",
      "4    62443500  \n",
      "..        ...  \n",
      "58   70874500  \n",
      "59   96168400  \n",
      "60  104705800  \n",
      "61   92258300  \n",
      "62  115078500  \n",
      "\n",
      "[63 rows x 7 columns]\n",
      "[*********************100%***********************]  1 of 1 completed\n",
      "==============ACWI=============\n",
      "   Ticker   Date/Time       open       high        low      close   volume\n",
      "0    ACWI  03/07/2023  96.019997  96.220001  95.970001  96.169998  1508900\n",
      "1    ACWI  05/07/2023  95.680000  95.849998  95.529999  95.699997  3163500\n",
      "2    ACWI  06/07/2023  94.620003  94.660004  93.980003  94.519997  2127100\n",
      "3    ACWI  07/07/2023  94.480003  95.419998  94.440002  94.709999   949000\n",
      "4    ACWI  10/07/2023  94.570000  94.970001  94.570000  94.949997  1066400\n",
      "..    ...         ...        ...        ...        ...        ...      ...\n",
      "58   ACWI  25/09/2023  92.809998  93.389999  92.750000  93.379997  1647100\n",
      "59   ACWI  26/09/2023  92.699997  92.879997  91.900002  92.019997  4868200\n",
      "60   ACWI  27/09/2023  92.379997  92.459999  91.320000  92.059998  2563100\n",
      "61   ACWI  28/09/2023  91.989998  92.940002  91.820000  92.629997  2619000\n",
      "62   ACWI  29/09/2023  93.449997  93.449997  92.160004  92.370003  2476000\n",
      "\n",
      "[63 rows x 7 columns]\n"
     ]
    }
   ],
   "source": [
    "for symbol in symbol_list:\n",
    "    \n",
    "    dfx=yf.download(tickers=symbol,start=from_date_str,end=to_date_str)\n",
    "\n",
    "    if dfx.empty==False:\n",
    "      print(f\"=============={symbol}=============\")  \n",
    "      dfx.drop(columns=['Adj Close'],inplace=True)\n",
    "      dfx.reset_index(drop=False,inplace=True)  \n",
    "      dfx['Date']=dfx['Date'].dt.strftime('%d/%m/%Y')\n",
    "      dfx.insert(0,'Ticker',symbol,True)\n",
    "      dfx.columns=list_cols \n",
    "      print(dfx)\n",
    "    \n",
    "      dfMain=pd.concat([dfMain,dfx],axis=0)\n",
    "\n",
    "\n",
    "    else:\n",
    "      print(f\"Not found {symbol} in finance.yahoo.com\")"
   ]
  },
  {
   "cell_type": "code",
   "execution_count": 10,
   "id": "90200682-17bd-4548-9405-f971a18248a4",
   "metadata": {},
   "outputs": [
    {
     "data": {
      "text/html": [
       "<div>\n",
       "<style scoped>\n",
       "    .dataframe tbody tr th:only-of-type {\n",
       "        vertical-align: middle;\n",
       "    }\n",
       "\n",
       "    .dataframe tbody tr th {\n",
       "        vertical-align: top;\n",
       "    }\n",
       "\n",
       "    .dataframe thead th {\n",
       "        text-align: right;\n",
       "    }\n",
       "</style>\n",
       "<table border=\"1\" class=\"dataframe\">\n",
       "  <thead>\n",
       "    <tr style=\"text-align: right;\">\n",
       "      <th></th>\n",
       "      <th>Ticker</th>\n",
       "      <th>Date/Time</th>\n",
       "      <th>open</th>\n",
       "      <th>high</th>\n",
       "      <th>low</th>\n",
       "      <th>close</th>\n",
       "      <th>volume</th>\n",
       "    </tr>\n",
       "  </thead>\n",
       "  <tbody>\n",
       "    <tr>\n",
       "      <th>0</th>\n",
       "      <td>SPY</td>\n",
       "      <td>03/07/2023</td>\n",
       "      <td>442.920013</td>\n",
       "      <td>444.079987</td>\n",
       "      <td>442.630005</td>\n",
       "      <td>443.790009</td>\n",
       "      <td>32793400</td>\n",
       "    </tr>\n",
       "    <tr>\n",
       "      <th>1</th>\n",
       "      <td>SPY</td>\n",
       "      <td>05/07/2023</td>\n",
       "      <td>441.910004</td>\n",
       "      <td>443.890015</td>\n",
       "      <td>441.899994</td>\n",
       "      <td>443.130005</td>\n",
       "      <td>58418400</td>\n",
       "    </tr>\n",
       "    <tr>\n",
       "      <th>2</th>\n",
       "      <td>SPY</td>\n",
       "      <td>06/07/2023</td>\n",
       "      <td>439.420013</td>\n",
       "      <td>440.100006</td>\n",
       "      <td>437.059998</td>\n",
       "      <td>439.660004</td>\n",
       "      <td>80658300</td>\n",
       "    </tr>\n",
       "    <tr>\n",
       "      <th>3</th>\n",
       "      <td>SPY</td>\n",
       "      <td>07/07/2023</td>\n",
       "      <td>438.630005</td>\n",
       "      <td>442.640015</td>\n",
       "      <td>438.299988</td>\n",
       "      <td>438.549988</td>\n",
       "      <td>86076100</td>\n",
       "    </tr>\n",
       "    <tr>\n",
       "      <th>4</th>\n",
       "      <td>SPY</td>\n",
       "      <td>10/07/2023</td>\n",
       "      <td>438.179993</td>\n",
       "      <td>439.839996</td>\n",
       "      <td>437.589996</td>\n",
       "      <td>439.660004</td>\n",
       "      <td>62443500</td>\n",
       "    </tr>\n",
       "    <tr>\n",
       "      <th>...</th>\n",
       "      <td>...</td>\n",
       "      <td>...</td>\n",
       "      <td>...</td>\n",
       "      <td>...</td>\n",
       "      <td>...</td>\n",
       "      <td>...</td>\n",
       "      <td>...</td>\n",
       "    </tr>\n",
       "    <tr>\n",
       "      <th>58</th>\n",
       "      <td>ACWI</td>\n",
       "      <td>25/09/2023</td>\n",
       "      <td>92.809998</td>\n",
       "      <td>93.389999</td>\n",
       "      <td>92.750000</td>\n",
       "      <td>93.379997</td>\n",
       "      <td>1647100</td>\n",
       "    </tr>\n",
       "    <tr>\n",
       "      <th>59</th>\n",
       "      <td>ACWI</td>\n",
       "      <td>26/09/2023</td>\n",
       "      <td>92.699997</td>\n",
       "      <td>92.879997</td>\n",
       "      <td>91.900002</td>\n",
       "      <td>92.019997</td>\n",
       "      <td>4868200</td>\n",
       "    </tr>\n",
       "    <tr>\n",
       "      <th>60</th>\n",
       "      <td>ACWI</td>\n",
       "      <td>27/09/2023</td>\n",
       "      <td>92.379997</td>\n",
       "      <td>92.459999</td>\n",
       "      <td>91.320000</td>\n",
       "      <td>92.059998</td>\n",
       "      <td>2563100</td>\n",
       "    </tr>\n",
       "    <tr>\n",
       "      <th>61</th>\n",
       "      <td>ACWI</td>\n",
       "      <td>28/09/2023</td>\n",
       "      <td>91.989998</td>\n",
       "      <td>92.940002</td>\n",
       "      <td>91.820000</td>\n",
       "      <td>92.629997</td>\n",
       "      <td>2619000</td>\n",
       "    </tr>\n",
       "    <tr>\n",
       "      <th>62</th>\n",
       "      <td>ACWI</td>\n",
       "      <td>29/09/2023</td>\n",
       "      <td>93.449997</td>\n",
       "      <td>93.449997</td>\n",
       "      <td>92.160004</td>\n",
       "      <td>92.370003</td>\n",
       "      <td>2476000</td>\n",
       "    </tr>\n",
       "  </tbody>\n",
       "</table>\n",
       "<p>126 rows × 7 columns</p>\n",
       "</div>"
      ],
      "text/plain": [
       "   Ticker   Date/Time        open        high         low       close  \\\n",
       "0     SPY  03/07/2023  442.920013  444.079987  442.630005  443.790009   \n",
       "1     SPY  05/07/2023  441.910004  443.890015  441.899994  443.130005   \n",
       "2     SPY  06/07/2023  439.420013  440.100006  437.059998  439.660004   \n",
       "3     SPY  07/07/2023  438.630005  442.640015  438.299988  438.549988   \n",
       "4     SPY  10/07/2023  438.179993  439.839996  437.589996  439.660004   \n",
       "..    ...         ...         ...         ...         ...         ...   \n",
       "58   ACWI  25/09/2023   92.809998   93.389999   92.750000   93.379997   \n",
       "59   ACWI  26/09/2023   92.699997   92.879997   91.900002   92.019997   \n",
       "60   ACWI  27/09/2023   92.379997   92.459999   91.320000   92.059998   \n",
       "61   ACWI  28/09/2023   91.989998   92.940002   91.820000   92.629997   \n",
       "62   ACWI  29/09/2023   93.449997   93.449997   92.160004   92.370003   \n",
       "\n",
       "      volume  \n",
       "0   32793400  \n",
       "1   58418400  \n",
       "2   80658300  \n",
       "3   86076100  \n",
       "4   62443500  \n",
       "..       ...  \n",
       "58   1647100  \n",
       "59   4868200  \n",
       "60   2563100  \n",
       "61   2619000  \n",
       "62   2476000  \n",
       "\n",
       "[126 rows x 7 columns]"
      ]
     },
     "execution_count": 10,
     "metadata": {},
     "output_type": "execute_result"
    }
   ],
   "source": [
    "dfMain"
   ]
  },
  {
   "cell_type": "code",
   "execution_count": 8,
   "id": "c30886c1-25f4-4b21-8843-83d919aa05b2",
   "metadata": {},
   "outputs": [],
   "source": [
    "dfMain.to_csv(output_file,index=False)"
   ]
  },
  {
   "cell_type": "code",
   "execution_count": null,
   "id": "d2fb04cb-f82a-4969-a9b9-ca17fc229d3b",
   "metadata": {},
   "outputs": [],
   "source": []
  },
  {
   "cell_type": "code",
   "execution_count": null,
   "id": "bd524a22-69fe-4b88-b91d-83df6bcbfde7",
   "metadata": {},
   "outputs": [],
   "source": []
  }
 ],
 "metadata": {
  "kernelspec": {
   "display_name": "Python 3 (ipykernel)",
   "language": "python",
   "name": "python3"
  },
  "language_info": {
   "codemirror_mode": {
    "name": "ipython",
    "version": 3
   },
   "file_extension": ".py",
   "mimetype": "text/x-python",
   "name": "python",
   "nbconvert_exporter": "python",
   "pygments_lexer": "ipython3",
   "version": "3.9.16"
  }
 },
 "nbformat": 4,
 "nbformat_minor": 5
}
